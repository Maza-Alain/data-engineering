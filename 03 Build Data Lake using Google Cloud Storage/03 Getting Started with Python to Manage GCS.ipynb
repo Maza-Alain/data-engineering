{
 "cells": [
  {
   "cell_type": "code",
   "execution_count": 17,
   "metadata": {},
   "outputs": [
    {
     "name": "stdout",
     "output_type": "stream",
     "text": [
      "Copying file://../data/retail_db/customers/part-00000 [Content-Type=application/octet-stream]...\n",
      "Copying file://../data/retail_db/products/part-00000 [Content-Type=application/octet-stream]...\n",
      "Copying file://../data/retail_db/departments/part-00000 [Content-Type=application/octet-stream]...\n",
      "Copying file://../data/retail_db/order_items/part-00000 [Content-Type=application/octet-stream]...\n",
      "/ [4 files][  6.2 MiB/  6.2 MiB]                                                \n",
      "==> NOTE: You are performing a sequence of gsutil operations that may\n",
      "run significantly faster if you instead use gsutil -m cp ... Please\n",
      "see the -m section under \"gsutil help options\" for further information\n",
      "about when gsutil -m can be advantageous.\n",
      "\n",
      "Copying file://../data/retail_db/orders/part-00000 [Content-Type=application/octet-stream]...\n",
      "Copying file://../data/retail_db/categories/part-00000 [Content-Type=application/octet-stream]...\n",
      "- [6 files][  9.1 MiB/  9.1 MiB]                                                \n",
      "Operation completed over 6 objects/9.1 MiB.                                      \n"
     ]
    }
   ],
   "source": [
    "!gsutil cp -r ../data/retail_db gs://airetail/"
   ]
  },
  {
   "cell_type": "code",
   "execution_count": 19,
   "metadata": {},
   "outputs": [
    {
     "name": "stdout",
     "output_type": "stream",
     "text": [
      "gs://airetail/retail_db/:\n",
      "\n",
      "gs://airetail/retail_db/categories/:\n",
      "gs://airetail/retail_db/categories/part-00000\n",
      "\n",
      "gs://airetail/retail_db/customers/:\n",
      "gs://airetail/retail_db/customers/part-00000\n",
      "\n",
      "gs://airetail/retail_db/departments/:\n",
      "gs://airetail/retail_db/departments/part-00000\n",
      "\n",
      "gs://airetail/retail_db/order_items/:\n",
      "gs://airetail/retail_db/order_items/part-00000\n",
      "\n",
      "gs://airetail/retail_db/orders/:\n",
      "gs://airetail/retail_db/orders/part-00000\n",
      "\n",
      "gs://airetail/retail_db/products/:\n",
      "gs://airetail/retail_db/products/part-00000\n"
     ]
    }
   ],
   "source": [
    "!gsutil ls -r gs://airetail/"
   ]
  },
  {
   "cell_type": "code",
   "execution_count": 1,
   "metadata": {},
   "outputs": [],
   "source": [
    "from google.cloud import storage"
   ]
  },
  {
   "cell_type": "code",
   "execution_count": 2,
   "metadata": {},
   "outputs": [],
   "source": [
    "gsclient = storage.Client()"
   ]
  },
  {
   "cell_type": "code",
   "execution_count": 7,
   "metadata": {},
   "outputs": [
    {
     "data": {
      "text/plain": [
       "<google.api_core.page_iterator.HTTPIterator at 0x104236310>"
      ]
     },
     "execution_count": 7,
     "metadata": {},
     "output_type": "execute_result"
    }
   ],
   "source": [
    "gsclient.list_buckets()"
   ]
  },
  {
   "cell_type": "code",
   "execution_count": 6,
   "metadata": {},
   "outputs": [
    {
     "data": {
      "text/plain": [
       "[<Bucket: airetail>,\n",
       " <Bucket: dataproc-staging-us-central1-400600597721-5ziv07sw>,\n",
       " <Bucket: dataproc-temp-us-central1-400600597721-cqgprlmi>,\n",
       " <Bucket: gcf-sources-400600597721-us-central1>,\n",
       " <Bucket: gcs-bucket-service-7186-74feb900-57d6-462e-bdca-31d094ae4b95>,\n",
       " <Bucket: us.artifacts.itversity-rnd.appspot.com>]"
      ]
     },
     "execution_count": 6,
     "metadata": {},
     "output_type": "execute_result"
    }
   ],
   "source": [
    "list(gsclient.list_buckets())"
   ]
  },
  {
   "cell_type": "code",
   "execution_count": 8,
   "metadata": {},
   "outputs": [],
   "source": [
    "bucket = list(gsclient.list_buckets())[0]"
   ]
  },
  {
   "cell_type": "code",
   "execution_count": 9,
   "metadata": {},
   "outputs": [
    {
     "data": {
      "text/plain": [
       "<Bucket: airetail>"
      ]
     },
     "execution_count": 9,
     "metadata": {},
     "output_type": "execute_result"
    }
   ],
   "source": [
    "bucket"
   ]
  },
  {
   "cell_type": "code",
   "execution_count": 10,
   "metadata": {},
   "outputs": [
    {
     "data": {
      "text/plain": [
       "'airetail'"
      ]
     },
     "execution_count": 10,
     "metadata": {},
     "output_type": "execute_result"
    }
   ],
   "source": [
    "bucket.name"
   ]
  },
  {
   "cell_type": "code",
   "execution_count": 11,
   "metadata": {},
   "outputs": [
    {
     "name": "stdout",
     "output_type": "stream",
     "text": [
      "Help on method get_bucket in module google.cloud.storage.client:\n",
      "\n",
      "get_bucket(bucket_or_name, timeout=60, if_metageneration_match=None, if_metageneration_not_match=None, retry=<google.api_core.retry.Retry object at 0x104157d00>) method of google.cloud.storage.client.Client instance\n",
      "    API call: retrieve a bucket via a GET request.\n",
      "    \n",
      "    See\n",
      "    https://cloud.google.com/storage/docs/json_api/v1/buckets/get\n",
      "    \n",
      "    Args:\n",
      "        bucket_or_name (Union[                 :class:`~google.cloud.storage.bucket.Bucket`,                  str,             ]):\n",
      "            The bucket resource to pass or name to create.\n",
      "    \n",
      "        timeout (Optional[Union[float, Tuple[float, float]]]):\n",
      "            The amount of time, in seconds, to wait for the server response.\n",
      "    \n",
      "            Can also be passed as a tuple (connect_timeout, read_timeout).\n",
      "            See :meth:`requests.Session.request` documentation for details.\n",
      "    \n",
      "        if_metageneration_match (Optional[long]):\n",
      "            Make the operation conditional on whether the\n",
      "            blob's current metageneration matches the given value.\n",
      "    \n",
      "        if_metageneration_not_match (Optional[long]):\n",
      "            Make the operation conditional on whether the blob's\n",
      "            current metageneration does not match the given value.\n",
      "    \n",
      "        retry (Optional[Union[google.api_core.retry.Retry, google.cloud.storage.retry.ConditionalRetryPolicy]]):\n",
      "            How to retry the RPC. A None value will disable retries.\n",
      "            A google.api_core.retry.Retry value will enable retries, and the object will\n",
      "            define retriable response codes and errors and configure backoff and timeout options.\n",
      "    \n",
      "            A google.cloud.storage.retry.ConditionalRetryPolicy value wraps a Retry object and\n",
      "            activates it only if certain conditions are met. This class exists to provide safe defaults\n",
      "            for RPC calls that are not technically safe to retry normally (due to potential data\n",
      "            duplication or other side-effects) but become safe to retry if a condition such as\n",
      "            if_metageneration_match is set.\n",
      "    \n",
      "            See the retry.py source code and docstrings in this package (google.cloud.storage.retry) for\n",
      "            information on retry types and how to configure them.\n",
      "    \n",
      "    Returns:\n",
      "        google.cloud.storage.bucket.Bucket\n",
      "            The bucket matching the name provided.\n",
      "    \n",
      "    Raises:\n",
      "        google.cloud.exceptions.NotFound\n",
      "            If the bucket is not found.\n",
      "    \n",
      "    Examples:\n",
      "        Retrieve a bucket using a string.\n",
      "    \n",
      "        .. literalinclude:: snippets.py\n",
      "            :start-after: START get_bucket\n",
      "            :end-before: END get_bucket\n",
      "            :dedent: 4\n",
      "    \n",
      "        Get a bucket using a resource.\n",
      "    \n",
      "        >>> from google.cloud import storage\n",
      "        >>> client = storage.Client()\n",
      "    \n",
      "        >>> # Set properties on a plain resource object.\n",
      "        >>> bucket = client.get_bucket(\"my-bucket-name\")\n",
      "    \n",
      "        >>> # Time passes. Another program may have modified the bucket\n",
      "        ... # in the meantime, so you want to get the latest state.\n",
      "        >>> bucket = client.get_bucket(bucket)  # API request.\n",
      "\n"
     ]
    }
   ],
   "source": [
    "help(gsclient.get_bucket)"
   ]
  },
  {
   "cell_type": "code",
   "execution_count": 20,
   "metadata": {},
   "outputs": [
    {
     "data": {
      "text/plain": [
       "<google.api_core.page_iterator.HTTPIterator at 0x10432cb50>"
      ]
     },
     "execution_count": 20,
     "metadata": {},
     "output_type": "execute_result"
    }
   ],
   "source": [
    "gsclient.list_blobs('airetail')"
   ]
  },
  {
   "cell_type": "code",
   "execution_count": 21,
   "metadata": {},
   "outputs": [
    {
     "data": {
      "text/plain": [
       "[<Blob: airetail, retail_db/categories/part-00000, 1662519373923713>,\n",
       " <Blob: airetail, retail_db/customers/part-00000, 1662519367745361>,\n",
       " <Blob: airetail, retail_db/departments/part-00000, 1662519369141768>,\n",
       " <Blob: airetail, retail_db/order_items/part-00000, 1662519371087899>,\n",
       " <Blob: airetail, retail_db/orders/part-00000, 1662519373322257>,\n",
       " <Blob: airetail, retail_db/products/part-00000, 1662519368436727>]"
      ]
     },
     "execution_count": 21,
     "metadata": {},
     "output_type": "execute_result"
    }
   ],
   "source": [
    "list(gsclient.list_blobs('airetail'))"
   ]
  },
  {
   "cell_type": "code",
   "execution_count": 22,
   "metadata": {},
   "outputs": [
    {
     "name": "stdout",
     "output_type": "stream",
     "text": [
      "Help on method download_blob_to_file in module google.cloud.storage.client:\n",
      "\n",
      "download_blob_to_file(blob_or_uri, file_obj, start=None, end=None, raw_download=False, if_etag_match=None, if_etag_not_match=None, if_generation_match=None, if_generation_not_match=None, if_metageneration_match=None, if_metageneration_not_match=None, timeout=60, checksum='md5', retry=<google.api_core.retry.Retry object at 0x104157d00>) method of google.cloud.storage.client.Client instance\n",
      "    Download the contents of a blob object or blob URI into a file-like object.\n",
      "    \n",
      "    Args:\n",
      "        blob_or_uri (Union[             :class:`~google.cloud.storage.blob.Blob`,              str,             ]):\n",
      "            The blob resource to pass or URI to download.\n",
      "    \n",
      "        file_obj (file):\n",
      "            A file handle to which to write the blob's data.\n",
      "    \n",
      "        start (int):\n",
      "            (Optional) The first byte in a range to be downloaded.\n",
      "    \n",
      "        end (int):\n",
      "            (Optional) The last byte in a range to be downloaded.\n",
      "    \n",
      "        raw_download (bool):\n",
      "            (Optional) If true, download the object without any expansion.\n",
      "    \n",
      "        if_etag_match (Union[str, Set[str]]):\n",
      "            (Optional) See :ref:`using-if-etag-match`\n",
      "    \n",
      "        if_etag_not_match (Union[str, Set[str]]):\n",
      "            (Optional) See :ref:`using-if-etag-not-match`\n",
      "    \n",
      "        if_generation_match (long):\n",
      "            (Optional) See :ref:`using-if-generation-match`\n",
      "    \n",
      "        if_generation_not_match (long):\n",
      "            (Optional) See :ref:`using-if-generation-not-match`\n",
      "    \n",
      "        if_metageneration_match (long):\n",
      "            (Optional) See :ref:`using-if-metageneration-match`\n",
      "    \n",
      "        if_metageneration_not_match (long):\n",
      "            (Optional) See :ref:`using-if-metageneration-not-match`\n",
      "    \n",
      "        timeout ([Union[float, Tuple[float, float]]]):\n",
      "            (Optional) The amount of time, in seconds, to wait\n",
      "            for the server response.  See: :ref:`configuring_timeouts`\n",
      "    \n",
      "        checksum (str):\n",
      "            (Optional) The type of checksum to compute to verify the integrity\n",
      "            of the object. The response headers must contain a checksum of the\n",
      "            requested type. If the headers lack an appropriate checksum (for\n",
      "            instance in the case of transcoded or ranged downloads where the\n",
      "            remote service does not know the correct checksum, including\n",
      "            downloads where chunk_size is set) an INFO-level log will be\n",
      "            emitted. Supported values are \"md5\", \"crc32c\" and None. The default\n",
      "            is \"md5\".\n",
      "        retry (google.api_core.retry.Retry or google.cloud.storage.retry.ConditionalRetryPolicy)\n",
      "            (Optional) How to retry the RPC. A None value will disable\n",
      "            retries. A google.api_core.retry.Retry value will enable retries,\n",
      "            and the object will define retriable response codes and errors and\n",
      "            configure backoff and timeout options.\n",
      "    \n",
      "            A google.cloud.storage.retry.ConditionalRetryPolicy value wraps a\n",
      "            Retry object and activates it only if certain conditions are met.\n",
      "            This class exists to provide safe defaults for RPC calls that are\n",
      "            not technically safe to retry normally (due to potential data\n",
      "            duplication or other side-effects) but become safe to retry if a\n",
      "            condition such as if_metageneration_match is set.\n",
      "    \n",
      "            See the retry.py source code and docstrings in this package\n",
      "            (google.cloud.storage.retry) for information on retry types and how\n",
      "            to configure them.\n",
      "    \n",
      "            Media operations (downloads and uploads) do not support non-default\n",
      "            predicates in a Retry object. The default will always be used. Other\n",
      "            configuration changes for Retry objects such as delays and deadlines\n",
      "            are respected.\n",
      "    \n",
      "    Examples:\n",
      "        Download a blob using a blob resource.\n",
      "    \n",
      "        >>> from google.cloud import storage\n",
      "        >>> client = storage.Client()\n",
      "    \n",
      "        >>> bucket = client.get_bucket('my-bucket-name')\n",
      "        >>> blob = storage.Blob('path/to/blob', bucket)\n",
      "    \n",
      "        >>> with open('file-to-download-to', 'w') as file_obj:\n",
      "        >>>     client.download_blob_to_file(blob, file_obj)  # API request.\n",
      "    \n",
      "    \n",
      "        Download a blob using a URI.\n",
      "    \n",
      "        >>> from google.cloud import storage\n",
      "        >>> client = storage.Client()\n",
      "    \n",
      "        >>> with open('file-to-download-to', 'wb') as file_obj:\n",
      "        >>>     client.download_blob_to_file(\n",
      "        >>>         'gs://bucket_name/path/to/blob', file_obj)\n",
      "\n"
     ]
    }
   ],
   "source": [
    "help(gsclient.download_blob_to_file)"
   ]
  },
  {
   "cell_type": "code",
   "execution_count": 24,
   "metadata": {},
   "outputs": [
    {
     "name": "stdout",
     "output_type": "stream",
     "text": [
      "Help on method create in module google.cloud.storage.bucket:\n",
      "\n",
      "create(client=None, project=None, location=None, predefined_acl=None, predefined_default_object_acl=None, timeout=60, retry=<google.api_core.retry.Retry object at 0x104157d00>) method of google.cloud.storage.bucket.Bucket instance\n",
      "    DEPRECATED. Creates current bucket.\n",
      "    \n",
      "    .. note::\n",
      "      Direct use of this method is deprecated. Use ``Client.create_bucket()`` instead.\n",
      "    \n",
      "    If the bucket already exists, will raise\n",
      "    :class:`google.cloud.exceptions.Conflict`.\n",
      "    \n",
      "    This implements \"storage.buckets.insert\".\n",
      "    \n",
      "    If :attr:`user_project` is set, bills the API request to that project.\n",
      "    \n",
      "    :type client: :class:`~google.cloud.storage.client.Client` or\n",
      "                  ``NoneType``\n",
      "    :param client: (Optional) The client to use. If not passed, falls back\n",
      "                   to the ``client`` stored on the current bucket.\n",
      "    \n",
      "    :type project: str\n",
      "    :param project: (Optional) The project under which the bucket is to\n",
      "                    be created. If not passed, uses the project set on\n",
      "                    the client.\n",
      "    :raises ValueError: if ``project`` is None and client's\n",
      "                        :attr:`project` is also None.\n",
      "    \n",
      "    :type location: str\n",
      "    :param location: (Optional) The location of the bucket. If not passed,\n",
      "                     the default location, US, will be used. See\n",
      "                     https://cloud.google.com/storage/docs/bucket-locations\n",
      "    \n",
      "    :type predefined_acl: str\n",
      "    :param predefined_acl:\n",
      "        (Optional) Name of predefined ACL to apply to bucket. See:\n",
      "        https://cloud.google.com/storage/docs/access-control/lists#predefined-acl\n",
      "    \n",
      "    :type predefined_default_object_acl: str\n",
      "    :param predefined_default_object_acl:\n",
      "        (Optional) Name of predefined ACL to apply to bucket's objects. See:\n",
      "        https://cloud.google.com/storage/docs/access-control/lists#predefined-acl\n",
      "    \n",
      "    :type timeout: float or tuple\n",
      "    :param timeout:\n",
      "        (Optional) The amount of time, in seconds, to wait\n",
      "        for the server response.  See: :ref:`configuring_timeouts`\n",
      "    \n",
      "    :type retry: google.api_core.retry.Retry or google.cloud.storage.retry.ConditionalRetryPolicy\n",
      "    :param retry:\n",
      "        (Optional) How to retry the RPC. See: :ref:`configuring_retries`\n",
      "\n"
     ]
    }
   ],
   "source": [
    "help(bucket.)"
   ]
  },
  {
   "cell_type": "code",
   "execution_count": null,
   "metadata": {},
   "outputs": [],
   "source": []
  }
 ],
 "metadata": {
  "kernelspec": {
   "display_name": "Python 3.9.13 ('deg-venv': venv)",
   "language": "python",
   "name": "python3"
  },
  "language_info": {
   "codemirror_mode": {
    "name": "ipython",
    "version": 3
   },
   "file_extension": ".py",
   "mimetype": "text/x-python",
   "name": "python",
   "nbconvert_exporter": "python",
   "pygments_lexer": "ipython3",
   "version": "3.9.13"
  },
  "orig_nbformat": 4,
  "vscode": {
   "interpreter": {
    "hash": "4a9d607f6995d470a72ac62c14cbba774ae3a8ede2bb7bb3a284130b245adccf"
   }
  }
 },
 "nbformat": 4,
 "nbformat_minor": 2
}
