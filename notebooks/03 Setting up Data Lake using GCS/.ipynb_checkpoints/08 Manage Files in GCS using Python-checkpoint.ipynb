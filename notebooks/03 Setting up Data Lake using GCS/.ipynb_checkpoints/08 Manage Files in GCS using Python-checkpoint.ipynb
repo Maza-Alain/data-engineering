{
 "cells": [
  {
   "cell_type": "code",
   "execution_count": null,
   "metadata": {},
   "outputs": [],
   "source": [
    "!gsutil mb gs://airetail"
   ]
  },
  {
   "cell_type": "code",
   "execution_count": 1,
   "metadata": {},
   "outputs": [
    {
     "name": "stdout",
     "output_type": "stream",
     "text": [
      "Usage: gsutil [-D] [-DD] [-h header]... [-i service_account] [-m] [-o section:flag=value]... [-q] [-u user_project] [command [opts...] args...]\r\n",
      "Available commands:\r\n",
      "  acl              Get, set, or change bucket and/or object ACLs\r\n",
      "  autoclass        Configure Autoclass feature\r\n",
      "  bucketpolicyonly Configure uniform bucket-level access\r\n",
      "  cat              Concatenate object content to stdout\r\n",
      "  compose          Concatenate a sequence of objects into a new composite object.\r\n",
      "  config           Obtain credentials and create configuration file\r\n",
      "  cors             Get or set a CORS JSON document for one or more buckets\r\n",
      "  cp               Copy files and objects\r\n",
      "  defacl           Get, set, or change default ACL on buckets\r\n",
      "  defstorageclass  Get or set the default storage class on buckets\r\n",
      "  du               Display object size usage\r\n",
      "  hash             Calculate file hashes\r\n",
      "  help             Get help about commands and topics\r\n",
      "  hmac             CRUD operations on service account HMAC keys.\r\n",
      "  iam              Get, set, or change bucket and/or object IAM permissions.\r\n",
      "  kms              Configure Cloud KMS encryption\r\n",
      "  label            Get, set, or change the label configuration of a bucket.\r\n",
      "  lifecycle        Get or set lifecycle configuration for a bucket\r\n",
      "  logging          Configure or retrieve logging on buckets\r\n",
      "  ls               List providers, buckets, or objects\r\n",
      "  mb               Make buckets\r\n",
      "  mv               Move/rename objects\r\n",
      "  notification     Configure object change notification\r\n",
      "  pap              Configure public access prevention\r\n",
      "  perfdiag         Run performance diagnostic\r\n",
      "  rb               Remove buckets\r\n",
      "  requesterpays    Enable or disable requester pays for one or more buckets\r\n",
      "  retention        Provides utilities to interact with Retention Policy feature.\r\n",
      "  rewrite          Rewrite objects\r\n",
      "  rm               Remove objects\r\n",
      "  rpo              Configure replication\r\n",
      "  rsync            Synchronize content of two buckets/directories\r\n",
      "  setmeta          Set metadata on already uploaded objects\r\n",
      "  signurl          Create a signed URL\r\n",
      "  stat             Display object status\r\n",
      "  test             Run gsutil unit/integration tests (for developers)\r\n",
      "  ubla             Configure Uniform bucket-level access\r\n",
      "  update           Update to the latest gsutil release\r\n",
      "  version          Print version info about gsutil\r\n",
      "  versioning       Enable or suspend versioning for one or more buckets\r\n",
      "  web              Set a website configuration for a bucket\r\n",
      "\r\n",
      "Additional help topics:\r\n",
      "  acls             Working With Access Control Lists\r\n",
      "  crc32c           CRC32C and Installing crcmod\r\n",
      "  creds            Credential Types Supporting Various Use Cases\r\n",
      "  dev              Contributing Code to gsutil\r\n",
      "  encoding         Filename encoding and interoperability problems\r\n",
      "  metadata         Working With Object Metadata\r\n",
      "  naming           Object and Bucket Naming\r\n",
      "  options          Global Command Line Options\r\n",
      "  prod             Scripting Production Transfers\r\n",
      "  security         Security and Privacy Considerations\r\n",
      "  shim             Shim for Running gcloud storage\r\n",
      "  support          Google Cloud Storage Support\r\n",
      "  versions         Object Versioning and Concurrency Control\r\n",
      "\r\n",
      "Use gsutil help <command or topic> for detailed help."
     ]
    }
   ],
   "source": [
    "!gsutil help\n"
   ]
  },
  {
   "cell_type": "code",
   "execution_count": null,
   "metadata": {},
   "outputs": [],
   "source": [
    "!gsutil cp -r ../../data/retail_db gs://airetail/retail_db"
   ]
  },
  {
   "cell_type": "code",
   "execution_count": 11,
   "metadata": {},
   "outputs": [
    {
     "name": "stdout",
     "output_type": "stream",
     "text": [
      "/bin/sh: línea 1: gsutil: orden no encontrada\n"
     ]
    }
   ],
   "source": [
    "!gsutil ls -r gs://airetail/"
   ]
  },
  {
   "cell_type": "code",
   "execution_count": 2,
   "metadata": {},
   "outputs": [],
   "source": [
    "from google.cloud import storage"
   ]
  },
  {
   "cell_type": "code",
   "execution_count": 5,
   "metadata": {},
   "outputs": [
    {
     "name": "stdout",
     "output_type": "stream",
     "text": [
      "Your browser has been opened to visit:\n",
      "\n",
      "    https://accounts.google.com/o/oauth2/auth?response_type=code&client_id=764086051850-6qr4p6gpi6hn506pt8ejuq83di341hur.apps.googleusercontent.com&redirect_uri=http%3A%2F%2Flocalhost%3A8085%2F&scope=openid+https%3A%2F%2Fwww.googleapis.com%2Fauth%2Fuserinfo.email+https%3A%2F%2Fwww.googleapis.com%2Fauth%2Fcloud-platform+https%3A%2F%2Fwww.googleapis.com%2Fauth%2Fsqlservice.login+https%3A%2F%2Fwww.googleapis.com%2Fauth%2Faccounts.reauth&state=8dGTNzF68ePI0Hzyx0MToH9rYFonMH&access_type=offline&code_challenge=DVl9qrgD92l9Uq-12hSp2qCh5XclAwda5IUvRGG0h8s&code_challenge_method=S256\n",
      "\n",
      "\n",
      "Credentials saved to file: [/home/maza/.config/gcloud/application_default_credentials.json]\n",
      "\n",
      "These credentials will be used by any library that requests Application Default Credentials (ADC).\n",
      "\n",
      "Quota project \"learning-344814\" was added to ADC which can be used by Google client libraries for billing and quota. Note that some services may still bill the project owning the resource.\n"
     ]
    }
   ],
   "source": [
    "!gcloud auth application-default login"
   ]
  },
  {
   "cell_type": "code",
   "execution_count": null,
   "metadata": {},
   "outputs": [],
   "source": []
  },
  {
   "cell_type": "code",
   "execution_count": null,
   "metadata": {},
   "outputs": [],
   "source": []
  },
  {
   "cell_type": "markdown",
   "metadata": {},
   "source": [
    "In case if the below code fail with authentication error, make sure to create credentials explicitly by running `gcloud auth application-default login` using Terminal."
   ]
  },
  {
   "cell_type": "code",
   "execution_count": 6,
   "metadata": {},
   "outputs": [],
   "source": [
    "gsclient = storage.Client()"
   ]
  },
  {
   "cell_type": "code",
   "execution_count": null,
   "metadata": {},
   "outputs": [],
   "source": []
  },
  {
   "cell_type": "code",
   "execution_count": null,
   "metadata": {},
   "outputs": [],
   "source": []
  },
  {
   "cell_type": "code",
   "execution_count": null,
   "metadata": {},
   "outputs": [],
   "source": [
    "gsclient"
   ]
  },
  {
   "cell_type": "code",
   "execution_count": null,
   "metadata": {},
   "outputs": [],
   "source": [
    "help(gsclient.list_buckets)"
   ]
  },
  {
   "cell_type": "code",
   "execution_count": null,
   "metadata": {},
   "outputs": [],
   "source": [
    "gsclient.list_buckets()"
   ]
  },
  {
   "cell_type": "code",
   "execution_count": null,
   "metadata": {},
   "outputs": [],
   "source": [
    "list(gsclient.list_buckets())"
   ]
  },
  {
   "cell_type": "code",
   "execution_count": null,
   "metadata": {},
   "outputs": [],
   "source": [
    "bucket = list(gsclient.list_buckets())[0]"
   ]
  },
  {
   "cell_type": "code",
   "execution_count": null,
   "metadata": {},
   "outputs": [],
   "source": [
    "bucket"
   ]
  },
  {
   "cell_type": "code",
   "execution_count": null,
   "metadata": {},
   "outputs": [],
   "source": [
    "type(bucket)"
   ]
  },
  {
   "cell_type": "code",
   "execution_count": null,
   "metadata": {},
   "outputs": [],
   "source": [
    "bucket.name"
   ]
  },
  {
   "cell_type": "code",
   "execution_count": null,
   "metadata": {},
   "outputs": [],
   "source": [
    "help(gsclient.get_bucket)"
   ]
  },
  {
   "cell_type": "code",
   "execution_count": null,
   "metadata": {},
   "outputs": [],
   "source": [
    "gsclient.get_bucket('airetail')"
   ]
  },
  {
   "cell_type": "code",
   "execution_count": null,
   "metadata": {},
   "outputs": [],
   "source": [
    "gsclient.list_blobs('airetail')"
   ]
  },
  {
   "cell_type": "code",
   "execution_count": null,
   "metadata": {},
   "outputs": [],
   "source": [
    "list(gsclient.list_blobs('airetail'))"
   ]
  },
  {
   "cell_type": "code",
   "execution_count": null,
   "metadata": {},
   "outputs": [],
   "source": [
    "blob = list(gsclient.list_blobs('airetail'))[0]"
   ]
  },
  {
   "cell_type": "code",
   "execution_count": null,
   "metadata": {},
   "outputs": [],
   "source": [
    "type(blob)"
   ]
  },
  {
   "cell_type": "code",
   "execution_count": null,
   "metadata": {},
   "outputs": [],
   "source": [
    "bucket = gsclient.get_bucket('airetail')"
   ]
  },
  {
   "cell_type": "code",
   "execution_count": null,
   "metadata": {},
   "outputs": [],
   "source": [
    "bucket.blob?"
   ]
  },
  {
   "cell_type": "code",
   "execution_count": null,
   "metadata": {},
   "outputs": [],
   "source": [
    "blob = bucket.blob('pythondemo/retail_db/orders/part-00000')"
   ]
  },
  {
   "cell_type": "code",
   "execution_count": null,
   "metadata": {},
   "outputs": [],
   "source": [
    "!gsutil ls gs://airetail/pythondemo"
   ]
  },
  {
   "cell_type": "code",
   "execution_count": null,
   "metadata": {},
   "outputs": [],
   "source": [
    "blob.upload_from_filename?"
   ]
  },
  {
   "cell_type": "code",
   "execution_count": null,
   "metadata": {},
   "outputs": [],
   "source": [
    "blob.upload_from_filename('../../data/retail_db/orders/part-00000')"
   ]
  },
  {
   "cell_type": "code",
   "execution_count": null,
   "metadata": {},
   "outputs": [],
   "source": [
    "!gsutil ls -r gs://airetail/pythondemo"
   ]
  },
  {
   "cell_type": "code",
   "execution_count": null,
   "metadata": {},
   "outputs": [],
   "source": [
    "help(gsclient.download_blob_to_file)"
   ]
  },
  {
   "cell_type": "code",
   "execution_count": null,
   "metadata": {},
   "outputs": [],
   "source": [
    "orders_csv = open('orders.csv', 'wb')\n",
    "gsclient.download_blob_to_file(\n",
    "    'gs://airetail/pythondemo/retail_db/orders/part-00000',\n",
    "    orders_csv\n",
    ")\n",
    "orders_csv.close()"
   ]
  },
  {
   "cell_type": "code",
   "execution_count": null,
   "metadata": {},
   "outputs": [],
   "source": []
  }
 ],
 "metadata": {
  "kernelspec": {
   "display_name": "Python 3 (ipykernel)",
   "language": "python",
   "name": "python3"
  },
  "language_info": {
   "codemirror_mode": {
    "name": "ipython",
    "version": 3
   },
   "file_extension": ".py",
   "mimetype": "text/x-python",
   "name": "python",
   "nbconvert_exporter": "python",
   "pygments_lexer": "ipython3",
   "version": "3.10.9"
  },
  "vscode": {
   "interpreter": {
    "hash": "6e296005d03af033503a8511eb0f4fc342641b09c8580e67040968ca0e4d93fc"
   }
  }
 },
 "nbformat": 4,
 "nbformat_minor": 2
}
