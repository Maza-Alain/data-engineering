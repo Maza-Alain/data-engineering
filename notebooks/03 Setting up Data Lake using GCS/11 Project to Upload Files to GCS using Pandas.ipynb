{
 "cells": [
  {
   "cell_type": "markdown",
   "metadata": {},
   "source": [
    "## Project to Upload Files to GCS using Pandas\n",
    "\n",
    "As part of the series of lectures we will see how to upload files to GCS using Python Pandas. We will be using `glob`, `os`, `pandas` to build the application logic.\n",
    "\n",
    "Here are the design details.\n",
    "* First, we need to get list of file names from the local file system to upload.\n",
    "* As we want to have right column names for our data set, we need to ensure that the column names are extracted from **schemas.json** file in `data/retail_db`.\n",
    "* Once we get the file names, we can use `pd.read_csv` with `names` to create Dataframe and then write to target GCS location using `parquet` file format.\n",
    "* We will use metadata or data driven development approach to take care uploading all the files related to retail to GCS.\n",
    "* Blobs or Files using Parquet format will be named using file names as reference."
   ]
  },
  {
   "cell_type": "code",
   "execution_count": null,
   "metadata": {},
   "outputs": [],
   "source": [
    "!gsutil rm -r gs://airetail/retail_db_parquet"
   ]
  },
  {
   "cell_type": "code",
   "execution_count": null,
   "metadata": {},
   "outputs": [],
   "source": [
    "!gsutil ls gs://airetail/"
   ]
  },
  {
   "cell_type": "code",
   "execution_count": null,
   "metadata": {},
   "outputs": [],
   "source": [
    "import glob\n",
    "import os"
   ]
  },
  {
   "cell_type": "code",
   "execution_count": null,
   "metadata": {},
   "outputs": [],
   "source": [
    "def get_file_names(src_base_dir):\n",
    "    items = glob.glob(f'{src_base_dir}/**', recursive=True)\n",
    "    return list(filter(lambda item: os.path.isfile(item) and item.endswith('part-00000'), items))\n"
   ]
  },
  {
   "cell_type": "code",
   "execution_count": null,
   "metadata": {},
   "outputs": [],
   "source": [
    "src_base_dir = '../../data/retail_db'"
   ]
  },
  {
   "cell_type": "code",
   "execution_count": null,
   "metadata": {},
   "outputs": [],
   "source": [
    "get_file_names(src_base_dir)"
   ]
  },
  {
   "cell_type": "code",
   "execution_count": null,
   "metadata": {},
   "outputs": [],
   "source": [
    "import json"
   ]
  },
  {
   "cell_type": "code",
   "execution_count": null,
   "metadata": {},
   "outputs": [],
   "source": [
    "schemas = json.load(open('../../data/retail_db/schemas.json'))\n",
    "schemas"
   ]
  },
  {
   "cell_type": "code",
   "execution_count": null,
   "metadata": {},
   "outputs": [],
   "source": [
    "ds_schema = sorted(schemas['orders'], key=lambda col: col['column_position'])\n",
    "ds_schema"
   ]
  },
  {
   "cell_type": "code",
   "execution_count": null,
   "metadata": {},
   "outputs": [],
   "source": [
    "def get_column_names(schemas_file, ds_name):\n",
    "    schemas = json.load(open(schemas_file))\n",
    "    ds_schema = sorted(schemas[ds_name], key=lambda col: col['column_position'])\n",
    "    columns = [col['column_name'] for col in ds_schema]\n",
    "    return columns"
   ]
  },
  {
   "cell_type": "code",
   "execution_count": null,
   "metadata": {},
   "outputs": [],
   "source": [
    "get_column_names('../../data/retail_db/schemas.json', 'orders')"
   ]
  },
  {
   "cell_type": "code",
   "execution_count": null,
   "metadata": {},
   "outputs": [],
   "source": [
    "for ds in [\n",
    "    'departments', 'categories', 'products',\n",
    "    'customers', 'orders', 'order_items'\n",
    "]:\n",
    "    column_names = get_column_names('../../data/retail_db/schemas.json', ds)\n",
    "    print(f'''columns for {ds} are {','.join(column_names)}''')"
   ]
  },
  {
   "cell_type": "code",
   "execution_count": null,
   "metadata": {},
   "outputs": [],
   "source": [
    "tgt_base_dir = 'retail_db_parquet'"
   ]
  },
  {
   "cell_type": "code",
   "execution_count": null,
   "metadata": {},
   "outputs": [],
   "source": [
    "import pandas as pd"
   ]
  },
  {
   "cell_type": "code",
   "execution_count": null,
   "metadata": {},
   "outputs": [],
   "source": [
    "schemas_file = '../../data/retail_db/schemas.json'\n",
    "bucket = 'airetail'\n",
    "files = get_file_names(src_base_dir)\n",
    "for file in files:\n",
    "    print(f'Uploading file {file}')\n",
    "    blob_suffix = '/'.join(file.split('/')[4:])\n",
    "    ds_name = file.split('/')[-2]\n",
    "    blob_name = f'gs://{bucket}/{tgt_base_dir}/{blob_suffix}.snappy.parquet'\n",
    "    columns = get_column_names(schemas_file, ds_name)\n",
    "    df = pd.read_csv(file, names=columns)\n",
    "    df.to_parquet(blob_name, index=False)"
   ]
  },
  {
   "cell_type": "code",
   "execution_count": null,
   "metadata": {},
   "outputs": [],
   "source": [
    "!gsutil ls -r gs://airetail/retail_db_parquet"
   ]
  },
  {
   "cell_type": "code",
   "execution_count": null,
   "metadata": {},
   "outputs": [],
   "source": [
    "pd.read_parquet('gs://airetail/retail_db_parquet/orders/part-00000.snappy.parquet')"
   ]
  },
  {
   "cell_type": "code",
   "execution_count": null,
   "metadata": {},
   "outputs": [],
   "source": [
    "for ds in [\n",
    "    'departments', 'categories', 'products',\n",
    "    'customers', 'orders', 'order_items'\n",
    "]:\n",
    "    df = pd.read_csv(f'../../data/retail_db/{ds}/part-00000')\n",
    "    print(f'''Shape of {ds} in local files system is {df.shape}''')"
   ]
  },
  {
   "cell_type": "code",
   "execution_count": null,
   "metadata": {},
   "outputs": [],
   "source": [
    "for ds in [\n",
    "    'departments', 'categories', 'products',\n",
    "    'customers', 'orders', 'order_items'\n",
    "]:\n",
    "    df = pd.read_parquet(f'gs://{bucket}/{tgt_base_dir}/{ds}/part-00000.snappy.parquet')\n",
    "    print(f'''Shape of {ds} in gcs is {df.shape}''')"
   ]
  },
  {
   "cell_type": "code",
   "execution_count": null,
   "metadata": {},
   "outputs": [],
   "source": []
  }
 ],
 "metadata": {
  "kernelspec": {
   "display_name": "Python 3.9.12 ('deg-venv': venv)",
   "language": "python",
   "name": "python3"
  },
  "language_info": {
   "codemirror_mode": {
    "name": "ipython",
    "version": 3
   },
   "file_extension": ".py",
   "mimetype": "text/x-python",
   "name": "python",
   "nbconvert_exporter": "python",
   "pygments_lexer": "ipython3",
   "version": "3.9.12"
  },
  "orig_nbformat": 4,
  "vscode": {
   "interpreter": {
    "hash": "4a9d607f6995d470a72ac62c14cbba774ae3a8ede2bb7bb3a284130b245adccf"
   }
  }
 },
 "nbformat": 4,
 "nbformat_minor": 2
}
