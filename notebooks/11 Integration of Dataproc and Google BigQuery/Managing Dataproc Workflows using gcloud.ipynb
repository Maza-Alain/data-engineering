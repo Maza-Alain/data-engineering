{
 "cells": [
  {
   "cell_type": "markdown",
   "metadata": {},
   "source": [
    "## Manage Dataproc Workflows using gcloud Commands\n",
    "Let us see how we can manage Dataproc Workflows using gcloud commands.\n",
    "* Step 1: Create Dataproc Workflow Template\n",
    "* Step 2: Configure active Dataproc cluster (we can also configure new cluster)\n",
    "* Step 3: Add Spark SQL or Pyspark Jobs to Dataproc Workflow Templates with Dependencies\n",
    "* Step 4: Run and Validate the Dataproc Workflow Template\n",
    "\n",
    "We can take care of all the steps using `gcloud` commands."
   ]
  },
  {
   "cell_type": "code",
   "execution_count": 5,
   "metadata": {},
   "outputs": [
    {
     "name": "stdout",
     "output_type": "stream",
     "text": [
      "gs://airetail/scripts/:\n",
      "\n",
      "gs://airetail/scripts/daily_product_revenue/:\n",
      "gs://airetail/scripts/daily_product_revenue/cleanup.sql\n",
      "gs://airetail/scripts/daily_product_revenue/compute_daily_product_revenue.sql\n",
      "gs://airetail/scripts/daily_product_revenue/file_format_converter.sql\n"
     ]
    }
   ],
   "source": [
    "!gsutil ls -r gs://airetail/scripts"
   ]
  },
  {
   "cell_type": "code",
   "execution_count": 8,
   "metadata": {},
   "outputs": [
    {
     "name": "stdout",
     "output_type": "stream",
     "text": [
      "Copying file://../../apps/daily_product_revenue_bq/app.py [Content-Type=text/x-python]...\n",
      "/ [1 files][  653.0 B/  653.0 B]                                                \n",
      "Operation completed over 1 objects/653.0 B.                                      \n"
     ]
    }
   ],
   "source": [
    "!gsutil cp -r ../../apps/daily_product_revenue_bq gs://airetail/apps/daily_product_revenue_bq"
   ]
  },
  {
   "cell_type": "code",
   "execution_count": 9,
   "metadata": {},
   "outputs": [
    {
     "name": "stdout",
     "output_type": "stream",
     "text": [
      "gs://airetail/apps/:\n",
      "\n",
      "gs://airetail/apps/daily_product_revenue_bq/:\n",
      "gs://airetail/apps/daily_product_revenue_bq/app.py\n"
     ]
    }
   ],
   "source": [
    "!gsutil ls -r gs://airetail/apps/"
   ]
  },
  {
   "cell_type": "code",
   "execution_count": 1,
   "metadata": {},
   "outputs": [
    {
     "name": "stdout",
     "output_type": "stream",
     "text": [
      "Updated property [dataproc/region].\n",
      "\n",
      "\n",
      "Updates are available for some Cloud SDK components.  To install them,\n",
      "please run:\n",
      "  $ gcloud components update\n",
      "\n"
     ]
    }
   ],
   "source": [
    "!gcloud config set dataproc/region us-central1"
   ]
  },
  {
   "cell_type": "code",
   "execution_count": 2,
   "metadata": {},
   "outputs": [
    {
     "name": "stdout",
     "output_type": "stream",
     "text": [
      "ID                           JOBS  UPDATE_TIME                  VERSION\n",
      "getting-started              4     2022-10-08T09:34:41.266501Z  1\n",
      "wf-daily-product-revenue     4     2022-10-08T11:12:53.276748Z  6\n",
      "wf-daily-product-revenue-bq  4     2022-10-14T22:13:53.061433Z  6\n"
     ]
    }
   ],
   "source": [
    "!gcloud dataproc workflow-templates list"
   ]
  },
  {
   "cell_type": "markdown",
   "metadata": {},
   "source": [
    "Here is the command to delete Dataproc Workflow Template (multiline approach doesn't work on Windows)\n",
    "\n",
    "```shell\n",
    "gcloud dataproc workflow-templates \\\n",
    "    delete wf-daily-product-revenue-bq\n",
    "```"
   ]
  },
  {
   "cell_type": "code",
   "execution_count": 30,
   "metadata": {},
   "outputs": [],
   "source": [
    "!gcloud dataproc workflow-templates delete wf-daily-product-revenue-bq --quiet"
   ]
  },
  {
   "cell_type": "markdown",
   "metadata": {},
   "source": [
    "Here is the command to create Dataproc Workflow.\n",
    "\n",
    "```shell\n",
    "gcloud dataproc workflow-templates \\\n",
    "    create wf-daily-product-revenue-bq\n",
    "```"
   ]
  },
  {
   "cell_type": "code",
   "execution_count": 31,
   "metadata": {},
   "outputs": [],
   "source": [
    "!gcloud dataproc workflow-templates create wf-daily-product-revenue-bq"
   ]
  },
  {
   "cell_type": "code",
   "execution_count": 32,
   "metadata": {},
   "outputs": [
    {
     "name": "stdout",
     "output_type": "stream",
     "text": [
      "ID                           JOBS  UPDATE_TIME                  VERSION\n",
      "getting-started              4     2022-10-08T09:34:41.266501Z  1\n",
      "wf-daily-product-revenue     4     2022-10-08T11:12:53.276748Z  6\n",
      "wf-daily-product-revenue-bq  0     2022-10-16T15:51:28.793690Z  1\n"
     ]
    }
   ],
   "source": [
    "!gcloud dataproc workflow-templates list"
   ]
  },
  {
   "cell_type": "markdown",
   "metadata": {},
   "source": [
    "Here is the command to attach running or active Dataproc Cluster to the Dataproc Workflow. We need to specify the label for the cluster.\n",
    "\n",
    "```shell\n",
    "gcloud dataproc workflow-templates \\\n",
    "    set-cluster-selector \\\n",
    "    wf-daily-product-revenue-bq \\\n",
    "    --cluster-labels goog-dataproc-cluster-name=aidataprocdev\n",
    "```"
   ]
  },
  {
   "cell_type": "code",
   "execution_count": 33,
   "metadata": {},
   "outputs": [],
   "source": [
    "!gcloud dataproc workflow-templates set-cluster-selector wf-daily-product-revenue-bq --cluster-labels goog-dataproc-cluster-name=aidataprocdev"
   ]
  },
  {
   "cell_type": "markdown",
   "metadata": {},
   "source": [
    "Here are the commands to add Spark SQL Jobs to the Dataproc Workflow.\n",
    "\n",
    "```shell\n",
    "gcloud dataproc workflow-templates add-job spark-sql \\\n",
    "    --step-id=job-cleanup \\\n",
    "    --file=gs://airetail/scripts/daily_product_revenue/cleanup.sql \\\n",
    "    --workflow-template=wf-daily-product-revenue-bq\n",
    "\n",
    "# File Format Converter jobs with dependency on cleanup\n",
    "gcloud dataproc workflow-templates add-job spark-sql \\\n",
    "    --step-id=job-convert-orders \\\n",
    "    --file=gs://airetail/scripts/daily_product_revenue/file_format_converter.sql \\\n",
    "    --params=bucket_name=gs://airetail,table_name=orders \\\n",
    "    --workflow-template=wf-daily-product-revenue-bq \\\n",
    "    --start-after=job-cleanup\n",
    "\n",
    "gcloud dataproc workflow-templates add-job spark-sql \\\n",
    "    --step-id=job-convert-order-items \\\n",
    "    --file=gs://airetail/scripts/daily_product_revenue/file_format_converter.sql \\\n",
    "    --params=bucket_name=gs://airetail,table_name=order_items \\\n",
    "    --workflow-template=wf-daily-product-revenue-bq \\\n",
    "    --start-after=job-cleanup\n",
    "\n",
    "# Last Job which depends on convert orders and order_items jobs\n",
    "gcloud dataproc workflow-templates add-job spark-sql \\\n",
    "    --step-id=job-daily-product-revenue \\\n",
    "    --file=gs://airetail/scripts/daily_product_revenue/compute_daily_product_revenue.sql \\\n",
    "    --params=bucket_name=gs://airetail \\\n",
    "    --workflow-template=wf-daily-product-revenue-bq \\\n",
    "    --start-after=job-convert-orders,job-convert-order-items\n",
    "```"
   ]
  },
  {
   "cell_type": "code",
   "execution_count": 34,
   "metadata": {},
   "outputs": [
    {
     "name": "stdout",
     "output_type": "stream",
     "text": [
      "createTime: '2022-10-16T15:51:28.793690Z'\n",
      "id: wf-daily-product-revenue-bq\n",
      "jobs:\n",
      "- sparkSqlJob:\n",
      "    queryFileUri: gs://airetail/scripts/daily_product_revenue/cleanup.sql\n",
      "  stepId: job-cleanup\n",
      "name: projects/tidy-fort-361710/regions/us-central1/workflowTemplates/wf-daily-product-revenue-bq\n",
      "placement:\n",
      "  clusterSelector:\n",
      "    clusterLabels:\n",
      "      goog-dataproc-cluster-name: aidataprocdev\n",
      "updateTime: '2022-10-16T15:51:32.920208Z'\n",
      "version: 3\n"
     ]
    }
   ],
   "source": [
    "!gcloud dataproc workflow-templates add-job spark-sql --step-id=job-cleanup --file=gs://airetail/scripts/daily_product_revenue/cleanup.sql --workflow-template=wf-daily-product-revenue-bq"
   ]
  },
  {
   "cell_type": "code",
   "execution_count": 35,
   "metadata": {},
   "outputs": [
    {
     "name": "stdout",
     "output_type": "stream",
     "text": [
      "createTime: '2022-10-16T15:51:28.793690Z'\n",
      "id: wf-daily-product-revenue-bq\n",
      "jobs:\n",
      "- sparkSqlJob:\n",
      "    queryFileUri: gs://airetail/scripts/daily_product_revenue/cleanup.sql\n",
      "  stepId: job-cleanup\n",
      "- prerequisiteStepIds:\n",
      "  - job-cleanup\n",
      "  sparkSqlJob:\n",
      "    queryFileUri: gs://airetail/scripts/daily_product_revenue/file_format_converter.sql\n",
      "    scriptVariables:\n",
      "      bucket_name: gs://airetail\n",
      "      table_name: orders\n",
      "  stepId: job-convert-orders\n",
      "name: projects/tidy-fort-361710/regions/us-central1/workflowTemplates/wf-daily-product-revenue-bq\n",
      "placement:\n",
      "  clusterSelector:\n",
      "    clusterLabels:\n",
      "      goog-dataproc-cluster-name: aidataprocdev\n",
      "updateTime: '2022-10-16T15:51:34.450650Z'\n",
      "version: 4\n"
     ]
    }
   ],
   "source": [
    "\n",
    "!gcloud dataproc workflow-templates add-job spark-sql --step-id=job-convert-orders --file=gs://airetail/scripts/daily_product_revenue/file_format_converter.sql --params=bucket_name=gs://airetail,table_name=orders --workflow-template=wf-daily-product-revenue-bq --start-after=job-cleanup"
   ]
  },
  {
   "cell_type": "code",
   "execution_count": 36,
   "metadata": {},
   "outputs": [
    {
     "name": "stdout",
     "output_type": "stream",
     "text": [
      "createTime: '2022-10-16T15:51:28.793690Z'\n",
      "id: wf-daily-product-revenue-bq\n",
      "jobs:\n",
      "- sparkSqlJob:\n",
      "    queryFileUri: gs://airetail/scripts/daily_product_revenue/cleanup.sql\n",
      "  stepId: job-cleanup\n",
      "- prerequisiteStepIds:\n",
      "  - job-cleanup\n",
      "  sparkSqlJob:\n",
      "    queryFileUri: gs://airetail/scripts/daily_product_revenue/file_format_converter.sql\n",
      "    scriptVariables:\n",
      "      bucket_name: gs://airetail\n",
      "      table_name: orders\n",
      "  stepId: job-convert-orders\n",
      "- prerequisiteStepIds:\n",
      "  - job-cleanup\n",
      "  sparkSqlJob:\n",
      "    queryFileUri: gs://airetail/scripts/daily_product_revenue/file_format_converter.sql\n",
      "    scriptVariables:\n",
      "      bucket_name: gs://airetail\n",
      "      table_name: order_items\n",
      "  stepId: job-convert-order-items\n",
      "name: projects/tidy-fort-361710/regions/us-central1/workflowTemplates/wf-daily-product-revenue-bq\n",
      "placement:\n",
      "  clusterSelector:\n",
      "    clusterLabels:\n",
      "      goog-dataproc-cluster-name: aidataprocdev\n",
      "updateTime: '2022-10-16T15:51:35.794751Z'\n",
      "version: 5\n"
     ]
    }
   ],
   "source": [
    "!gcloud dataproc workflow-templates add-job spark-sql --step-id=job-convert-order-items --file=gs://airetail/scripts/daily_product_revenue/file_format_converter.sql --params=bucket_name=gs://airetail,table_name=order_items --workflow-template=wf-daily-product-revenue-bq --start-after=job-cleanup"
   ]
  },
  {
   "cell_type": "code",
   "execution_count": 37,
   "metadata": {},
   "outputs": [
    {
     "name": "stdout",
     "output_type": "stream",
     "text": [
      "createTime: '2022-10-16T15:51:28.793690Z'\n",
      "id: wf-daily-product-revenue-bq\n",
      "jobs:\n",
      "- sparkSqlJob:\n",
      "    queryFileUri: gs://airetail/scripts/daily_product_revenue/cleanup.sql\n",
      "  stepId: job-cleanup\n",
      "- prerequisiteStepIds:\n",
      "  - job-cleanup\n",
      "  sparkSqlJob:\n",
      "    queryFileUri: gs://airetail/scripts/daily_product_revenue/file_format_converter.sql\n",
      "    scriptVariables:\n",
      "      bucket_name: gs://airetail\n",
      "      table_name: orders\n",
      "  stepId: job-convert-orders\n",
      "- prerequisiteStepIds:\n",
      "  - job-cleanup\n",
      "  sparkSqlJob:\n",
      "    queryFileUri: gs://airetail/scripts/daily_product_revenue/file_format_converter.sql\n",
      "    scriptVariables:\n",
      "      bucket_name: gs://airetail\n",
      "      table_name: order_items\n",
      "  stepId: job-convert-order-items\n",
      "- prerequisiteStepIds:\n",
      "  - job-convert-orders\n",
      "  - job-convert-order-items\n",
      "  sparkSqlJob:\n",
      "    queryFileUri: gs://airetail/scripts/daily_product_revenue/compute_daily_product_revenue.sql\n",
      "    scriptVariables:\n",
      "      bucket_name: gs://airetail\n",
      "  stepId: job-daily-product-revenue\n",
      "name: projects/tidy-fort-361710/regions/us-central1/workflowTemplates/wf-daily-product-revenue-bq\n",
      "placement:\n",
      "  clusterSelector:\n",
      "    clusterLabels:\n",
      "      goog-dataproc-cluster-name: aidataprocdev\n",
      "updateTime: '2022-10-16T15:51:37.178034Z'\n",
      "version: 6\n"
     ]
    }
   ],
   "source": [
    "!gcloud dataproc workflow-templates add-job spark-sql --step-id=job-daily-product-revenue --file=gs://airetail/scripts/daily_product_revenue/compute_daily_product_revenue.sql --params=bucket_name=gs://airetail --workflow-template=wf-daily-product-revenue-bq --start-after=job-convert-orders,job-convert-order-items"
   ]
  },
  {
   "cell_type": "code",
   "execution_count": 38,
   "metadata": {},
   "outputs": [
    {
     "name": "stdout",
     "output_type": "stream",
     "text": [
      "ID                           JOBS  UPDATE_TIME                  VERSION\n",
      "getting-started              4     2022-10-08T09:34:41.266501Z  1\n",
      "wf-daily-product-revenue     4     2022-10-08T11:12:53.276748Z  6\n",
      "wf-daily-product-revenue-bq  4     2022-10-16T15:51:37.178034Z  6\n"
     ]
    }
   ],
   "source": [
    "!gcloud dataproc workflow-templates list"
   ]
  },
  {
   "cell_type": "markdown",
   "metadata": {},
   "source": [
    "* Make sure to specify right project id in below command. Also reformat it to single line while running on Windows."
   ]
  },
  {
   "cell_type": "code",
   "execution_count": 39,
   "metadata": {},
   "outputs": [
    {
     "name": "stdout",
     "output_type": "stream",
     "text": [
      "createTime: '2022-10-16T15:51:28.793690Z'\n",
      "id: wf-daily-product-revenue-bq\n",
      "jobs:\n",
      "- sparkSqlJob:\n",
      "    queryFileUri: gs://airetail/scripts/daily_product_revenue/cleanup.sql\n",
      "  stepId: job-cleanup\n",
      "- prerequisiteStepIds:\n",
      "  - job-cleanup\n",
      "  sparkSqlJob:\n",
      "    queryFileUri: gs://airetail/scripts/daily_product_revenue/file_format_converter.sql\n",
      "    scriptVariables:\n",
      "      bucket_name: gs://airetail\n",
      "      table_name: orders\n",
      "  stepId: job-convert-orders\n",
      "- prerequisiteStepIds:\n",
      "  - job-cleanup\n",
      "  sparkSqlJob:\n",
      "    queryFileUri: gs://airetail/scripts/daily_product_revenue/file_format_converter.sql\n",
      "    scriptVariables:\n",
      "      bucket_name: gs://airetail\n",
      "      table_name: order_items\n",
      "  stepId: job-convert-order-items\n",
      "- prerequisiteStepIds:\n",
      "  - job-convert-orders\n",
      "  - job-convert-order-items\n",
      "  sparkSqlJob:\n",
      "    queryFileUri: gs://airetail/scripts/daily_product_revenue/compute_daily_product_revenue.sql\n",
      "    scriptVariables:\n",
      "      bucket_name: gs://airetail\n",
      "  stepId: job-daily-product-revenue\n",
      "- prerequisiteStepIds:\n",
      "  - job-daily-product-revenue\n",
      "  pysparkJob:\n",
      "    jarFileUris:\n",
      "    - gs://spark-lib/bigquery/spark-bigquery-with-dependencies_2.12-0.26.0.jar\n",
      "    mainPythonFileUri: gs://airetail/apps/daily_product_revenue_bq/app.py\n",
      "    properties:\n",
      "      spark.yarn.appMasterEnv.DATASET_NAME: retail\n",
      "      spark.yarn.appMasterEnv.DATA_URI: gs://airetail/retail_gold.db/daily_product_revenue\n",
      "      spark.yarn.appMasterEnv.GCS_TEMP_BUCKET: airetail\n",
      "      spark.yarn.appMasterEnv.PROJECT_ID: tidy-fort-361710\n",
      "  stepId: job-load-dpr-bq\n",
      "name: projects/tidy-fort-361710/regions/us-central1/workflowTemplates/wf-daily-product-revenue-bq\n",
      "placement:\n",
      "  clusterSelector:\n",
      "    clusterLabels:\n",
      "      goog-dataproc-cluster-name: aidataprocdev\n",
      "updateTime: '2022-10-16T15:51:39.852241Z'\n",
      "version: 7\n"
     ]
    }
   ],
   "source": [
    "!gcloud dataproc workflow-templates \\\n",
    "    add-job pyspark \\\n",
    "    --step-id=job-load-dpr-bq \\\n",
    "    --jars=gs://spark-lib/bigquery/spark-bigquery-with-dependencies_2.12-0.26.0.jar \\\n",
    "\t--properties=spark.yarn.appMasterEnv.DATA_URI=gs://airetail/retail_gold.db/daily_product_revenue,spark.yarn.appMasterEnv.PROJECT_ID=tidy-fort-361710,spark.yarn.appMasterEnv.DATASET_NAME=retail,spark.yarn.appMasterEnv.GCS_TEMP_BUCKET=airetail \\\n",
    "    --workflow-template=wf-daily-product-revenue-bq \\\n",
    "    --start-after=job-daily-product-revenue \\\n",
    "    gs://airetail/apps/daily_product_revenue_bq/app.py"
   ]
  },
  {
   "cell_type": "code",
   "execution_count": 40,
   "metadata": {},
   "outputs": [
    {
     "name": "stdout",
     "output_type": "stream",
     "text": [
      "createTime: '2022-10-16T15:51:28.793690Z'\n",
      "id: wf-daily-product-revenue-bq\n",
      "jobs:\n",
      "- sparkSqlJob:\n",
      "    queryFileUri: gs://airetail/scripts/daily_product_revenue/cleanup.sql\n",
      "  stepId: job-cleanup\n",
      "- prerequisiteStepIds:\n",
      "  - job-cleanup\n",
      "  sparkSqlJob:\n",
      "    queryFileUri: gs://airetail/scripts/daily_product_revenue/file_format_converter.sql\n",
      "    scriptVariables:\n",
      "      bucket_name: gs://airetail\n",
      "      table_name: orders\n",
      "  stepId: job-convert-orders\n",
      "- prerequisiteStepIds:\n",
      "  - job-cleanup\n",
      "  sparkSqlJob:\n",
      "    queryFileUri: gs://airetail/scripts/daily_product_revenue/file_format_converter.sql\n",
      "    scriptVariables:\n",
      "      bucket_name: gs://airetail\n",
      "      table_name: order_items\n",
      "  stepId: job-convert-order-items\n",
      "- prerequisiteStepIds:\n",
      "  - job-convert-orders\n",
      "  - job-convert-order-items\n",
      "  sparkSqlJob:\n",
      "    queryFileUri: gs://airetail/scripts/daily_product_revenue/compute_daily_product_revenue.sql\n",
      "    scriptVariables:\n",
      "      bucket_name: gs://airetail\n",
      "  stepId: job-daily-product-revenue\n",
      "- prerequisiteStepIds:\n",
      "  - job-daily-product-revenue\n",
      "  pysparkJob:\n",
      "    jarFileUris:\n",
      "    - gs://spark-lib/bigquery/spark-bigquery-with-dependencies_2.12-0.26.0.jar\n",
      "    mainPythonFileUri: gs://airetail/apps/daily_product_revenue_bq/app.py\n",
      "    properties:\n",
      "      spark.yarn.appMasterEnv.DATASET_NAME: retail\n",
      "      spark.yarn.appMasterEnv.DATA_URI: gs://airetail/retail_gold.db/daily_product_revenue\n",
      "      spark.yarn.appMasterEnv.GCS_TEMP_BUCKET: airetail\n",
      "      spark.yarn.appMasterEnv.PROJECT_ID: tidy-fort-361710\n",
      "  stepId: job-load-dpr-bq\n",
      "name: projects/tidy-fort-361710/regions/us-central1/workflowTemplates/wf-daily-product-revenue-bq\n",
      "placement:\n",
      "  clusterSelector:\n",
      "    clusterLabels:\n",
      "      goog-dataproc-cluster-name: aidataprocdev\n",
      "updateTime: '2022-10-16T15:51:39.852241Z'\n",
      "version: 7\n"
     ]
    }
   ],
   "source": [
    "!gcloud dataproc workflow-templates describe wf-daily-product-revenue-bq"
   ]
  },
  {
   "cell_type": "markdown",
   "metadata": {},
   "source": [
    "Here is the command to instantiate or run Dataproc Workflow.\n",
    "\n",
    "```shell\n",
    "gcloud dataproc workflow-templates \\\n",
    "    instantiate wf-daily-product-revenue-bq\n",
    "```"
   ]
  },
  {
   "cell_type": "code",
   "execution_count": 41,
   "metadata": {},
   "outputs": [
    {
     "name": "stdout",
     "output_type": "stream",
     "text": [
      "NAME           PLATFORM  WORKER_COUNT  PREEMPTIBLE_WORKER_COUNT  STATUS   ZONE           SCHEDULED_DELETE\n",
      "aidataprocdev  GCE                                               RUNNING  us-central1-a\n"
     ]
    }
   ],
   "source": [
    "!gcloud dataproc clusters list"
   ]
  },
  {
   "cell_type": "code",
   "execution_count": null,
   "metadata": {},
   "outputs": [],
   "source": [
    "!gcloud dataproc clusters start aidataprocdev"
   ]
  },
  {
   "cell_type": "code",
   "execution_count": null,
   "metadata": {},
   "outputs": [],
   "source": [
    "!gcloud dataproc clusters stop aidataprocdev"
   ]
  },
  {
   "cell_type": "code",
   "execution_count": 42,
   "metadata": {},
   "outputs": [
    {
     "name": "stdout",
     "output_type": "stream",
     "text": [
      "Waiting on operation [projects/tidy-fort-361710/regions/us-central1/operations/54724776-6595-3781-96fa-6aa4cd1f9452].\n",
      "WorkflowTemplate [wf-daily-product-revenue-bq] RUNNING\n",
      "Job ID job-cleanup-xn23b5xs2ddue RUNNING\n",
      "Job ID job-cleanup-xn23b5xs2ddue COMPLETED\n",
      "Job ID job-convert-orders-xn23b5xs2ddue RUNNING\n",
      "Job ID job-convert-order-items-xn23b5xs2ddue RUNNING\n",
      "Job ID job-convert-orders-xn23b5xs2ddue COMPLETED\n",
      "Job ID job-convert-order-items-xn23b5xs2ddue COMPLETED\n",
      "Job ID job-daily-product-revenue-xn23b5xs2ddue RUNNING\n",
      "Job ID job-daily-product-revenue-xn23b5xs2ddue COMPLETED\n",
      "Job ID job-load-dpr-bq-xn23b5xs2ddue RUNNING\n",
      "WorkflowTemplate [wf-daily-product-revenue-bq] DONE\n",
      "Job ID job-load-dpr-bq-xn23b5xs2ddue FAILED\n",
      "Job ID job-load-dpr-bq-xn23b5xs2ddue error: Google Cloud Dataproc Agent reports job failure. If logs are available, they can be found at:\n",
      "https://console.cloud.google.com/dataproc/jobs/job-load-dpr-bq-xn23b5xs2ddue?project=tidy-fort-361710&region=us-central1\n",
      "gcloud dataproc jobs wait 'job-load-dpr-bq-xn23b5xs2ddue' --region 'us-central1' --project 'tidy-fort-361710'\n",
      "https://console.cloud.google.com/storage/browser/dataproc-staging-us-central1-640414278788-rm56ivot/google-cloud-dataproc-metainfo/cefeefcb-63d4-4603-a1dc-6bfb3c0fbe6d/jobs/job-load-dpr-bq-xn23b5xs2ddue/\n",
      "gs://dataproc-staging-us-central1-640414278788-rm56ivot/google-cloud-dataproc-metainfo/cefeefcb-63d4-4603-a1dc-6bfb3c0fbe6d/jobs/job-load-dpr-bq-xn23b5xs2ddue/driveroutput\n",
      "\u001b[1;31mERROR:\u001b[0m (gcloud.dataproc.workflow-templates.instantiate) Operation [projects/tidy-fort-361710/regions/us-central1/operations/54724776-6595-3781-96fa-6aa4cd1f9452] failed: Step 'job-load-dpr-bq' (job-load-dpr-bq-xn23b5xs2ddue) failed.\n"
     ]
    }
   ],
   "source": [
    "# This will take some time to run\n",
    "\n",
    "!gcloud dataproc workflow-templates instantiate wf-daily-product-revenue-bq"
   ]
  },
  {
   "cell_type": "code",
   "execution_count": null,
   "metadata": {},
   "outputs": [],
   "source": []
  }
 ],
 "metadata": {
  "kernelspec": {
   "display_name": "Python 3.9.12 ('deg-venv': venv)",
   "language": "python",
   "name": "python3"
  },
  "language_info": {
   "codemirror_mode": {
    "name": "ipython",
    "version": 3
   },
   "file_extension": ".py",
   "mimetype": "text/x-python",
   "name": "python",
   "nbconvert_exporter": "python",
   "pygments_lexer": "ipython3",
   "version": "3.9.13"
  },
  "orig_nbformat": 4,
  "vscode": {
   "interpreter": {
    "hash": "4a9d607f6995d470a72ac62c14cbba774ae3a8ede2bb7bb3a284130b245adccf"
   }
  }
 },
 "nbformat": 4,
 "nbformat_minor": 2
}
