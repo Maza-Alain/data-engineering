{
 "cells": [
  {
   "cell_type": "markdown",
   "metadata": {},
   "source": [
    "## Manage Dataproc Workflows using gcloud Commands\n",
    "Let us see how we can manage Dataproc Workflows using gcloud commands.\n",
    "* Step 1: Create Dataproc Workflow Template\n",
    "* Step 2: Configure active Dataproc cluster (we can also configure new cluster)\n",
    "* Step 3: Add Spark SQL or Pyspark Jobs to Dataproc Workflow Templates with Dependencies\n",
    "* Step 4: Run and Validate the Dataproc Workflow Template\n",
    "\n",
    "We can take care of all the steps using `gcloud` commands."
   ]
  },
  {
   "cell_type": "code",
   "execution_count": 1,
   "metadata": {},
   "outputs": [
    {
     "name": "stdout",
     "output_type": "stream",
     "text": [
      "Updated property [dataproc/region].\n",
      "\n",
      "\n",
      "Updates are available for some Cloud SDK components.  To install them,\n",
      "please run:\n",
      "  $ gcloud components update\n",
      "\n",
      "\n",
      "\n",
      "To take a quick anonymous survey, run:\n",
      "  $ gcloud survey\n",
      "\n"
     ]
    }
   ],
   "source": [
    "!gcloud config set dataproc/region us-central1"
   ]
  },
  {
   "cell_type": "code",
   "execution_count": 3,
   "metadata": {},
   "outputs": [
    {
     "name": "stdout",
     "output_type": "stream",
     "text": [
      "ID                        JOBS  UPDATE_TIME                  VERSION\n",
      "getting-started           4     2022-10-08T09:34:41.266501Z  1\n",
      "wf-daily-product-revenue  4     2022-10-08T11:12:53.276748Z  6\n"
     ]
    }
   ],
   "source": [
    "!gcloud dataproc workflow-templates list"
   ]
  },
  {
   "cell_type": "markdown",
   "metadata": {},
   "source": [
    "Here is the command to delete Dataproc Workflow Template (multiline approach doesn't work on Windows)\n",
    "\n",
    "```shell\n",
    "gcloud dataproc workflow-templates \\\n",
    "    delete wf-daily-product-revenue-bq\n",
    "```"
   ]
  },
  {
   "cell_type": "code",
   "execution_count": 4,
   "metadata": {},
   "outputs": [
    {
     "name": "stdout",
     "output_type": "stream",
     "text": [
      "\u001b[1;31mERROR:\u001b[0m (gcloud.dataproc.workflow-templates.delete) NOT_FOUND: Not found: Workflow Template projects/tidy-fort-361710/regions/us-central1/workflowTemplates/wf-daily-product-revenue-bq\n"
     ]
    }
   ],
   "source": [
    "!gcloud dataproc workflow-templates delete wf-daily-product-revenue-bq --quiet"
   ]
  },
  {
   "cell_type": "markdown",
   "metadata": {},
   "source": [
    "Here is the command to create Dataproc Workflow.\n",
    "\n",
    "```shell\n",
    "gcloud dataproc workflow-templates \\\n",
    "    create wf-daily-product-revenue-bq\n",
    "```"
   ]
  },
  {
   "cell_type": "code",
   "execution_count": 5,
   "metadata": {},
   "outputs": [],
   "source": [
    "!gcloud dataproc workflow-templates create wf-daily-product-revenue-bq"
   ]
  },
  {
   "cell_type": "code",
   "execution_count": 6,
   "metadata": {},
   "outputs": [
    {
     "name": "stdout",
     "output_type": "stream",
     "text": [
      "ID                           JOBS  UPDATE_TIME                  VERSION\n",
      "getting-started              4     2022-10-08T09:34:41.266501Z  1\n",
      "wf-daily-product-revenue     4     2022-10-08T11:12:53.276748Z  6\n",
      "wf-daily-product-revenue-bq  0     2022-10-14T22:13:30.153785Z  1\n"
     ]
    }
   ],
   "source": [
    "!gcloud dataproc workflow-templates list"
   ]
  },
  {
   "cell_type": "markdown",
   "metadata": {},
   "source": [
    "Here is the command to attach running or active Dataproc Cluster to the Dataproc Workflow. We need to specify the label for the cluster.\n",
    "\n",
    "```shell\n",
    "gcloud dataproc workflow-templates \\\n",
    "    set-cluster-selector \\\n",
    "    wf-daily-product-revenue-bq \\\n",
    "    --cluster-labels goog-dataproc-cluster-name=aidataprocdev\n",
    "```"
   ]
  },
  {
   "cell_type": "code",
   "execution_count": 7,
   "metadata": {},
   "outputs": [],
   "source": [
    "!gcloud dataproc workflow-templates set-cluster-selector wf-daily-product-revenue-bq --cluster-labels goog-dataproc-cluster-name=aidataprocdev"
   ]
  },
  {
   "cell_type": "markdown",
   "metadata": {},
   "source": [
    "Here are the commands to add Spark SQL Jobs to the Dataproc Workflow.\n",
    "\n",
    "```shell\n",
    "gcloud dataproc workflow-templates add-job spark-sql \\\n",
    "    --step-id=job-cleanup \\\n",
    "    --file=gs://airetail/scripts/daily_product_revenue/cleanup.sql \\\n",
    "    --workflow-template=wf-daily-product-revenue-bq\n",
    "\n",
    "# File Format Converter jobs with dependency on cleanup\n",
    "gcloud dataproc workflow-templates add-job spark-sql \\\n",
    "    --step-id=job-convert-orders \\\n",
    "    --file=gs://airetail/scripts/daily_product_revenue/file_format_converter.sql \\\n",
    "    --params=bucket_name=gs://airetail,table_name=orders \\\n",
    "    --workflow-template=wf-daily-product-revenue-bq \\\n",
    "    --start-after=job-cleanup\n",
    "\n",
    "gcloud dataproc workflow-templates add-job spark-sql \\\n",
    "    --step-id=job-convert-order-items \\\n",
    "    --file=gs://airetail/scripts/daily_product_revenue/file_format_converter.sql \\\n",
    "    --params=bucket_name=gs://airetail,table_name=order_items \\\n",
    "    --workflow-template=wf-daily-product-revenue-bq \\\n",
    "    --start-after=job-cleanup\n",
    "\n",
    "# Last Job which depends on convert orders and order_items jobs\n",
    "gcloud dataproc workflow-templates add-job spark-sql \\\n",
    "    --step-id=job-daily-product-revenue \\\n",
    "    --file=gs://airetail/scripts/daily_product_revenue/compute_daily_product_revenue.sql \\\n",
    "    --params=bucket_name=gs://airetail \\\n",
    "    --workflow-template=wf-daily-product-revenue-bq \\\n",
    "    --start-after=job-convert-orders,job-convert-order-items\n",
    "```"
   ]
  },
  {
   "cell_type": "code",
   "execution_count": 8,
   "metadata": {},
   "outputs": [
    {
     "name": "stdout",
     "output_type": "stream",
     "text": [
      "createTime: '2022-10-14T22:13:30.153785Z'\n",
      "id: wf-daily-product-revenue-bq\n",
      "jobs:\n",
      "- sparkSqlJob:\n",
      "    queryFileUri: gs://airetail/scripts/daily_product_revenue/cleanup.sql\n",
      "  stepId: job-cleanup\n",
      "name: projects/tidy-fort-361710/regions/us-central1/workflowTemplates/wf-daily-product-revenue-bq\n",
      "placement:\n",
      "  clusterSelector:\n",
      "    clusterLabels:\n",
      "      goog-dataproc-cluster-name: aidataprocdev\n",
      "updateTime: '2022-10-14T22:13:44.975510Z'\n",
      "version: 3\n"
     ]
    }
   ],
   "source": [
    "!gcloud dataproc workflow-templates add-job spark-sql --step-id=job-cleanup --file=gs://airetail/scripts/daily_product_revenue/cleanup.sql --workflow-template=wf-daily-product-revenue-bq"
   ]
  },
  {
   "cell_type": "code",
   "execution_count": 9,
   "metadata": {},
   "outputs": [
    {
     "name": "stdout",
     "output_type": "stream",
     "text": [
      "createTime: '2022-10-14T22:13:30.153785Z'\n",
      "id: wf-daily-product-revenue-bq\n",
      "jobs:\n",
      "- sparkSqlJob:\n",
      "    queryFileUri: gs://airetail/scripts/daily_product_revenue/cleanup.sql\n",
      "  stepId: job-cleanup\n",
      "- prerequisiteStepIds:\n",
      "  - job-cleanup\n",
      "  sparkSqlJob:\n",
      "    queryFileUri: gs://airetail/scripts/daily_product_revenue/file_format_converter.sql\n",
      "    scriptVariables:\n",
      "      bucket_name: gs://airetail\n",
      "      table_name: orders\n",
      "  stepId: job-convert-orders\n",
      "name: projects/tidy-fort-361710/regions/us-central1/workflowTemplates/wf-daily-product-revenue-bq\n",
      "placement:\n",
      "  clusterSelector:\n",
      "    clusterLabels:\n",
      "      goog-dataproc-cluster-name: aidataprocdev\n",
      "updateTime: '2022-10-14T22:13:48.649949Z'\n",
      "version: 4\n"
     ]
    }
   ],
   "source": [
    "\n",
    "!gcloud dataproc workflow-templates add-job spark-sql --step-id=job-convert-orders --file=gs://airetail/scripts/daily_product_revenue/file_format_converter.sql --params=bucket_name=gs://airetail,table_name=orders --workflow-template=wf-daily-product-revenue-bq --start-after=job-cleanup"
   ]
  },
  {
   "cell_type": "code",
   "execution_count": 10,
   "metadata": {},
   "outputs": [
    {
     "name": "stdout",
     "output_type": "stream",
     "text": [
      "createTime: '2022-10-14T22:13:30.153785Z'\n",
      "id: wf-daily-product-revenue-bq\n",
      "jobs:\n",
      "- sparkSqlJob:\n",
      "    queryFileUri: gs://airetail/scripts/daily_product_revenue/cleanup.sql\n",
      "  stepId: job-cleanup\n",
      "- prerequisiteStepIds:\n",
      "  - job-cleanup\n",
      "  sparkSqlJob:\n",
      "    queryFileUri: gs://airetail/scripts/daily_product_revenue/file_format_converter.sql\n",
      "    scriptVariables:\n",
      "      bucket_name: gs://airetail\n",
      "      table_name: orders\n",
      "  stepId: job-convert-orders\n",
      "- prerequisiteStepIds:\n",
      "  - job-cleanup\n",
      "  sparkSqlJob:\n",
      "    queryFileUri: gs://airetail/scripts/daily_product_revenue/file_format_converter.sql\n",
      "    scriptVariables:\n",
      "      bucket_name: gs://airetail\n",
      "      table_name: order_items\n",
      "  stepId: job-convert-order-items\n",
      "name: projects/tidy-fort-361710/regions/us-central1/workflowTemplates/wf-daily-product-revenue-bq\n",
      "placement:\n",
      "  clusterSelector:\n",
      "    clusterLabels:\n",
      "      goog-dataproc-cluster-name: aidataprocdev\n",
      "updateTime: '2022-10-14T22:13:50.858264Z'\n",
      "version: 5\n"
     ]
    }
   ],
   "source": [
    "!gcloud dataproc workflow-templates add-job spark-sql --step-id=job-convert-order-items --file=gs://airetail/scripts/daily_product_revenue/file_format_converter.sql --params=bucket_name=gs://airetail,table_name=order_items --workflow-template=wf-daily-product-revenue-bq --start-after=job-cleanup"
   ]
  },
  {
   "cell_type": "code",
   "execution_count": 11,
   "metadata": {},
   "outputs": [
    {
     "name": "stdout",
     "output_type": "stream",
     "text": [
      "createTime: '2022-10-14T22:13:30.153785Z'\n",
      "id: wf-daily-product-revenue-bq\n",
      "jobs:\n",
      "- sparkSqlJob:\n",
      "    queryFileUri: gs://airetail/scripts/daily_product_revenue/cleanup.sql\n",
      "  stepId: job-cleanup\n",
      "- prerequisiteStepIds:\n",
      "  - job-cleanup\n",
      "  sparkSqlJob:\n",
      "    queryFileUri: gs://airetail/scripts/daily_product_revenue/file_format_converter.sql\n",
      "    scriptVariables:\n",
      "      bucket_name: gs://airetail\n",
      "      table_name: orders\n",
      "  stepId: job-convert-orders\n",
      "- prerequisiteStepIds:\n",
      "  - job-cleanup\n",
      "  sparkSqlJob:\n",
      "    queryFileUri: gs://airetail/scripts/daily_product_revenue/file_format_converter.sql\n",
      "    scriptVariables:\n",
      "      bucket_name: gs://airetail\n",
      "      table_name: order_items\n",
      "  stepId: job-convert-order-items\n",
      "- prerequisiteStepIds:\n",
      "  - job-convert-orders\n",
      "  - job-convert-order-items\n",
      "  sparkSqlJob:\n",
      "    queryFileUri: gs://airetail/scripts/daily_product_revenue/compute_daily_product_revenue.sql\n",
      "    scriptVariables:\n",
      "      bucket_name: gs://airetail\n",
      "  stepId: job-daily-product-revenue\n",
      "name: projects/tidy-fort-361710/regions/us-central1/workflowTemplates/wf-daily-product-revenue-bq\n",
      "placement:\n",
      "  clusterSelector:\n",
      "    clusterLabels:\n",
      "      goog-dataproc-cluster-name: aidataprocdev\n",
      "updateTime: '2022-10-14T22:13:53.061433Z'\n",
      "version: 6\n"
     ]
    }
   ],
   "source": [
    "!gcloud dataproc workflow-templates add-job spark-sql --step-id=job-daily-product-revenue --file=gs://airetail/scripts/daily_product_revenue/compute_daily_product_revenue.sql --params=bucket_name=gs://airetail --workflow-template=wf-daily-product-revenue-bq --start-after=job-convert-orders,job-convert-order-items"
   ]
  },
  {
   "cell_type": "code",
   "execution_count": 12,
   "metadata": {},
   "outputs": [
    {
     "name": "stdout",
     "output_type": "stream",
     "text": [
      "ID                           JOBS  UPDATE_TIME                  VERSION\n",
      "getting-started              4     2022-10-08T09:34:41.266501Z  1\n",
      "wf-daily-product-revenue     4     2022-10-08T11:12:53.276748Z  6\n",
      "wf-daily-product-revenue-bq  4     2022-10-14T22:13:53.061433Z  6\n"
     ]
    }
   ],
   "source": [
    "!gcloud dataproc workflow-templates list"
   ]
  },
  {
   "cell_type": "code",
   "execution_count": 13,
   "metadata": {},
   "outputs": [
    {
     "name": "stdout",
     "output_type": "stream",
     "text": [
      "createTime: '2022-10-14T22:13:30.153785Z'\n",
      "id: wf-daily-product-revenue-bq\n",
      "jobs:\n",
      "- sparkSqlJob:\n",
      "    queryFileUri: gs://airetail/scripts/daily_product_revenue/cleanup.sql\n",
      "  stepId: job-cleanup\n",
      "- prerequisiteStepIds:\n",
      "  - job-cleanup\n",
      "  sparkSqlJob:\n",
      "    queryFileUri: gs://airetail/scripts/daily_product_revenue/file_format_converter.sql\n",
      "    scriptVariables:\n",
      "      bucket_name: gs://airetail\n",
      "      table_name: orders\n",
      "  stepId: job-convert-orders\n",
      "- prerequisiteStepIds:\n",
      "  - job-cleanup\n",
      "  sparkSqlJob:\n",
      "    queryFileUri: gs://airetail/scripts/daily_product_revenue/file_format_converter.sql\n",
      "    scriptVariables:\n",
      "      bucket_name: gs://airetail\n",
      "      table_name: order_items\n",
      "  stepId: job-convert-order-items\n",
      "- prerequisiteStepIds:\n",
      "  - job-convert-orders\n",
      "  - job-convert-order-items\n",
      "  sparkSqlJob:\n",
      "    queryFileUri: gs://airetail/scripts/daily_product_revenue/compute_daily_product_revenue.sql\n",
      "    scriptVariables:\n",
      "      bucket_name: gs://airetail\n",
      "  stepId: job-daily-product-revenue\n",
      "name: projects/tidy-fort-361710/regions/us-central1/workflowTemplates/wf-daily-product-revenue-bq\n",
      "placement:\n",
      "  clusterSelector:\n",
      "    clusterLabels:\n",
      "      goog-dataproc-cluster-name: aidataprocdev\n",
      "updateTime: '2022-10-14T22:13:53.061433Z'\n",
      "version: 6\n"
     ]
    }
   ],
   "source": [
    "!gcloud dataproc workflow-templates describe wf-daily-product-revenue-bq"
   ]
  },
  {
   "cell_type": "markdown",
   "metadata": {},
   "source": [
    "Here is the command to instantiate or run Dataproc Workflow.\n",
    "\n",
    "```shell\n",
    "gcloud dataproc workflow-templates \\\n",
    "    instantiate wf-daily-product-revenue-bq\n",
    "```"
   ]
  },
  {
   "cell_type": "code",
   "execution_count": 26,
   "metadata": {},
   "outputs": [
    {
     "name": "stdout",
     "output_type": "stream",
     "text": [
      "Waiting on operation [projects/tidy-fort-361710/regions/us-central1/operations/df7d7067-161b-3e09-8f21-33fc96fdef6a].\n",
      "Waiting for cluster 'aidataprocdev' to start....done.                          \n",
      "done: true\n",
      "metadata:\n",
      "  '@type': type.googleapis.com/google.cloud.dataproc.v1.ClusterOperationMetadata\n",
      "  clusterName: aidataprocdev\n",
      "  clusterUuid: cefeefcb-63d4-4603-a1dc-6bfb3c0fbe6d\n",
      "  description: Start cluster\n",
      "  operationType: START\n",
      "  status:\n",
      "    innerState: DONE\n",
      "    state: DONE\n",
      "    stateStartTime: '2022-10-15T01:30:05.793757Z'\n",
      "  statusHistory:\n",
      "  - state: PENDING\n",
      "    stateStartTime: '2022-10-15T01:28:18.862247Z'\n",
      "  - state: RUNNING\n",
      "    stateStartTime: '2022-10-15T01:28:18.929951Z'\n",
      "name: projects/tidy-fort-361710/regions/us-central1/operations/df7d7067-161b-3e09-8f21-33fc96fdef6a\n",
      "response:\n",
      "  '@type': type.googleapis.com/google.cloud.dataproc.v1.Cluster\n",
      "  clusterName: aidataprocdev\n",
      "  clusterUuid: cefeefcb-63d4-4603-a1dc-6bfb3c0fbe6d\n",
      "  config:\n",
      "    configBucket: dataproc-staging-us-central1-640414278788-rm56ivot\n",
      "    encryptionConfig: {}\n",
      "    endpointConfig:\n",
      "      enableHttpPortAccess: true\n",
      "      httpPorts:\n",
      "        HDFS NameNode: https://7rnmz3c6azf43i5bdmj6tetmuy-dot-us-central1.dataproc.googleusercontent.com/hdfs/dfshealth.html\n",
      "        Jupyter: https://7rnmz3c6azf43i5bdmj6tetmuy-dot-us-central1.dataproc.googleusercontent.com/gateway/default/jupyter/\n",
      "        JupyterLab: https://7rnmz3c6azf43i5bdmj6tetmuy-dot-us-central1.dataproc.googleusercontent.com/gateway/default/jupyter/lab/\n",
      "        MapReduce Job History: https://7rnmz3c6azf43i5bdmj6tetmuy-dot-us-central1.dataproc.googleusercontent.com/jobhistory/\n",
      "        Spark History Server: https://7rnmz3c6azf43i5bdmj6tetmuy-dot-us-central1.dataproc.googleusercontent.com/sparkhistory/\n",
      "        Tez: https://7rnmz3c6azf43i5bdmj6tetmuy-dot-us-central1.dataproc.googleusercontent.com/apphistory/tez-ui/\n",
      "        YARN Application Timeline: https://7rnmz3c6azf43i5bdmj6tetmuy-dot-us-central1.dataproc.googleusercontent.com/apphistory/\n",
      "        YARN ResourceManager: https://7rnmz3c6azf43i5bdmj6tetmuy-dot-us-central1.dataproc.googleusercontent.com/yarn/\n",
      "    gceClusterConfig:\n",
      "      networkUri: https://www.googleapis.com/compute/v1/projects/tidy-fort-361710/global/networks/default\n",
      "      serviceAccountScopes:\n",
      "      - https://www.googleapis.com/auth/bigquery\n",
      "      - https://www.googleapis.com/auth/bigtable.admin.table\n",
      "      - https://www.googleapis.com/auth/bigtable.data\n",
      "      - https://www.googleapis.com/auth/cloud.useraccounts.readonly\n",
      "      - https://www.googleapis.com/auth/devstorage.full_control\n",
      "      - https://www.googleapis.com/auth/devstorage.read_write\n",
      "      - https://www.googleapis.com/auth/logging.write\n",
      "      shieldedInstanceConfig: {}\n",
      "      zoneUri: https://www.googleapis.com/compute/v1/projects/tidy-fort-361710/zones/us-central1-a\n",
      "    masterConfig:\n",
      "      diskConfig:\n",
      "        bootDiskSizeGb: 500\n",
      "        bootDiskType: pd-standard\n",
      "      imageUri: https://www.googleapis.com/compute/v1/projects/cloud-dataproc/global/images/dataproc-2-0-deb10-20220808-050200-rc01\n",
      "      machineTypeUri: https://www.googleapis.com/compute/v1/projects/tidy-fort-361710/zones/us-central1-a/machineTypes/n1-standard-4\n",
      "      minCpuPlatform: AUTOMATIC\n",
      "      numInstances: 1\n",
      "      preemptibility: NON_PREEMPTIBLE\n",
      "    securityConfig:\n",
      "      kerberosConfig: {}\n",
      "    softwareConfig:\n",
      "      imageVersion: 2.0.47-debian10\n",
      "      optionalComponents:\n",
      "      - JUPYTER\n",
      "      properties:\n",
      "        capacity-scheduler:yarn.scheduler.capacity.root.default.ordering-policy: fair\n",
      "        core:fs.gs.block.size: '134217728'\n",
      "        core:fs.gs.metadata.cache.enable: 'false'\n",
      "        core:hadoop.ssl.enabled.protocols: TLSv1,TLSv1.1,TLSv1.2\n",
      "        dataproc:dataproc.allow.zero.workers: 'true'\n",
      "        distcp:mapreduce.map.java.opts: -Xmx768m\n",
      "        distcp:mapreduce.map.memory.mb: '1024'\n",
      "        distcp:mapreduce.reduce.java.opts: -Xmx768m\n",
      "        distcp:mapreduce.reduce.memory.mb: '1024'\n",
      "        hadoop-env:HADOOP_DATANODE_OPTS: -Xmx512m\n",
      "        hdfs:dfs.datanode.address: 0.0.0.0:9866\n",
      "        hdfs:dfs.datanode.http.address: 0.0.0.0:9864\n",
      "        hdfs:dfs.datanode.https.address: 0.0.0.0:9865\n",
      "        hdfs:dfs.datanode.ipc.address: 0.0.0.0:9867\n",
      "        hdfs:dfs.namenode.handler.count: '20'\n",
      "        hdfs:dfs.namenode.http-address: 0.0.0.0:9870\n",
      "        hdfs:dfs.namenode.https-address: 0.0.0.0:9871\n",
      "        hdfs:dfs.namenode.lifeline.rpc-address: aidataprocdev-m:8050\n",
      "        hdfs:dfs.namenode.secondary.http-address: 0.0.0.0:9868\n",
      "        hdfs:dfs.namenode.secondary.https-address: 0.0.0.0:9869\n",
      "        hdfs:dfs.namenode.service.handler.count: '10'\n",
      "        hdfs:dfs.namenode.servicerpc-address: aidataprocdev-m:8051\n",
      "        hive:hive.fetch.task.conversion: none\n",
      "        mapred-env:HADOOP_JOB_HISTORYSERVER_HEAPSIZE: '3840'\n",
      "        mapred:mapreduce.job.maps: '9'\n",
      "        mapred:mapreduce.job.reduce.slowstart.completedmaps: '0.95'\n",
      "        mapred:mapreduce.job.reduces: '3'\n",
      "        mapred:mapreduce.jobhistory.recovery.store.class: org.apache.hadoop.mapreduce.v2.hs.HistoryServerLeveldbStateStoreService\n",
      "        mapred:mapreduce.map.cpu.vcores: '1'\n",
      "        mapred:mapreduce.map.java.opts: -Xmx2524m\n",
      "        mapred:mapreduce.map.memory.mb: '3156'\n",
      "        mapred:mapreduce.reduce.cpu.vcores: '1'\n",
      "        mapred:mapreduce.reduce.java.opts: -Xmx2524m\n",
      "        mapred:mapreduce.reduce.memory.mb: '3156'\n",
      "        mapred:mapreduce.task.io.sort.mb: '256'\n",
      "        mapred:yarn.app.mapreduce.am.command-opts: -Xmx2524m\n",
      "        mapred:yarn.app.mapreduce.am.resource.cpu-vcores: '1'\n",
      "        mapred:yarn.app.mapreduce.am.resource.mb: '3156'\n",
      "        spark-env:SPARK_DAEMON_MEMORY: 3840m\n",
      "        spark:spark.driver.maxResultSize: 1920m\n",
      "        spark:spark.driver.memory: 3840m\n",
      "        spark:spark.executor.cores: '2'\n",
      "        spark:spark.executor.instances: '2'\n",
      "        spark:spark.executor.memory: 5739m\n",
      "        spark:spark.executorEnv.OPENBLAS_NUM_THREADS: '1'\n",
      "        spark:spark.extraListeners: com.google.cloud.spark.performance.DataprocMetricsListener\n",
      "        spark:spark.scheduler.mode: FAIR\n",
      "        spark:spark.sql.cbo.enabled: 'true'\n",
      "        spark:spark.ui.port: '0'\n",
      "        spark:spark.yarn.am.memory: 640m\n",
      "        yarn-env:YARN_NODEMANAGER_HEAPSIZE: '1536'\n",
      "        yarn-env:YARN_RESOURCEMANAGER_HEAPSIZE: '3840'\n",
      "        yarn-env:YARN_TIMELINESERVER_HEAPSIZE: '3840'\n",
      "        yarn:yarn.nodemanager.address: 0.0.0.0:8026\n",
      "        yarn:yarn.nodemanager.resource.cpu-vcores: '4'\n",
      "        yarn:yarn.nodemanager.resource.memory-mb: '12624'\n",
      "        yarn:yarn.resourcemanager.nodemanager-graceful-decommission-timeout-secs: '86400'\n",
      "        yarn:yarn.scheduler.maximum-allocation-mb: '12624'\n",
      "        yarn:yarn.scheduler.minimum-allocation-mb: '1'\n",
      "    tempBucket: dataproc-temp-us-central1-640414278788-k829hmkl\n",
      "    workerConfig: {}\n",
      "  labels:\n",
      "    goog-dataproc-cluster-name: aidataprocdev\n",
      "    goog-dataproc-cluster-uuid: cefeefcb-63d4-4603-a1dc-6bfb3c0fbe6d\n",
      "    goog-dataproc-location: us-central1\n",
      "  projectId: tidy-fort-361710\n"
     ]
    }
   ],
   "source": [
    "!gcloud dataproc clusters start aidataprocdev"
   ]
  },
  {
   "cell_type": "code",
   "execution_count": 25,
   "metadata": {},
   "outputs": [
    {
     "name": "stdout",
     "output_type": "stream",
     "text": [
      "Waiting on operation [projects/tidy-fort-361710/regions/us-central1/operations/82ff03f5-2d29-3cc1-8f68-2eed70f8c329].\n",
      "Waiting for cluster 'aidataprocdev' to stop....done.                           \n",
      "done: true\n",
      "metadata:\n",
      "  '@type': type.googleapis.com/google.cloud.dataproc.v1.ClusterOperationMetadata\n",
      "  clusterName: aidataprocdev\n",
      "  clusterUuid: cefeefcb-63d4-4603-a1dc-6bfb3c0fbe6d\n",
      "  description: Stop cluster\n",
      "  operationType: STOP\n",
      "  status:\n",
      "    innerState: DONE\n",
      "    state: DONE\n",
      "    stateStartTime: '2022-10-14T22:19:16.839464Z'\n",
      "  statusHistory:\n",
      "  - state: PENDING\n",
      "    stateStartTime: '2022-10-14T22:18:55.721271Z'\n",
      "  - state: RUNNING\n",
      "    stateStartTime: '2022-10-14T22:18:55.758764Z'\n",
      "name: projects/tidy-fort-361710/regions/us-central1/operations/82ff03f5-2d29-3cc1-8f68-2eed70f8c329\n",
      "response:\n",
      "  '@type': type.googleapis.com/google.cloud.dataproc.v1.Cluster\n",
      "  clusterName: aidataprocdev\n",
      "  clusterUuid: cefeefcb-63d4-4603-a1dc-6bfb3c0fbe6d\n",
      "  config:\n",
      "    configBucket: dataproc-staging-us-central1-640414278788-rm56ivot\n",
      "    encryptionConfig: {}\n",
      "    endpointConfig:\n",
      "      enableHttpPortAccess: true\n",
      "      httpPorts:\n",
      "        HDFS NameNode: https://7rnmz3c6azf43i5bdmj6tetmuy-dot-us-central1.dataproc.googleusercontent.com/hdfs/dfshealth.html\n",
      "        Jupyter: https://7rnmz3c6azf43i5bdmj6tetmuy-dot-us-central1.dataproc.googleusercontent.com/gateway/default/jupyter/\n",
      "        JupyterLab: https://7rnmz3c6azf43i5bdmj6tetmuy-dot-us-central1.dataproc.googleusercontent.com/gateway/default/jupyter/lab/\n",
      "        MapReduce Job History: https://7rnmz3c6azf43i5bdmj6tetmuy-dot-us-central1.dataproc.googleusercontent.com/jobhistory/\n",
      "        Spark History Server: https://7rnmz3c6azf43i5bdmj6tetmuy-dot-us-central1.dataproc.googleusercontent.com/sparkhistory/\n",
      "        Tez: https://7rnmz3c6azf43i5bdmj6tetmuy-dot-us-central1.dataproc.googleusercontent.com/apphistory/tez-ui/\n",
      "        YARN Application Timeline: https://7rnmz3c6azf43i5bdmj6tetmuy-dot-us-central1.dataproc.googleusercontent.com/apphistory/\n",
      "        YARN ResourceManager: https://7rnmz3c6azf43i5bdmj6tetmuy-dot-us-central1.dataproc.googleusercontent.com/yarn/\n",
      "    gceClusterConfig:\n",
      "      networkUri: https://www.googleapis.com/compute/v1/projects/tidy-fort-361710/global/networks/default\n",
      "      serviceAccountScopes:\n",
      "      - https://www.googleapis.com/auth/bigquery\n",
      "      - https://www.googleapis.com/auth/bigtable.admin.table\n",
      "      - https://www.googleapis.com/auth/bigtable.data\n",
      "      - https://www.googleapis.com/auth/cloud.useraccounts.readonly\n",
      "      - https://www.googleapis.com/auth/devstorage.full_control\n",
      "      - https://www.googleapis.com/auth/devstorage.read_write\n",
      "      - https://www.googleapis.com/auth/logging.write\n",
      "      shieldedInstanceConfig: {}\n",
      "      zoneUri: https://www.googleapis.com/compute/v1/projects/tidy-fort-361710/zones/us-central1-a\n",
      "    masterConfig:\n",
      "      diskConfig:\n",
      "        bootDiskSizeGb: 500\n",
      "        bootDiskType: pd-standard\n",
      "      imageUri: https://www.googleapis.com/compute/v1/projects/cloud-dataproc/global/images/dataproc-2-0-deb10-20220808-050200-rc01\n",
      "      machineTypeUri: https://www.googleapis.com/compute/v1/projects/tidy-fort-361710/zones/us-central1-a/machineTypes/n1-standard-4\n",
      "      minCpuPlatform: AUTOMATIC\n",
      "      numInstances: 1\n",
      "      preemptibility: NON_PREEMPTIBLE\n",
      "    securityConfig:\n",
      "      kerberosConfig: {}\n",
      "    softwareConfig:\n",
      "      imageVersion: 2.0.47-debian10\n",
      "      optionalComponents:\n",
      "      - JUPYTER\n",
      "      properties:\n",
      "        capacity-scheduler:yarn.scheduler.capacity.root.default.ordering-policy: fair\n",
      "        core:fs.gs.block.size: '134217728'\n",
      "        core:fs.gs.metadata.cache.enable: 'false'\n",
      "        core:hadoop.ssl.enabled.protocols: TLSv1,TLSv1.1,TLSv1.2\n",
      "        dataproc:dataproc.allow.zero.workers: 'true'\n",
      "        distcp:mapreduce.map.java.opts: -Xmx768m\n",
      "        distcp:mapreduce.map.memory.mb: '1024'\n",
      "        distcp:mapreduce.reduce.java.opts: -Xmx768m\n",
      "        distcp:mapreduce.reduce.memory.mb: '1024'\n",
      "        hadoop-env:HADOOP_DATANODE_OPTS: -Xmx512m\n",
      "        hdfs:dfs.datanode.address: 0.0.0.0:9866\n",
      "        hdfs:dfs.datanode.http.address: 0.0.0.0:9864\n",
      "        hdfs:dfs.datanode.https.address: 0.0.0.0:9865\n",
      "        hdfs:dfs.datanode.ipc.address: 0.0.0.0:9867\n",
      "        hdfs:dfs.namenode.handler.count: '20'\n",
      "        hdfs:dfs.namenode.http-address: 0.0.0.0:9870\n",
      "        hdfs:dfs.namenode.https-address: 0.0.0.0:9871\n",
      "        hdfs:dfs.namenode.lifeline.rpc-address: aidataprocdev-m:8050\n",
      "        hdfs:dfs.namenode.secondary.http-address: 0.0.0.0:9868\n",
      "        hdfs:dfs.namenode.secondary.https-address: 0.0.0.0:9869\n",
      "        hdfs:dfs.namenode.service.handler.count: '10'\n",
      "        hdfs:dfs.namenode.servicerpc-address: aidataprocdev-m:8051\n",
      "        hive:hive.fetch.task.conversion: none\n",
      "        mapred-env:HADOOP_JOB_HISTORYSERVER_HEAPSIZE: '3840'\n",
      "        mapred:mapreduce.job.maps: '9'\n",
      "        mapred:mapreduce.job.reduce.slowstart.completedmaps: '0.95'\n",
      "        mapred:mapreduce.job.reduces: '3'\n",
      "        mapred:mapreduce.jobhistory.recovery.store.class: org.apache.hadoop.mapreduce.v2.hs.HistoryServerLeveldbStateStoreService\n",
      "        mapred:mapreduce.map.cpu.vcores: '1'\n",
      "        mapred:mapreduce.map.java.opts: -Xmx2524m\n",
      "        mapred:mapreduce.map.memory.mb: '3156'\n",
      "        mapred:mapreduce.reduce.cpu.vcores: '1'\n",
      "        mapred:mapreduce.reduce.java.opts: -Xmx2524m\n",
      "        mapred:mapreduce.reduce.memory.mb: '3156'\n",
      "        mapred:mapreduce.task.io.sort.mb: '256'\n",
      "        mapred:yarn.app.mapreduce.am.command-opts: -Xmx2524m\n",
      "        mapred:yarn.app.mapreduce.am.resource.cpu-vcores: '1'\n",
      "        mapred:yarn.app.mapreduce.am.resource.mb: '3156'\n",
      "        spark-env:SPARK_DAEMON_MEMORY: 3840m\n",
      "        spark:spark.driver.maxResultSize: 1920m\n",
      "        spark:spark.driver.memory: 3840m\n",
      "        spark:spark.executor.cores: '2'\n",
      "        spark:spark.executor.instances: '2'\n",
      "        spark:spark.executor.memory: 5739m\n",
      "        spark:spark.executorEnv.OPENBLAS_NUM_THREADS: '1'\n",
      "        spark:spark.extraListeners: com.google.cloud.spark.performance.DataprocMetricsListener\n",
      "        spark:spark.scheduler.mode: FAIR\n",
      "        spark:spark.sql.cbo.enabled: 'true'\n",
      "        spark:spark.ui.port: '0'\n",
      "        spark:spark.yarn.am.memory: 640m\n",
      "        yarn-env:YARN_NODEMANAGER_HEAPSIZE: '1536'\n",
      "        yarn-env:YARN_RESOURCEMANAGER_HEAPSIZE: '3840'\n",
      "        yarn-env:YARN_TIMELINESERVER_HEAPSIZE: '3840'\n",
      "        yarn:yarn.nodemanager.address: 0.0.0.0:8026\n",
      "        yarn:yarn.nodemanager.resource.cpu-vcores: '4'\n",
      "        yarn:yarn.nodemanager.resource.memory-mb: '12624'\n",
      "        yarn:yarn.resourcemanager.nodemanager-graceful-decommission-timeout-secs: '86400'\n",
      "        yarn:yarn.scheduler.maximum-allocation-mb: '12624'\n",
      "        yarn:yarn.scheduler.minimum-allocation-mb: '1'\n",
      "    tempBucket: dataproc-temp-us-central1-640414278788-k829hmkl\n",
      "    workerConfig: {}\n",
      "  labels:\n",
      "    goog-dataproc-cluster-name: aidataprocdev\n",
      "    goog-dataproc-cluster-uuid: cefeefcb-63d4-4603-a1dc-6bfb3c0fbe6d\n",
      "    goog-dataproc-location: us-central1\n",
      "  projectId: tidy-fort-361710\n"
     ]
    }
   ],
   "source": [
    "!gcloud dataproc clusters stop aidataprocdev"
   ]
  },
  {
   "cell_type": "code",
   "execution_count": 27,
   "metadata": {},
   "outputs": [
    {
     "name": "stdout",
     "output_type": "stream",
     "text": [
      "Waiting on operation [projects/tidy-fort-361710/regions/us-central1/operations/88a59259-e767-36c9-bce2-7fe8e14c7e42].\n",
      "WorkflowTemplate [wf-daily-product-revenue-bq] RUNNING\n",
      "Job ID job-cleanup-pw3itggd2hmz6 RUNNING\n",
      "Job ID job-cleanup-pw3itggd2hmz6 COMPLETED\n",
      "Job ID job-convert-orders-pw3itggd2hmz6 RUNNING\n",
      "Job ID job-convert-order-items-pw3itggd2hmz6 RUNNING\n",
      "Job ID job-convert-orders-pw3itggd2hmz6 COMPLETED\n",
      "Job ID job-convert-order-items-pw3itggd2hmz6 COMPLETED\n",
      "Job ID job-daily-product-revenue-pw3itggd2hmz6 RUNNING\n",
      "WorkflowTemplate [wf-daily-product-revenue-bq] DONE\n",
      "Job ID job-daily-product-revenue-pw3itggd2hmz6 COMPLETED\n"
     ]
    }
   ],
   "source": [
    "# This will take some time to run\n",
    "\n",
    "!gcloud dataproc workflow-templates instantiate wf-daily-product-revenue-bq"
   ]
  },
  {
   "cell_type": "code",
   "execution_count": null,
   "metadata": {},
   "outputs": [],
   "source": []
  }
 ],
 "metadata": {
  "kernelspec": {
   "display_name": "Python 3.9.12 ('deg-venv': venv)",
   "language": "python",
   "name": "python3"
  },
  "language_info": {
   "codemirror_mode": {
    "name": "ipython",
    "version": 3
   },
   "file_extension": ".py",
   "mimetype": "text/x-python",
   "name": "python",
   "nbconvert_exporter": "python",
   "pygments_lexer": "ipython3",
   "version": "3.9.13"
  },
  "orig_nbformat": 4,
  "vscode": {
   "interpreter": {
    "hash": "4a9d607f6995d470a72ac62c14cbba774ae3a8ede2bb7bb3a284130b245adccf"
   }
  }
 },
 "nbformat": 4,
 "nbformat_minor": 2
}
