{
 "cells": [
  {
   "cell_type": "markdown",
   "metadata": {},
   "source": [
    "## Manage Dataproc Workflows using gcloud Commands\n",
    "Let us see how we can manage Dataproc Workflows using gcloud commands.\n",
    "* Step 1: Create Dataproc Workflow Template\n",
    "* Step 2: Configure active Dataproc cluster (we can also configure new cluster)\n",
    "* Step 3: Add Spark SQL or Pyspark Jobs to Dataproc Workflow Templates with Dependencies\n",
    "* Step 4: Run and Validate the Dataproc Workflow Template\n",
    "\n",
    "We can take care of all the steps using `gcloud` commands."
   ]
  },
  {
   "cell_type": "code",
   "execution_count": 1,
   "metadata": {},
   "outputs": [
    {
     "name": "stdout",
     "output_type": "stream",
     "text": [
      "Updated property [dataproc/region].\n"
     ]
    }
   ],
   "source": [
    "!gcloud config set dataproc/region us-central1"
   ]
  },
  {
   "cell_type": "code",
   "execution_count": 2,
   "metadata": {},
   "outputs": [
    {
     "name": "stdout",
     "output_type": "stream",
     "text": [
      "\u001b[1;31mERROR:\u001b[0m (gcloud.dataproc.workflow-templates) Command name argument expected.\n",
      "\n",
      "\u001b[m\u001b[1mAvailable groups for gcloud dataproc workflow-templates:\u001b[m\n",
      "\n",
      "      add-job                 Add Google Cloud Dataproc jobs to workflow\n",
      "                              template.\n",
      "\n",
      "\u001b[m\u001b[1mAvailable commands for gcloud dataproc workflow-templates:\u001b[m\n",
      "\n",
      "      create                  Create a workflow template.\n",
      "      delete                  Delete a workflow template.\n",
      "      describe                Describe a workflow template.\n",
      "      export                  Export a workflow template.\n",
      "      get-iam-policy          Get IAM policy for a workflow template.\n",
      "      import                  Import a workflow template.\n",
      "      instantiate             Instantiate a workflow template.\n",
      "      instantiate-from-file   Instantiate a workflow template from a file.\n",
      "      list                    List workflow templates.\n",
      "      remove-dag-timeout      Remove DAG timeout from a workflow template.\n",
      "      remove-job              Remove a job from workflow template.\n",
      "      set-cluster-selector    Set cluster selector for the workflow template.\n",
      "      set-dag-timeout         Set DAG timeout on a workflow template.\n",
      "      set-iam-policy          Set IAM policy for a template.\n",
      "      set-managed-cluster     Set a managed cluster for the workflow template.\n",
      "\n",
      "\u001b[mFor detailed information on this command and its flags, run:\n",
      "  gcloud dataproc workflow-templates --help\n"
     ]
    }
   ],
   "source": [
    "!gcloud dataproc workflow-templates"
   ]
  },
  {
   "cell_type": "code",
   "execution_count": 3,
   "metadata": {},
   "outputs": [
    {
     "name": "stdout",
     "output_type": "stream",
     "text": [
      "ID               JOBS  UPDATE_TIME                  VERSION\n",
      "getting-started  4     2022-10-08T09:34:41.266501Z  1\n"
     ]
    }
   ],
   "source": [
    "!gcloud dataproc workflow-templates list"
   ]
  },
  {
   "cell_type": "markdown",
   "metadata": {},
   "source": [
    "Here is the command to delete Dataproc Workflow Template (multiline approach doesn't work on Windows)\n",
    "\n",
    "```shell\n",
    "gcloud dataproc workflow-templates \\\n",
    "    delete wf-daily-product-revenue\n",
    "```"
   ]
  },
  {
   "cell_type": "code",
   "execution_count": 5,
   "metadata": {},
   "outputs": [
    {
     "name": "stdout",
     "output_type": "stream",
     "text": [
      "\u001b[1;31mERROR:\u001b[0m (gcloud.dataproc.workflow-templates.delete) NOT_FOUND: Not found: Workflow Template projects/tidy-fort-361710/regions/us-central1/workflowTemplates/wf-daily-product-revenue\n"
     ]
    }
   ],
   "source": [
    "!gcloud dataproc workflow-templates delete wf-daily-product-revenue --quiet"
   ]
  },
  {
   "cell_type": "markdown",
   "metadata": {},
   "source": [
    "Here is the command to create Dataproc Workflow.\n",
    "\n",
    "```shell\n",
    "gcloud dataproc workflow-templates \\\n",
    "    create wf-daily-product-revenue\n",
    "```"
   ]
  },
  {
   "cell_type": "code",
   "execution_count": 6,
   "metadata": {},
   "outputs": [
    {
     "name": "stdout",
     "output_type": "stream",
     "text": [
      "\u001b[1;31mERROR:\u001b[0m (gcloud.dataproc.workflow-templates.create) argument (TEMPLATE : --region=REGION): Must be specified.\n",
      "Usage: gcloud dataproc workflow-templates create (TEMPLATE : --region=REGION) [optional flags]\n",
      "  optional flags may be  --dag-timeout | --help | --labels | --region\n",
      "\n",
      "For detailed information on this command and its flags, run:\n",
      "  gcloud dataproc workflow-templates create --help\n"
     ]
    }
   ],
   "source": [
    "!gcloud dataproc workflow-templates create"
   ]
  },
  {
   "cell_type": "code",
   "execution_count": 7,
   "metadata": {},
   "outputs": [],
   "source": [
    "!gcloud dataproc workflow-templates create wf-daily-product-revenue"
   ]
  },
  {
   "cell_type": "code",
   "execution_count": 8,
   "metadata": {},
   "outputs": [
    {
     "name": "stdout",
     "output_type": "stream",
     "text": [
      "ID                        JOBS  UPDATE_TIME                  VERSION\n",
      "getting-started           4     2022-10-08T09:34:41.266501Z  1\n",
      "wf-daily-product-revenue  0     2022-10-08T10:02:06.406701Z  1\n"
     ]
    }
   ],
   "source": [
    "!gcloud dataproc workflow-templates list"
   ]
  },
  {
   "cell_type": "code",
   "execution_count": 11,
   "metadata": {},
   "outputs": [
    {
     "name": "stdout",
     "output_type": "stream",
     "text": [
      "\u001b[1;31mERROR:\u001b[0m (gcloud.dataproc.workflow-templates) Command name argument expected.\n",
      "\n",
      "\u001b[m\u001b[1mAvailable groups for gcloud dataproc workflow-templates:\u001b[m\n",
      "\n",
      "      add-job                 Add Google Cloud Dataproc jobs to workflow\n",
      "                              template.\n",
      "\n",
      "\u001b[m\u001b[1mAvailable commands for gcloud dataproc workflow-templates:\u001b[m\n",
      "\n",
      "      create                  Create a workflow template.\n",
      "      delete                  Delete a workflow template.\n",
      "      describe                Describe a workflow template.\n",
      "      export                  Export a workflow template.\n",
      "      get-iam-policy          Get IAM policy for a workflow template.\n",
      "      import                  Import a workflow template.\n",
      "      instantiate             Instantiate a workflow template.\n",
      "      instantiate-from-file   Instantiate a workflow template from a file.\n",
      "      list                    List workflow templates.\n",
      "      remove-dag-timeout      Remove DAG timeout from a workflow template.\n",
      "      remove-job              Remove a job from workflow template.\n",
      "      set-cluster-selector    Set cluster selector for the workflow template.\n",
      "      set-dag-timeout         Set DAG timeout on a workflow template.\n",
      "      set-iam-policy          Set IAM policy for a template.\n",
      "      set-managed-cluster     Set a managed cluster for the workflow template.\n",
      "\n",
      "\u001b[mFor detailed information on this command and its flags, run:\n",
      "  gcloud dataproc workflow-templates --help\n"
     ]
    }
   ],
   "source": [
    "!gcloud dataproc workflow-templates "
   ]
  },
  {
   "cell_type": "code",
   "execution_count": 10,
   "metadata": {},
   "outputs": [
    {
     "name": "stdout",
     "output_type": "stream",
     "text": [
      "\u001b[1;31mERROR:\u001b[0m (gcloud.dataproc.workflow-templates.set-cluster-selector) argument (TEMPLATE : --region=REGION): Must be specified.\n",
      "Usage: gcloud dataproc workflow-templates set-cluster-selector (TEMPLATE : --region=REGION) [optional flags]\n",
      "  optional flags may be  --cluster-labels | --help | --region\n",
      "\n",
      "For detailed information on this command and its flags, run:\n",
      "  gcloud dataproc workflow-templates set-cluster-selector --help\n"
     ]
    }
   ],
   "source": [
    "!gcloud dataproc workflow-templates set-cluster-selector"
   ]
  },
  {
   "cell_type": "markdown",
   "metadata": {},
   "source": [
    "Here is the command to attach running or active Dataproc Cluster to the Dataproc Workflow. We need to specify the label for the cluster.\n",
    "\n",
    "```shell\n",
    "gcloud dataproc workflow-templates \\\n",
    "    set-cluster-selector \\\n",
    "    wf-daily-product-revenue \\\n",
    "    --cluster-labels goog-dataproc-cluster-name=aidataprocdev\n",
    "```"
   ]
  },
  {
   "cell_type": "code",
   "execution_count": 12,
   "metadata": {},
   "outputs": [],
   "source": [
    "!gcloud dataproc workflow-templates set-cluster-selector wf-daily-product-revenue --cluster-labels goog-dataproc-cluster-name=aidataprocdev"
   ]
  },
  {
   "cell_type": "code",
   "execution_count": 16,
   "metadata": {},
   "outputs": [
    {
     "name": "stdout",
     "output_type": "stream",
     "text": [
      "\u001b[1;31mERROR:\u001b[0m (gcloud.dataproc.workflow-templates.add-job) Command name argument expected.\n",
      "\n",
      "\u001b[m\u001b[1mAvailable commands for gcloud dataproc workflow-templates add-job:\u001b[m\n",
      "\n",
      "      hadoop                  Add a hadoop job to the workflow template.\n",
      "      hive                    Add a Hive job to the workflow template.\n",
      "      pig                     Add a Pig job to the workflow template.\n",
      "      presto                  Add a Presto job to the workflow template.\n",
      "      pyspark                 Add a PySpark job to the workflow template.\n",
      "      spark                   Add a Spark job to the workflow template.\n",
      "      spark-r                 Add a SparkR job to the workflow template.\n",
      "      spark-sql               Add a SparkSql job to the workflow template.\n",
      "\n",
      "\u001b[mFor detailed information on this command and its flags, run:\n",
      "  gcloud dataproc workflow-templates add-job --help\n"
     ]
    }
   ],
   "source": [
    "!gcloud dataproc workflow-templates add-job"
   ]
  },
  {
   "cell_type": "code",
   "execution_count": 17,
   "metadata": {},
   "outputs": [
    {
     "name": "stdout",
     "output_type": "stream",
     "text": [
      "\u001b[1;31mERROR:\u001b[0m (gcloud.dataproc.workflow-templates.add-job.spark-sql) Exactly one of (--execute | --file) must be specified.\n",
      "Usage: gcloud dataproc workflow-templates add-job spark-sql --step-id=STEP_ID (--execute=QUERY, -e QUERY | --file=FILE, -f FILE) (--workflow-template=WORKFLOW_TEMPLATE : --region=REGION) [optional flags]\n",
      "  optional flags may be  --driver-log-levels | --execute | --file | --help |\n",
      "                         --jars | --labels | --params | --properties |\n",
      "                         --region | --start-after\n",
      "\n",
      "For detailed information on this command and its flags, run:\n",
      "  gcloud dataproc workflow-templates add-job spark-sql --help\n"
     ]
    }
   ],
   "source": [
    "!gcloud dataproc workflow-templates add-job spark-sql"
   ]
  },
  {
   "cell_type": "markdown",
   "metadata": {},
   "source": [
    "* The command `gcloud dataproc workflow-templates add-job` is similar to `gcloud dataproc jobs submit`. Here are the examples for submitting jobs using `gcloud dataproc jobs submit`.\n",
    "\n",
    "```shell\n",
    "# Without parameters\n",
    "gcloud dataproc jobs submit \\\n",
    "    spark-sql --cluster=aidataprocdev \\\n",
    "    -f gs://airetail/scripts/daily_product_revenue/cleanup.sql\n",
    "\n",
    "# With parameters\n",
    "gcloud dataproc jobs submit \\\n",
    "    spark-sql --cluster=aidataprocdev \\\n",
    "    -f gs://airetail/scripts/daily_product_revenue/file_format_converter.sql \\\n",
    "    --params=bucket_name=gs://airetail,table_name=orders\n",
    "```\n"
   ]
  },
  {
   "cell_type": "markdown",
   "metadata": {},
   "source": [
    "Here are the commands to add Spark SQL Jobs to the Dataproc Workflow.\n",
    "\n",
    "```shell\n",
    "gcloud dataproc workflow-templates add-job spark-sql \\\n",
    "    --step-id=job-cleanup \\\n",
    "    --file=gs://airetail/scripts/daily_product_revenue/cleanup.sql \\\n",
    "    --workflow-template=wf-daily-product-revenue\n",
    "\n",
    "# File Format Converter jobs with dependency on cleanup\n",
    "gcloud dataproc workflow-templates add-job spark-sql \\\n",
    "    --step-id=job-convert-orders \\\n",
    "    --file=gs://airetail/scripts/daily_product_revenue/file_format_converter.sql \\\n",
    "    --params=bucket_name=gs://airetail,table_name=orders \\\n",
    "    --workflow-template=wf-daily-product-revenue \\\n",
    "    --start-after=job-cleanup\n",
    "\n",
    "gcloud dataproc workflow-templates add-job spark-sql \\\n",
    "    --step-id=job-convert-order-items \\\n",
    "    --file=gs://airetail/scripts/daily_product_revenue/file_format_converter.sql \\\n",
    "    --params=bucket_name=gs://airetail,table_name=order_items \\\n",
    "    --workflow-template=wf-daily-product-revenue \\\n",
    "    --start-after=job-cleanup\n",
    "\n",
    "# Last Job which depends on convert orders and order_items jobs\n",
    "gcloud dataproc workflow-templates add-job spark-sql \\\n",
    "    --step-id=job-daily-product-revenue \\\n",
    "    --file=gs://airetail/scripts/daily_product_revenue/compute_daily_product_revenue.sql \\\n",
    "    --params=bucket_name=gs://airetail \\\n",
    "    --workflow-template=wf-daily-product-revenue \\\n",
    "    --start-after=job-convert-orders,job-convert-order-items\n",
    "```"
   ]
  },
  {
   "cell_type": "code",
   "execution_count": 18,
   "metadata": {},
   "outputs": [
    {
     "name": "stdout",
     "output_type": "stream",
     "text": [
      "createTime: '2022-10-08T10:02:06.406701Z'\n",
      "id: wf-daily-product-revenue\n",
      "jobs:\n",
      "- sparkSqlJob:\n",
      "    queryFileUri: gs://airetail/scripts/daily_product_revenue/cleanup.sql\n",
      "  stepId: job-cleanup\n",
      "name: projects/tidy-fort-361710/regions/us-central1/workflowTemplates/wf-daily-product-revenue\n",
      "placement:\n",
      "  clusterSelector:\n",
      "    clusterLabels:\n",
      "      goog-dataproc-cluster-name: aidataprocdev\n",
      "updateTime: '2022-10-08T11:06:19.407439Z'\n",
      "version: 3\n"
     ]
    }
   ],
   "source": [
    "!gcloud dataproc workflow-templates add-job spark-sql --step-id=job-cleanup --file=gs://airetail/scripts/daily_product_revenue/cleanup.sql --workflow-template=wf-daily-product-revenue"
   ]
  },
  {
   "cell_type": "code",
   "execution_count": 19,
   "metadata": {},
   "outputs": [
    {
     "name": "stdout",
     "output_type": "stream",
     "text": [
      "createTime: '2022-10-08T10:02:06.406701Z'\n",
      "id: wf-daily-product-revenue\n",
      "jobs:\n",
      "- sparkSqlJob:\n",
      "    queryFileUri: gs://airetail/scripts/daily_product_revenue/cleanup.sql\n",
      "  stepId: job-cleanup\n",
      "- prerequisiteStepIds:\n",
      "  - job-cleanup\n",
      "  sparkSqlJob:\n",
      "    queryFileUri: gs://airetail/scripts/daily_product_revenue/file_format_converter.sql\n",
      "    scriptVariables:\n",
      "      bucket_name: gs://airetail\n",
      "      table_name: orders\n",
      "  stepId: job-convert-orders\n",
      "name: projects/tidy-fort-361710/regions/us-central1/workflowTemplates/wf-daily-product-revenue\n",
      "placement:\n",
      "  clusterSelector:\n",
      "    clusterLabels:\n",
      "      goog-dataproc-cluster-name: aidataprocdev\n",
      "updateTime: '2022-10-08T11:08:00.198971Z'\n",
      "version: 4\n"
     ]
    }
   ],
   "source": [
    "\n",
    "!gcloud dataproc workflow-templates add-job spark-sql --step-id=job-convert-orders --file=gs://airetail/scripts/daily_product_revenue/file_format_converter.sql --params=bucket_name=gs://airetail,table_name=orders --workflow-template=wf-daily-product-revenue --start-after=job-cleanup"
   ]
  },
  {
   "cell_type": "code",
   "execution_count": 20,
   "metadata": {},
   "outputs": [
    {
     "name": "stdout",
     "output_type": "stream",
     "text": [
      "createTime: '2022-10-08T10:02:06.406701Z'\n",
      "id: wf-daily-product-revenue\n",
      "jobs:\n",
      "- sparkSqlJob:\n",
      "    queryFileUri: gs://airetail/scripts/daily_product_revenue/cleanup.sql\n",
      "  stepId: job-cleanup\n",
      "- prerequisiteStepIds:\n",
      "  - job-cleanup\n",
      "  sparkSqlJob:\n",
      "    queryFileUri: gs://airetail/scripts/daily_product_revenue/file_format_converter.sql\n",
      "    scriptVariables:\n",
      "      bucket_name: gs://airetail\n",
      "      table_name: orders\n",
      "  stepId: job-convert-orders\n",
      "- prerequisiteStepIds:\n",
      "  - job-cleanup\n",
      "  sparkSqlJob:\n",
      "    queryFileUri: gs://airetail/scripts/daily_product_revenue/file_format_converter.sql\n",
      "    scriptVariables:\n",
      "      bucket_name: gs://airetail\n",
      "      table_name: order_items\n",
      "  stepId: job-convert-order-items\n",
      "name: projects/tidy-fort-361710/regions/us-central1/workflowTemplates/wf-daily-product-revenue\n",
      "placement:\n",
      "  clusterSelector:\n",
      "    clusterLabels:\n",
      "      goog-dataproc-cluster-name: aidataprocdev\n",
      "updateTime: '2022-10-08T11:10:09.720005Z'\n",
      "version: 5\n"
     ]
    }
   ],
   "source": [
    "!gcloud dataproc workflow-templates add-job spark-sql --step-id=job-convert-order-items --file=gs://airetail/scripts/daily_product_revenue/file_format_converter.sql --params=bucket_name=gs://airetail,table_name=order_items --workflow-template=wf-daily-product-revenue --start-after=job-cleanup"
   ]
  },
  {
   "cell_type": "code",
   "execution_count": 21,
   "metadata": {},
   "outputs": [
    {
     "name": "stdout",
     "output_type": "stream",
     "text": [
      "createTime: '2022-10-08T10:02:06.406701Z'\n",
      "id: wf-daily-product-revenue\n",
      "jobs:\n",
      "- sparkSqlJob:\n",
      "    queryFileUri: gs://airetail/scripts/daily_product_revenue/cleanup.sql\n",
      "  stepId: job-cleanup\n",
      "- prerequisiteStepIds:\n",
      "  - job-cleanup\n",
      "  sparkSqlJob:\n",
      "    queryFileUri: gs://airetail/scripts/daily_product_revenue/file_format_converter.sql\n",
      "    scriptVariables:\n",
      "      bucket_name: gs://airetail\n",
      "      table_name: orders\n",
      "  stepId: job-convert-orders\n",
      "- prerequisiteStepIds:\n",
      "  - job-cleanup\n",
      "  sparkSqlJob:\n",
      "    queryFileUri: gs://airetail/scripts/daily_product_revenue/file_format_converter.sql\n",
      "    scriptVariables:\n",
      "      bucket_name: gs://airetail\n",
      "      table_name: order_items\n",
      "  stepId: job-convert-order-items\n",
      "- prerequisiteStepIds:\n",
      "  - job-convert-orders\n",
      "  - job-convert-order-items\n",
      "  sparkSqlJob:\n",
      "    queryFileUri: gs://airetail/scripts/daily_product_revenue/compute_daily_product_revenue.sql\n",
      "    scriptVariables:\n",
      "      bucket_name: gs://airetail\n",
      "  stepId: job-daily-product-revenue\n",
      "name: projects/tidy-fort-361710/regions/us-central1/workflowTemplates/wf-daily-product-revenue\n",
      "placement:\n",
      "  clusterSelector:\n",
      "    clusterLabels:\n",
      "      goog-dataproc-cluster-name: aidataprocdev\n",
      "updateTime: '2022-10-08T11:12:53.276748Z'\n",
      "version: 6\n"
     ]
    }
   ],
   "source": [
    "!gcloud dataproc workflow-templates add-job spark-sql --step-id=job-daily-product-revenue --file=gs://airetail/scripts/daily_product_revenue/compute_daily_product_revenue.sql --params=bucket_name=gs://airetail --workflow-template=wf-daily-product-revenue --start-after=job-convert-orders,job-convert-order-items"
   ]
  },
  {
   "cell_type": "code",
   "execution_count": 22,
   "metadata": {},
   "outputs": [
    {
     "name": "stdout",
     "output_type": "stream",
     "text": [
      "ID                        JOBS  UPDATE_TIME                  VERSION\n",
      "getting-started           4     2022-10-08T09:34:41.266501Z  1\n",
      "wf-daily-product-revenue  4     2022-10-08T11:12:53.276748Z  6\n"
     ]
    }
   ],
   "source": [
    "!gcloud dataproc workflow-templates list"
   ]
  },
  {
   "cell_type": "code",
   "execution_count": 26,
   "metadata": {},
   "outputs": [
    {
     "name": "stdout",
     "output_type": "stream",
     "text": [
      "createTime: '2022-10-08T10:02:06.406701Z'\n",
      "id: wf-daily-product-revenue\n",
      "jobs:\n",
      "- sparkSqlJob:\n",
      "    queryFileUri: gs://airetail/scripts/daily_product_revenue/cleanup.sql\n",
      "  stepId: job-cleanup\n",
      "- prerequisiteStepIds:\n",
      "  - job-cleanup\n",
      "  sparkSqlJob:\n",
      "    queryFileUri: gs://airetail/scripts/daily_product_revenue/file_format_converter.sql\n",
      "    scriptVariables:\n",
      "      bucket_name: gs://airetail\n",
      "      table_name: orders\n",
      "  stepId: job-convert-orders\n",
      "- prerequisiteStepIds:\n",
      "  - job-cleanup\n",
      "  sparkSqlJob:\n",
      "    queryFileUri: gs://airetail/scripts/daily_product_revenue/file_format_converter.sql\n",
      "    scriptVariables:\n",
      "      bucket_name: gs://airetail\n",
      "      table_name: order_items\n",
      "  stepId: job-convert-order-items\n",
      "- prerequisiteStepIds:\n",
      "  - job-convert-orders\n",
      "  - job-convert-order-items\n",
      "  sparkSqlJob:\n",
      "    queryFileUri: gs://airetail/scripts/daily_product_revenue/compute_daily_product_revenue.sql\n",
      "    scriptVariables:\n",
      "      bucket_name: gs://airetail\n",
      "  stepId: job-daily-product-revenue\n",
      "name: projects/tidy-fort-361710/regions/us-central1/workflowTemplates/wf-daily-product-revenue\n",
      "placement:\n",
      "  clusterSelector:\n",
      "    clusterLabels:\n",
      "      goog-dataproc-cluster-name: aidataprocdev\n",
      "updateTime: '2022-10-08T11:12:53.276748Z'\n",
      "version: 6\n"
     ]
    }
   ],
   "source": [
    "!gcloud dataproc workflow-templates describe wf-daily-product-revenue"
   ]
  },
  {
   "cell_type": "markdown",
   "metadata": {},
   "source": [
    "Here is the command to instantiate or run Dataproc Workflow.\n",
    "\n",
    "```shell\n",
    "gcloud dataproc workflow-templates \\\n",
    "    instantiate wf-daily-product-revenue\n",
    "```"
   ]
  },
  {
   "cell_type": "code",
   "execution_count": 35,
   "metadata": {},
   "outputs": [
    {
     "name": "stdout",
     "output_type": "stream",
     "text": [
      "\u001b[1;31mERROR:\u001b[0m (gcloud.dataproc.workflow-templates) Command name argument expected.\n",
      "\n",
      "\u001b[m\u001b[1mAvailable groups for gcloud dataproc workflow-templates:\u001b[m\n",
      "\n",
      "      add-job                 Add Google Cloud Dataproc jobs to workflow\n",
      "                              template.\n",
      "\n",
      "\u001b[m\u001b[1mAvailable commands for gcloud dataproc workflow-templates:\u001b[m\n",
      "\n",
      "      create                  Create a workflow template.\n",
      "      delete                  Delete a workflow template.\n",
      "      describe                Describe a workflow template.\n",
      "      export                  Export a workflow template.\n",
      "      get-iam-policy          Get IAM policy for a workflow template.\n",
      "      import                  Import a workflow template.\n",
      "      instantiate             Instantiate a workflow template.\n",
      "      instantiate-from-file   Instantiate a workflow template from a file.\n",
      "      list                    List workflow templates.\n",
      "      remove-dag-timeout      Remove DAG timeout from a workflow template.\n",
      "      remove-job              Remove a job from workflow template.\n",
      "      set-cluster-selector    Set cluster selector for the workflow template.\n",
      "      set-dag-timeout         Set DAG timeout on a workflow template.\n",
      "      set-iam-policy          Set IAM policy for a template.\n",
      "      set-managed-cluster     Set a managed cluster for the workflow template.\n",
      "\n",
      "\u001b[mFor detailed information on this command and its flags, run:\n",
      "  gcloud dataproc workflow-templates --help\n"
     ]
    }
   ],
   "source": [
    "!gcloud dataproc workflow-templates"
   ]
  },
  {
   "cell_type": "code",
   "execution_count": 36,
   "metadata": {},
   "outputs": [
    {
     "name": "stdout",
     "output_type": "stream",
     "text": [
      "\u001b[1;31mERROR:\u001b[0m (gcloud.dataproc.workflow-templates.instantiate) argument (TEMPLATE : --region=REGION): Must be specified.\n",
      "Usage: gcloud dataproc workflow-templates instantiate (TEMPLATE : --region=REGION) [optional flags]\n",
      "  optional flags may be  --async | --help | --parameters | --region\n",
      "\n",
      "For detailed information on this command and its flags, run:\n",
      "  gcloud dataproc workflow-templates instantiate --help\n"
     ]
    }
   ],
   "source": [
    "!gcloud dataproc workflow-templates instantiate"
   ]
  },
  {
   "cell_type": "code",
   "execution_count": 37,
   "metadata": {},
   "outputs": [
    {
     "name": "stdout",
     "output_type": "stream",
     "text": [
      "\u001b[1;31mERROR:\u001b[0m (gcloud.dataproc.workflow-templates.instantiate-from-file) argument --file: Must be specified.\n",
      "Usage: gcloud dataproc workflow-templates instantiate-from-file --file=FILE [optional flags]\n",
      "  optional flags may be  --async | --help | --region\n",
      "\n",
      "For detailed information on this command and its flags, run:\n",
      "  gcloud dataproc workflow-templates instantiate-from-file --help\n"
     ]
    }
   ],
   "source": [
    "!gcloud dataproc workflow-templates instantiate-from-file"
   ]
  },
  {
   "cell_type": "code",
   "execution_count": 39,
   "metadata": {},
   "outputs": [
    {
     "name": "stdout",
     "output_type": "stream",
     "text": [
      "\u001b[m\u001b[1mNAME\u001b[m\n",
      "    gcloud dataproc workflow-templates instantiate-from-file - instantiate a\n",
      "        workflow template from a file\n",
      "\n",
      "\u001b[m\u001b[1mSYNOPSIS\u001b[m\n",
      "    \u001b[1mgcloud dataproc workflow-templates instantiate-from-file\u001b[m \u001b[1m--file\u001b[m=\u001b[4mFILE\u001b[m\n",
      "        [\u001b[1m--async\u001b[m] [\u001b[1m--region\u001b[m=\u001b[4mREGION\u001b[m] [\u001b[4mGCLOUD_WIDE_FLAG ...\u001b[m]\n",
      "\n",
      "\u001b[m\u001b[1mDESCRIPTION\u001b[m\n",
      "    Instantiate a workflow template from a file.\n",
      "\n",
      "\u001b[m\u001b[1mREQUIRED FLAGS\u001b[m\n",
      "     \u001b[1m--file\u001b[m=\u001b[4mFILE\u001b[m\n",
      "        The YAML file containing the workflow template to run\n",
      "\n",
      "\u001b[m\u001b[1mOPTIONAL FLAGS\u001b[m\n",
      "     \u001b[1m--async\u001b[m\n",
      "        Return immediately, without waiting for the operation in progress to\n",
      "        complete.\n",
      "\n",
      "     \u001b[1m--region\u001b[m=\u001b[4mREGION\u001b[m\n",
      "        Cloud Dataproc region to use. Each Cloud Dataproc region constitutes an\n",
      "        independent resource namespace constrained to deploying instances into\n",
      "        Compute Engine zones inside the region. Overrides the default\n",
      "        \u001b[1mdataproc/region\u001b[m property value for this command invocation.\n",
      "\n",
      "\u001b[m\u001b[1mGCLOUD WIDE FLAGS\u001b[m\n",
      "    These flags are available to all commands: --account, --billing-project,\n",
      "    --configuration, --flags-file, --flatten, --format, --help,\n",
      "    --impersonate-service-account, --log-http, --project, --quiet,\n",
      "    --trace-token, --user-output-enabled, --verbosity.\n",
      "\n",
      "    Run \u001b[1m$ gcloud help\u001b[m for details.\n",
      "\n",
      "\u001b[m\u001b[1mEXAMPLES\u001b[m\n",
      "    To instantiate a workflow template from a yaml file 'template.yaml' in\n",
      "    region 'us-central1', run:\n",
      "\n",
      "        $ gcloud dataproc workflow-templates instantiate-from-file \\\n",
      "            --file=template.yaml --region=us-central1\n",
      "\n",
      "\u001b[m\u001b[1mNOTES\u001b[m\n",
      "    This variant is also available:\n",
      "\n",
      "        $ gcloud beta dataproc workflow-templates instantiate-from-file\n",
      "\n",
      "\u001b[m"
     ]
    }
   ],
   "source": [
    "!gcloud dataproc workflow-templates instantiate-from-file --help"
   ]
  },
  {
   "cell_type": "code",
   "execution_count": 40,
   "metadata": {},
   "outputs": [
    {
     "name": "stdout",
     "output_type": "stream",
     "text": [
      "\u001b[1;31mERROR:\u001b[0m (gcloud.dataproc.workflow-templates.export) argument (TEMPLATE : --region=REGION): Must be specified.\n",
      "Usage: gcloud dataproc workflow-templates export (TEMPLATE : --region=REGION) [optional flags]\n",
      "  optional flags may be  --destination | --help | --region | --version\n",
      "\n",
      "For detailed information on this command and its flags, run:\n",
      "  gcloud dataproc workflow-templates export --help\n"
     ]
    }
   ],
   "source": [
    "!gcloud dataproc workflow-templates export"
   ]
  },
  {
   "cell_type": "code",
   "execution_count": 41,
   "metadata": {},
   "outputs": [
    {
     "name": "stdout",
     "output_type": "stream",
     "text": [
      "jobs:\n",
      "- sparkSqlJob:\n",
      "    queryFileUri: gs://airetail/scripts/daily_product_revenue/cleanup.sql\n",
      "  stepId: job-cleanup\n",
      "- prerequisiteStepIds:\n",
      "  - job-cleanup\n",
      "  sparkSqlJob:\n",
      "    queryFileUri: gs://airetail/scripts/daily_product_revenue/file_format_converter.sql\n",
      "    scriptVariables:\n",
      "      bucket_name: gs://airetail\n",
      "      table_name: orders\n",
      "  stepId: job-convert-orders\n",
      "- prerequisiteStepIds:\n",
      "  - job-cleanup\n",
      "  sparkSqlJob:\n",
      "    queryFileUri: gs://airetail/scripts/daily_product_revenue/file_format_converter.sql\n",
      "    scriptVariables:\n",
      "      bucket_name: gs://airetail\n",
      "      table_name: order_items\n",
      "  stepId: job-convert-order-items\n",
      "- prerequisiteStepIds:\n",
      "  - job-convert-orders\n",
      "  - job-convert-order-items\n",
      "  sparkSqlJob:\n",
      "    queryFileUri: gs://airetail/scripts/daily_product_revenue/compute_daily_product_revenue.sql\n",
      "    scriptVariables:\n",
      "      bucket_name: gs://airetail\n",
      "  stepId: job-daily-product-revenue\n",
      "placement:\n",
      "  clusterSelector:\n",
      "    clusterLabels:\n",
      "      goog-dataproc-cluster-name: aidataprocdev\n"
     ]
    }
   ],
   "source": [
    "!gcloud dataproc workflow-templates export wf-daily-product-revenue"
   ]
  },
  {
   "cell_type": "code",
   "execution_count": 42,
   "metadata": {},
   "outputs": [
    {
     "name": "stdout",
     "output_type": "stream",
     "text": [
      "Waiting on operation [projects/tidy-fort-361710/regions/us-central1/operations/a3890c84-6a31-3f71-af54-cb96c515f826].\n",
      "WorkflowTemplate [wf-daily-product-revenue] RUNNING\n",
      "Job ID job-cleanup-vfn5wkdz3ntna RUNNING\n",
      "Job ID job-cleanup-vfn5wkdz3ntna COMPLETED\n",
      "Job ID job-convert-orders-vfn5wkdz3ntna RUNNING\n",
      "Job ID job-convert-order-items-vfn5wkdz3ntna RUNNING\n",
      "Job ID job-convert-orders-vfn5wkdz3ntna COMPLETED\n",
      "Job ID job-convert-order-items-vfn5wkdz3ntna COMPLETED\n",
      "Job ID job-daily-product-revenue-vfn5wkdz3ntna RUNNING\n",
      "WorkflowTemplate [wf-daily-product-revenue] DONE\n",
      "Job ID job-daily-product-revenue-vfn5wkdz3ntna COMPLETED\n"
     ]
    }
   ],
   "source": [
    "# This will take some time to run\n",
    "\n",
    "!gcloud dataproc workflow-templates instantiate wf-daily-product-revenue"
   ]
  },
  {
   "cell_type": "code",
   "execution_count": null,
   "metadata": {},
   "outputs": [],
   "source": []
  }
 ],
 "metadata": {
  "kernelspec": {
   "display_name": "Python 3.9.12 ('deg-venv': venv)",
   "language": "python",
   "name": "python3"
  },
  "language_info": {
   "codemirror_mode": {
    "name": "ipython",
    "version": 3
   },
   "file_extension": ".py",
   "mimetype": "text/x-python",
   "name": "python",
   "nbconvert_exporter": "python",
   "pygments_lexer": "ipython3",
   "version": "3.9.12"
  },
  "orig_nbformat": 4,
  "vscode": {
   "interpreter": {
    "hash": "4a9d607f6995d470a72ac62c14cbba774ae3a8ede2bb7bb3a284130b245adccf"
   }
  }
 },
 "nbformat": 4,
 "nbformat_minor": 2
}
