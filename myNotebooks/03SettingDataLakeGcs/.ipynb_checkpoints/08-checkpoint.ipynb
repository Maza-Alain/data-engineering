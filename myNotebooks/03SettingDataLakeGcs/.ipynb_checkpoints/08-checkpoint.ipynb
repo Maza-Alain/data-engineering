{
 "cells": [
  {
   "cell_type": "code",
   "execution_count": 2,
   "id": "e431823e",
   "metadata": {},
   "outputs": [
    {
     "name": "stdout",
     "output_type": "stream",
     "text": [
      "Creating gs://upload-files-python/...\r\n"
     ]
    }
   ],
   "source": [
    "!gsutil mb gs://upload-files-python"
   ]
  },
  {
   "cell_type": "code",
   "execution_count": 4,
   "id": "a32946cb",
   "metadata": {},
   "outputs": [
    {
     "name": "stdout",
     "output_type": "stream",
     "text": [
      "gs://upload-files-python/\r\n"
     ]
    }
   ],
   "source": [
    "!gsutil list"
   ]
  },
  {
   "cell_type": "code",
   "execution_count": 5,
   "id": "9dfcdef9",
   "metadata": {},
   "outputs": [
    {
     "name": "stdout",
     "output_type": "stream",
     "text": [
      "/home/maza/Escritorio/data/data-engineering-on-gcp/myNotebooks/03SettingDataLakeGcs\r\n"
     ]
    }
   ],
   "source": [
    "!pwd"
   ]
  },
  {
   "cell_type": "code",
   "execution_count": 6,
   "id": "7c54ff4d",
   "metadata": {},
   "outputs": [
    {
     "name": "stdout",
     "output_type": "stream",
     "text": [
      "Copying file://../../data/retail_db/schemas.json [Content-Type=application/json]...\n",
      "Copying file://../../data/retail_db/load_db_tables_pg.sql [Content-Type=application/sql]...\n",
      "Copying file://../../data/retail_db/create_db_tables_pg.sql [Content-Type=application/sql]...\n",
      "Copying file://../../data/retail_db/departments/part-00000 [Content-Type=application/octet-stream]...\n",
      "\\ [4 files][  9.8 MiB/  9.8 MiB]    2.5 KiB/s                                   \n",
      "==> NOTE: You are performing a sequence of gsutil operations that may\n",
      "run significantly faster if you instead use gsutil -m cp ... Please\n",
      "see the -m section under \"gsutil help options\" for further information\n",
      "about when gsutil -m can be advantageous.\n",
      "\n",
      "Copying file://../../data/retail_db/order_items/part-00000 [Content-Type=application/octet-stream]...\n",
      "Copying file://../../data/retail_db/customers/part-00000 [Content-Type=application/octet-stream]...\n",
      "Copying file://../../data/retail_db/orders/part-00000 [Content-Type=application/octet-stream]...\n",
      "Copying file://../../data/retail_db/categories/part-00000 [Content-Type=application/octet-stream]...\n",
      "Copying file://../../data/retail_db/products/part-00000 [Content-Type=application/octet-stream]...\n",
      "/ [9 files][ 18.9 MiB/ 18.9 MiB]  146.9 KiB/s                                   \n",
      "Operation completed over 9 objects/18.9 MiB.                                     \n"
     ]
    }
   ],
   "source": [
    "!gsutil cp -r ../../data/retail_db gs://upload-files-python"
   ]
  },
  {
   "cell_type": "code",
   "execution_count": 7,
   "id": "a332c202",
   "metadata": {},
   "outputs": [
    {
     "name": "stdout",
     "output_type": "stream",
     "text": [
      "gs://upload-files-python/retail_db/:\r\n",
      "gs://upload-files-python/retail_db/create_db_tables_pg.sql\r\n",
      "gs://upload-files-python/retail_db/load_db_tables_pg.sql\r\n",
      "gs://upload-files-python/retail_db/schemas.json\r\n",
      "\r\n",
      "gs://upload-files-python/retail_db/categories/:\r\n",
      "gs://upload-files-python/retail_db/categories/part-00000\r\n",
      "\r\n",
      "gs://upload-files-python/retail_db/customers/:\r\n",
      "gs://upload-files-python/retail_db/customers/part-00000\r\n",
      "\r\n",
      "gs://upload-files-python/retail_db/departments/:\r\n",
      "gs://upload-files-python/retail_db/departments/part-00000\r\n",
      "\r\n",
      "gs://upload-files-python/retail_db/order_items/:\r\n",
      "gs://upload-files-python/retail_db/order_items/part-00000\r\n",
      "\r\n",
      "gs://upload-files-python/retail_db/orders/:\r\n",
      "gs://upload-files-python/retail_db/orders/part-00000\r\n",
      "\r\n",
      "gs://upload-files-python/retail_db/products/:\r\n",
      "gs://upload-files-python/retail_db/products/part-00000\r\n"
     ]
    }
   ],
   "source": [
    "!gsutil ls -r gs://upload-files-python"
   ]
  },
  {
   "cell_type": "code",
   "execution_count": 8,
   "id": "ef62a5f5",
   "metadata": {},
   "outputs": [],
   "source": [
    "from google.cloud import storage"
   ]
  },
  {
   "cell_type": "code",
   "execution_count": 9,
   "id": "a939c7b2",
   "metadata": {},
   "outputs": [
    {
     "name": "stdout",
     "output_type": "stream",
     "text": [
      "Your browser has been opened to visit:\n",
      "\n",
      "    https://accounts.google.com/o/oauth2/auth?response_type=code&client_id=764086051850-6qr4p6gpi6hn506pt8ejuq83di341hur.apps.googleusercontent.com&redirect_uri=http%3A%2F%2Flocalhost%3A8085%2F&scope=openid+https%3A%2F%2Fwww.googleapis.com%2Fauth%2Fuserinfo.email+https%3A%2F%2Fwww.googleapis.com%2Fauth%2Fcloud-platform+https%3A%2F%2Fwww.googleapis.com%2Fauth%2Fsqlservice.login+https%3A%2F%2Fwww.googleapis.com%2Fauth%2Faccounts.reauth&state=10q0JxcBCCLaypRn9mYvgcBp3OydFO&access_type=offline&code_challenge=AQw5HPVra0cmkKHB0_L8x6mOMMOpb2zclFTFb-bBN0s&code_challenge_method=S256\n",
      "\n",
      "\n",
      "Credentials saved to file: [/home/maza/.config/gcloud/application_default_credentials.json]\n",
      "\n",
      "These credentials will be used by any library that requests Application Default Credentials (ADC).\n",
      "\n",
      "Quota project \"learning-344814\" was added to ADC which can be used by Google client libraries for billing and quota. Note that some services may still bill the project owning the resource.\n"
     ]
    }
   ],
   "source": [
    "!gcloud auth application-default login"
   ]
  },
  {
   "cell_type": "code",
   "execution_count": 10,
   "id": "6dcd0ad9",
   "metadata": {},
   "outputs": [],
   "source": [
    "gsClient = storage.Client()"
   ]
  },
  {
   "cell_type": "code",
   "execution_count": 13,
   "id": "343f2173",
   "metadata": {},
   "outputs": [
    {
     "data": {
      "text/plain": [
       "<google.cloud.storage.client.Client at 0x7fb09a758460>"
      ]
     },
     "execution_count": 13,
     "metadata": {},
     "output_type": "execute_result"
    }
   ],
   "source": [
    "gsClient"
   ]
  },
  {
   "cell_type": "code",
   "execution_count": 14,
   "id": "dcc24f83",
   "metadata": {},
   "outputs": [
    {
     "name": "stdout",
     "output_type": "stream",
     "text": [
      "Help on method list_buckets in module google.cloud.storage.client:\n",
      "\n",
      "list_buckets(max_results=None, page_token=None, prefix=None, projection='noAcl', fields=None, project=None, page_size=None, timeout=60, retry=<google.api_core.retry.Retry object at 0x7fb09ae9dea0>) method of google.cloud.storage.client.Client instance\n",
      "    Get all buckets in the project associated to the client.\n",
      "    \n",
      "    This will not populate the list of blobs available in each\n",
      "    bucket.\n",
      "    \n",
      "    See [API reference docs](https://cloud.google.com/storage/docs/json_api/v1/buckets/list) and a [code sample](https://cloud.google.com/storage/docs/samples/storage-list-buckets#storage_list_buckets-python).\n",
      "    \n",
      "    :type max_results: int\n",
      "    :param max_results: (Optional) The maximum number of buckets to return.\n",
      "    \n",
      "    :type page_token: str\n",
      "    :param page_token:\n",
      "        (Optional) If present, return the next batch of buckets, using the\n",
      "        value, which must correspond to the ``nextPageToken`` value\n",
      "        returned in the previous response.  Deprecated: use the ``pages``\n",
      "        property of the returned iterator instead of manually passing the\n",
      "        token.\n",
      "    \n",
      "    :type prefix: str\n",
      "    :param prefix: (Optional) Filter results to buckets whose names begin\n",
      "                   with this prefix.\n",
      "    \n",
      "    :type projection: str\n",
      "    :param projection:\n",
      "        (Optional) Specifies the set of properties to return. If used, must\n",
      "        be 'full' or 'noAcl'. Defaults to 'noAcl'.\n",
      "    \n",
      "    :type fields: str\n",
      "    :param fields:\n",
      "        (Optional) Selector specifying which fields to include in a partial\n",
      "        response. Must be a list of fields. For example to get a partial\n",
      "        response with just the next page token and the language of each\n",
      "        bucket returned: 'items/id,nextPageToken'\n",
      "    \n",
      "    :type project: str\n",
      "    :param project: (Optional) The project whose buckets are to be listed.\n",
      "                    If not passed, uses the project set on the client.\n",
      "    \n",
      "    :type page_size: int\n",
      "    :param page_size: (Optional) Maximum number of buckets to return in each page.\n",
      "        Defaults to a value set by the API.\n",
      "    \n",
      "    :type timeout: float or tuple\n",
      "    :param timeout:\n",
      "        (Optional) The amount of time, in seconds, to wait\n",
      "        for the server response.  See: :ref:`configuring_timeouts`\n",
      "    \n",
      "    :type retry: google.api_core.retry.Retry or google.cloud.storage.retry.ConditionalRetryPolicy\n",
      "    :param retry:\n",
      "        (Optional) How to retry the RPC. See: :ref:`configuring_retries`\n",
      "    \n",
      "    :rtype: :class:`~google.api_core.page_iterator.Iterator`\n",
      "    :raises ValueError: if both ``project`` is ``None`` and the client's\n",
      "                        project is also ``None``.\n",
      "    :returns: Iterator of all :class:`~google.cloud.storage.bucket.Bucket`\n",
      "              belonging to this project.\n",
      "\n"
     ]
    }
   ],
   "source": [
    "help(gsClient.list_buckets)"
   ]
  },
  {
   "cell_type": "code",
   "execution_count": 16,
   "id": "077241df",
   "metadata": {},
   "outputs": [
    {
     "data": {
      "text/plain": [
       "<google.api_core.page_iterator.HTTPIterator at 0x7fb09a759f00>"
      ]
     },
     "execution_count": 16,
     "metadata": {},
     "output_type": "execute_result"
    }
   ],
   "source": [
    "gsClient.list_buckets()"
   ]
  },
  {
   "cell_type": "code",
   "execution_count": 18,
   "id": "4fbc852f",
   "metadata": {},
   "outputs": [
    {
     "data": {
      "text/plain": [
       "<Bucket: upload-files-python>"
      ]
     },
     "execution_count": 18,
     "metadata": {},
     "output_type": "execute_result"
    }
   ],
   "source": [
    "list(gsClient.list_buckets())"
   ]
  },
  {
   "cell_type": "code",
   "execution_count": 19,
   "id": "5d1e1f26",
   "metadata": {},
   "outputs": [],
   "source": [
    "bucket = list(gsClient.list_buckets())[0]"
   ]
  },
  {
   "cell_type": "code",
   "execution_count": 20,
   "id": "0f894fa0",
   "metadata": {},
   "outputs": [
    {
     "data": {
      "text/plain": [
       "<Bucket: upload-files-python>"
      ]
     },
     "execution_count": 20,
     "metadata": {},
     "output_type": "execute_result"
    }
   ],
   "source": [
    "bucket"
   ]
  },
  {
   "cell_type": "code",
   "execution_count": 21,
   "id": "b743df7f",
   "metadata": {},
   "outputs": [
    {
     "data": {
      "text/plain": [
       "google.cloud.storage.bucket.Bucket"
      ]
     },
     "execution_count": 21,
     "metadata": {},
     "output_type": "execute_result"
    }
   ],
   "source": [
    "type(bucket)"
   ]
  },
  {
   "cell_type": "code",
   "execution_count": 22,
   "id": "ebda3a5b",
   "metadata": {},
   "outputs": [
    {
     "data": {
      "text/plain": [
       "'upload-files-python'"
      ]
     },
     "execution_count": 22,
     "metadata": {},
     "output_type": "execute_result"
    }
   ],
   "source": [
    "bucket.name"
   ]
  },
  {
   "cell_type": "code",
   "execution_count": 23,
   "id": "b126817a",
   "metadata": {},
   "outputs": [],
   "source": [
    "bucket"
   ]
  },
  {
   "cell_type": "code",
   "execution_count": 24,
   "id": "0bed2676",
   "metadata": {},
   "outputs": [],
   "source": [
    "gsClient.get_bucket?"
   ]
  },
  {
   "cell_type": "code",
   "execution_count": 25,
   "id": "945a3f44",
   "metadata": {},
   "outputs": [
    {
     "data": {
      "text/plain": [
       "<Bucket: upload-files-python>"
      ]
     },
     "execution_count": 25,
     "metadata": {},
     "output_type": "execute_result"
    }
   ],
   "source": [
    "gsClient.get_bucket('upload-files-python')"
   ]
  },
  {
   "cell_type": "code",
   "execution_count": 27,
   "id": "393f98e5",
   "metadata": {},
   "outputs": [
    {
     "data": {
      "text/plain": [
       "<google.api_core.page_iterator.HTTPIterator at 0x7fb09a75bac0>"
      ]
     },
     "execution_count": 27,
     "metadata": {},
     "output_type": "execute_result"
    }
   ],
   "source": [
    "gsClient.list_blobs('upload-files-python')"
   ]
  },
  {
   "cell_type": "code",
   "execution_count": 29,
   "id": "7cad6fe4",
   "metadata": {},
   "outputs": [
    {
     "data": {
      "text/plain": [
       "'retail_db/categories/part-00000'"
      ]
     },
     "execution_count": 29,
     "metadata": {},
     "output_type": "execute_result"
    }
   ],
   "source": [
    "list(gsClient.list_blobs('upload-files-python'))"
   ]
  },
  {
   "cell_type": "code",
   "execution_count": 99,
   "id": "e76cef91",
   "metadata": {},
   "outputs": [],
   "source": [
    "blob = list(gsClient.list_blobs('upload-files-python'))[0]"
   ]
  },
  {
   "cell_type": "code",
   "execution_count": 100,
   "id": "4f0aa4af",
   "metadata": {},
   "outputs": [
    {
     "data": {
      "text/plain": [
       "'pythondemo/retail_db/orders/part-00000'"
      ]
     },
     "execution_count": 100,
     "metadata": {},
     "output_type": "execute_result"
    }
   ],
   "source": [
    "blob.name"
   ]
  },
  {
   "cell_type": "code",
   "execution_count": 85,
   "id": "0225f3e9",
   "metadata": {},
   "outputs": [
    {
     "data": {
      "text/plain": [
       "google.cloud.storage.blob.Blob"
      ]
     },
     "execution_count": 85,
     "metadata": {},
     "output_type": "execute_result"
    }
   ],
   "source": [
    "type(blob)"
   ]
  },
  {
   "cell_type": "code",
   "execution_count": null,
   "id": "3bed8cb9",
   "metadata": {},
   "outputs": [],
   "source": [
    "#aca se crea un blob, se le sube un archivo a ese blob para que aparezca y depues se creara\n",
    "#un csv donde descargaremos el\n",
    "#contenido del blob para asi tenerlo en un csv"
   ]
  },
  {
   "cell_type": "code",
   "execution_count": 96,
   "id": "c2570d73",
   "metadata": {},
   "outputs": [],
   "source": [
    "bucket = gsClient.get_bucket('upload-files-python')"
   ]
  },
  {
   "cell_type": "code",
   "execution_count": 58,
   "id": "cf98b88a",
   "metadata": {},
   "outputs": [],
   "source": [
    "blob2 = bucket.blob('pythondemo/retail_db/orders/part-00000')"
   ]
  },
  {
   "cell_type": "code",
   "execution_count": 91,
   "id": "48f5e1ca",
   "metadata": {},
   "outputs": [
    {
     "data": {
      "text/plain": [
       "<Blob: upload-files-python, pythondemo/retail_db/orders/part-00000, 1681785114097281>"
      ]
     },
     "execution_count": 91,
     "metadata": {},
     "output_type": "execute_result"
    }
   ],
   "source": [
    "blob2"
   ]
  },
  {
   "cell_type": "code",
   "execution_count": 101,
   "id": "5fdabe23",
   "metadata": {},
   "outputs": [],
   "source": [
    "blob3 = bucket.blob('pythondemo/retail_db/orders/example')"
   ]
  },
  {
   "cell_type": "code",
   "execution_count": 102,
   "id": "ac69c9a2",
   "metadata": {},
   "outputs": [
    {
     "name": "stdout",
     "output_type": "stream",
     "text": [
      "gs://upload-files-python/pythondemo/retail_db/orders/part-00000\r\n"
     ]
    }
   ],
   "source": [
    "!gsutil ls gs://upload-files-python/pythondemo/retail_db/orders"
   ]
  },
  {
   "cell_type": "code",
   "execution_count": 103,
   "id": "4581259a",
   "metadata": {},
   "outputs": [],
   "source": [
    "blob2.upload_from_filename('../../data/retail_db/orders/part-00000')"
   ]
  },
  {
   "cell_type": "code",
   "execution_count": 104,
   "id": "80ee010d",
   "metadata": {},
   "outputs": [],
   "source": [
    "blob3.upload_from_filename('ex.txt')"
   ]
  },
  {
   "cell_type": "code",
   "execution_count": 106,
   "id": "bf5fdde9",
   "metadata": {},
   "outputs": [
    {
     "name": "stdout",
     "output_type": "stream",
     "text": [
      "gs://upload-files-python/pythondemo/retail_db/orders/example\r\n",
      "gs://upload-files-python/pythondemo/retail_db/orders/part-00000\r\n"
     ]
    }
   ],
   "source": [
    "!gsutil ls gs://upload-files-python/pythondemo/retail_db/orders"
   ]
  },
  {
   "cell_type": "code",
   "execution_count": 107,
   "id": "a3903e5e",
   "metadata": {},
   "outputs": [],
   "source": [
    "gsClient.download_blob_to_file?"
   ]
  },
  {
   "cell_type": "code",
   "execution_count": 109,
   "id": "350c5fbd",
   "metadata": {},
   "outputs": [],
   "source": [
    "ejem = open ('ex2.tx', 'wb')\n",
    "gsClient.download_blob_to_file(\n",
    "    'gs://upload-files-python/pythondemo/retail_db/orders/example',\n",
    "    ejem\n",
    ")\n",
    "ejem.close()"
   ]
  },
  {
   "cell_type": "code",
   "execution_count": 76,
   "id": "cff883f4",
   "metadata": {},
   "outputs": [],
   "source": [
    "orders_csv = open('orders.csv', 'wb')\n",
    "gsClient.download_blob_to_file(\n",
    "    'gs://upload-files-python/pythondemo/retail_db/orders/part-00000',\n",
    "    orders_csv\n",
    ")\n",
    "orders_csv.close()"
   ]
  },
  {
   "cell_type": "code",
   "execution_count": 77,
   "id": "94207143",
   "metadata": {},
   "outputs": [],
   "source": [
    "import pandas as pd"
   ]
  },
  {
   "cell_type": "code",
   "execution_count": 89,
   "id": "da718766",
   "metadata": {},
   "outputs": [
    {
     "name": "stdout",
     "output_type": "stream",
     "text": [
      "0            2\n",
      "1            3\n",
      "2            4\n",
      "3            5\n",
      "4            6\n",
      "         ...  \n",
      "68877    68879\n",
      "68878    68880\n",
      "68879    68881\n",
      "68880    68882\n",
      "68881    68883\n",
      "Name: 1, Length: 68882, dtype: int64\n"
     ]
    }
   ],
   "source": [
    "df = pd.read_csv('orders.csv')\n",
    "print(df)"
   ]
  },
  {
   "cell_type": "code",
   "execution_count": null,
   "id": "f9517862",
   "metadata": {},
   "outputs": [],
   "source": []
  }
 ],
 "metadata": {
  "kernelspec": {
   "display_name": "Python 3 (ipykernel)",
   "language": "python",
   "name": "python3"
  },
  "language_info": {
   "codemirror_mode": {
    "name": "ipython",
    "version": 3
   },
   "file_extension": ".py",
   "mimetype": "text/x-python",
   "name": "python",
   "nbconvert_exporter": "python",
   "pygments_lexer": "ipython3",
   "version": "3.10.9"
  }
 },
 "nbformat": 4,
 "nbformat_minor": 5
}
