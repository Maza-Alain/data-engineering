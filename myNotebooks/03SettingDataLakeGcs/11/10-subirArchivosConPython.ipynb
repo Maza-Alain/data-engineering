{
 "cells": [
  {
   "cell_type": "code",
   "execution_count": 1,
   "id": "c7b90b74",
   "metadata": {},
   "outputs": [
    {
     "name": "stdout",
     "output_type": "stream",
     "text": [
      "Removing gs://ejemplo18/retail_db_parquet/orders/part-00000.snapy.parquet#1682602887367646...\n",
      "/ [1 objects]                                                                   \n",
      "Operation completed over 1 objects.                                              \n"
     ]
    }
   ],
   "source": [
    "!gsutil rm -r gs://ejemplo18/retail_db_parquet"
   ]
  },
  {
   "cell_type": "code",
   "execution_count": 2,
   "id": "ec0a7562",
   "metadata": {},
   "outputs": [],
   "source": [
    "import glob\n",
    "import os"
   ]
  },
  {
   "cell_type": "code",
   "execution_count": 7,
   "id": "98acca99",
   "metadata": {},
   "outputs": [],
   "source": [
    "def get_file_name(src_base_dir):\n",
    "    items = glob.glob(f'{src_base_dir}/**', recursive=True)\n",
    "    return list(filter(lambda item: os.path.isfile(item) and item.endswith('part-00000'), items))"
   ]
  },
  {
   "cell_type": "code",
   "execution_count": 5,
   "id": "66f8924b",
   "metadata": {},
   "outputs": [],
   "source": [
    "src_base_dir = '../../../data/retail_db'"
   ]
  },
  {
   "cell_type": "code",
   "execution_count": 8,
   "id": "9b07d13d",
   "metadata": {},
   "outputs": [
    {
     "data": {
      "text/plain": [
       "['../../../data/retail_db/departments/part-00000',\n",
       " '../../../data/retail_db/order_items/part-00000',\n",
       " '../../../data/retail_db/customers/part-00000',\n",
       " '../../../data/retail_db/orders/part-00000',\n",
       " '../../../data/retail_db/categories/part-00000',\n",
       " '../../../data/retail_db/products/part-00000']"
      ]
     },
     "execution_count": 8,
     "metadata": {},
     "output_type": "execute_result"
    }
   ],
   "source": [
    "get_file_name(src_base_dir) "
   ]
  },
  {
   "cell_type": "code",
   "execution_count": 9,
   "id": "6d71cafe",
   "metadata": {},
   "outputs": [],
   "source": [
    "import json"
   ]
  },
  {
   "cell_type": "code",
   "execution_count": 10,
   "id": "dee23b37",
   "metadata": {},
   "outputs": [
    {
     "data": {
      "text/plain": [
       "{'departments': [{'column_name': 'department_id',\n",
       "   'data_type': 'integer',\n",
       "   'column_position': 1},\n",
       "  {'column_name': 'department_name',\n",
       "   'data_type': 'string',\n",
       "   'column_position': 2}],\n",
       " 'categories': [{'column_name': 'category_id',\n",
       "   'data_type': 'integer',\n",
       "   'column_position': 1},\n",
       "  {'column_name': 'category_department_id',\n",
       "   'data_type': 'integer',\n",
       "   'column_position': 2},\n",
       "  {'column_name': 'category_name',\n",
       "   'data_type': 'string',\n",
       "   'column_position': 3}],\n",
       " 'orders': [{'column_name': 'order_id',\n",
       "   'data_type': 'integer',\n",
       "   'column_position': 1},\n",
       "  {'column_name': 'order_date', 'data_type': 'string', 'column_position': 2},\n",
       "  {'column_name': 'order_customer_id',\n",
       "   'data_type': 'timestamp',\n",
       "   'column_position': 3},\n",
       "  {'column_name': 'order_status',\n",
       "   'data_type': 'string',\n",
       "   'column_position': 4}],\n",
       " 'products': [{'column_name': 'product_id',\n",
       "   'data_type': 'integer',\n",
       "   'column_position': 1},\n",
       "  {'column_name': 'product_cateogry_id',\n",
       "   'data_type': 'integer',\n",
       "   'column_position': 2},\n",
       "  {'column_name': 'product_name', 'data_type': '', 'column_position': 3},\n",
       "  {'column_name': 'product_description',\n",
       "   'data_type': 'string',\n",
       "   'column_position': 4},\n",
       "  {'column_name': 'product_price', 'data_type': 'float', 'column_position': 5},\n",
       "  {'column_name': 'product_image',\n",
       "   'data_type': 'string',\n",
       "   'column_position': 6}],\n",
       " 'customers': [{'column_name': 'customer_id',\n",
       "   'data_type': 'integer',\n",
       "   'column_position': 1},\n",
       "  {'column_name': 'customer_fname',\n",
       "   'data_type': 'string',\n",
       "   'column_position': 2},\n",
       "  {'column_name': 'customer_lname',\n",
       "   'data_type': 'string',\n",
       "   'column_position': 3},\n",
       "  {'column_name': 'customer_email',\n",
       "   'data_type': 'string',\n",
       "   'column_position': 4},\n",
       "  {'column_name': 'customer_password',\n",
       "   'data_type': 'string',\n",
       "   'column_position': 5},\n",
       "  {'column_name': 'customer_street',\n",
       "   'data_type': 'string',\n",
       "   'column_position': 6},\n",
       "  {'column_name': 'customer_city',\n",
       "   'data_type': 'string',\n",
       "   'column_position': 7},\n",
       "  {'column_name': 'customer_state',\n",
       "   'data_type': 'string',\n",
       "   'column_position': 8},\n",
       "  {'column_name': 'customer_zipcode',\n",
       "   'data_type': 'integer',\n",
       "   'column_position': 9}],\n",
       " 'order_items': [{'column_name': 'order_item_id',\n",
       "   'data_type': 'integer',\n",
       "   'column_position': 1},\n",
       "  {'column_name': 'order_item_order_id',\n",
       "   'data_type': 'integer',\n",
       "   'column_position': 2},\n",
       "  {'column_name': 'order_item_product_id',\n",
       "   'data_type': 'integer',\n",
       "   'column_position': 3},\n",
       "  {'column_name': 'order_item_quantity',\n",
       "   'data_type': 'integer',\n",
       "   'column_position': 4},\n",
       "  {'column_name': 'order_item_subtotal',\n",
       "   'data_type': 'float',\n",
       "   'column_position': 5},\n",
       "  {'column_name': 'order_item_product_price',\n",
       "   'data_type': 'float',\n",
       "   'column_position': 6}]}"
      ]
     },
     "execution_count": 10,
     "metadata": {},
     "output_type": "execute_result"
    }
   ],
   "source": [
    "schemas = json.load(open('../../../data/retail_db/schemas.json'))\n",
    "schemas"
   ]
  },
  {
   "cell_type": "code",
   "execution_count": 11,
   "id": "f9b4d48f",
   "metadata": {},
   "outputs": [
    {
     "data": {
      "text/plain": [
       "[{'column_name': 'order_id', 'data_type': 'integer', 'column_position': 1},\n",
       " {'column_name': 'order_date', 'data_type': 'string', 'column_position': 2},\n",
       " {'column_name': 'order_customer_id',\n",
       "  'data_type': 'timestamp',\n",
       "  'column_position': 3},\n",
       " {'column_name': 'order_status', 'data_type': 'string', 'column_position': 4}]"
      ]
     },
     "execution_count": 11,
     "metadata": {},
     "output_type": "execute_result"
    }
   ],
   "source": [
    "schemas['orders']"
   ]
  },
  {
   "cell_type": "code",
   "execution_count": 12,
   "id": "97ed012d",
   "metadata": {},
   "outputs": [
    {
     "data": {
      "text/plain": [
       "[{'column_name': 'order_id', 'data_type': 'integer', 'column_position': 1},\n",
       " {'column_name': 'order_date', 'data_type': 'string', 'column_position': 2},\n",
       " {'column_name': 'order_customer_id',\n",
       "  'data_type': 'timestamp',\n",
       "  'column_position': 3},\n",
       " {'column_name': 'order_status', 'data_type': 'string', 'column_position': 4}]"
      ]
     },
     "execution_count": 12,
     "metadata": {},
     "output_type": "execute_result"
    }
   ],
   "source": [
    "sorted( schemas['orders'], key=lambda col: col['column_position'])"
   ]
  },
  {
   "cell_type": "code",
   "execution_count": 13,
   "id": "d856b105",
   "metadata": {},
   "outputs": [
    {
     "data": {
      "text/plain": [
       "[{'column_name': 'order_id', 'data_type': 'integer', 'column_position': 1},\n",
       " {'column_name': 'order_date', 'data_type': 'string', 'column_position': 2},\n",
       " {'column_name': 'order_customer_id',\n",
       "  'data_type': 'timestamp',\n",
       "  'column_position': 3},\n",
       " {'column_name': 'order_status', 'data_type': 'string', 'column_position': 4}]"
      ]
     },
     "execution_count": 13,
     "metadata": {},
     "output_type": "execute_result"
    }
   ],
   "source": [
    "ds_schema = sorted( schemas['orders'], key=lambda col: col['column_position'])\n",
    "ds_schema"
   ]
  },
  {
   "cell_type": "code",
   "execution_count": 14,
   "id": "ed8402b5",
   "metadata": {},
   "outputs": [
    {
     "data": {
      "text/plain": [
       "['order_id', 'order_date', 'order_customer_id', 'order_status']"
      ]
     },
     "execution_count": 14,
     "metadata": {},
     "output_type": "execute_result"
    }
   ],
   "source": [
    "[col['column_name'] for col in ds_schema]"
   ]
  },
  {
   "cell_type": "code",
   "execution_count": 16,
   "id": "dd618c67",
   "metadata": {},
   "outputs": [],
   "source": [
    "def get_column_names(schemas_file, ds_name):\n",
    "    schemas = json.load(open('../../../data/retail_db/schemas.json'))\n",
    "    ds_schema = sorted( schemas[ds_name], key=lambda col: col['column_position'])\n",
    "    columns = [col['column_name'] for col in ds_schema]\n",
    "    return columns"
   ]
  },
  {
   "cell_type": "code",
   "execution_count": 17,
   "id": "0f1e84df",
   "metadata": {},
   "outputs": [
    {
     "data": {
      "text/plain": [
       "['order_id', 'order_date', 'order_customer_id', 'order_status']"
      ]
     },
     "execution_count": 17,
     "metadata": {},
     "output_type": "execute_result"
    }
   ],
   "source": [
    "get_column_names('../../../data/retail_db/schemas.json', 'orders')"
   ]
  },
  {
   "cell_type": "code",
   "execution_count": 19,
   "id": "16b042ca",
   "metadata": {},
   "outputs": [
    {
     "name": "stdout",
     "output_type": "stream",
     "text": [
      "columns for departments are department_id,department_name\n",
      "columns for categories are category_id,category_department_id,category_name\n",
      "columns for products are product_id,product_cateogry_id,product_name,product_description,product_price,product_image\n",
      "columns for customers are customer_id,customer_fname,customer_lname,customer_email,customer_password,customer_street,customer_city,customer_state,customer_zipcode\n",
      "columns for orders are order_id,order_date,order_customer_id,order_status\n",
      "columns for order_items are order_item_id,order_item_order_id,order_item_product_id,order_item_quantity,order_item_subtotal,order_item_product_price\n"
     ]
    }
   ],
   "source": [
    "for ds in [\n",
    "    'departments', 'categories', 'products',\n",
    "    'customers', 'orders', 'order_items'\n",
    "]:\n",
    "    column_names = get_column_names('../../../data/retail_db/schemas.json', ds) \n",
    "    print(f'''columns for {ds} are {','.join(column_names)}''')"
   ]
  },
  {
   "cell_type": "code",
   "execution_count": 20,
   "id": "c027e44c",
   "metadata": {},
   "outputs": [],
   "source": [
    "import pandas as pd"
   ]
  },
  {
   "cell_type": "code",
   "execution_count": 22,
   "id": "d9b67e9c",
   "metadata": {},
   "outputs": [],
   "source": [
    "src_base_dir = '../../../data/retail_db'\n",
    "schemas_file = '../../../data/retail_db/schemas.json'\n",
    "bucket = 'ejemplo18'\n",
    "files = get_file_name(src_base_dir)"
   ]
  },
  {
   "cell_type": "code",
   "execution_count": 23,
   "id": "585ea457",
   "metadata": {},
   "outputs": [
    {
     "data": {
      "text/plain": [
       "'../../../data/retail_db/departments/part-00000'"
      ]
     },
     "execution_count": 23,
     "metadata": {},
     "output_type": "execute_result"
    }
   ],
   "source": [
    "file = files[0]\n",
    "file"
   ]
  },
  {
   "cell_type": "code",
   "execution_count": 24,
   "id": "ccddb1d3",
   "metadata": {},
   "outputs": [
    {
     "data": {
      "text/plain": [
       "'departments/part-00000'"
      ]
     },
     "execution_count": 24,
     "metadata": {},
     "output_type": "execute_result"
    }
   ],
   "source": [
    "'/'.join(file.split('/')[-2:])"
   ]
  },
  {
   "cell_type": "code",
   "execution_count": 25,
   "id": "28553fe7",
   "metadata": {},
   "outputs": [
    {
     "data": {
      "text/plain": [
       "'departments'"
      ]
     },
     "execution_count": 25,
     "metadata": {},
     "output_type": "execute_result"
    }
   ],
   "source": [
    "ds_name = file.split('/')[-2]\n",
    "ds_name"
   ]
  },
  {
   "cell_type": "code",
   "execution_count": 26,
   "id": "43928190",
   "metadata": {},
   "outputs": [
    {
     "data": {
      "text/plain": [
       "['department_id', 'department_name']"
      ]
     },
     "execution_count": 26,
     "metadata": {},
     "output_type": "execute_result"
    }
   ],
   "source": [
    "columns = get_column_names(schemas_file, ds_name)\n",
    "columns"
   ]
  },
  {
   "cell_type": "code",
   "execution_count": 28,
   "id": "09f47165",
   "metadata": {},
   "outputs": [
    {
     "name": "stdout",
     "output_type": "stream",
     "text": [
      "Uploading file ../../../data/retail_db/departments/part-00000\n",
      "Uploading file ../../../data/retail_db/order_items/part-00000\n",
      "Uploading file ../../../data/retail_db/customers/part-00000\n",
      "Uploading file ../../../data/retail_db/orders/part-00000\n",
      "Uploading file ../../../data/retail_db/categories/part-00000\n",
      "Uploading file ../../../data/retail_db/products/part-00000\n"
     ]
    }
   ],
   "source": [
    "src_base_dir = '../../../data/retail_db'\n",
    "tgt_base_dir = 'retail_db_parquet'\n",
    "schemas_file = '../../../data/retail_db/schemas.json'\n",
    "bucket = 'ejemplo18'\n",
    "files = get_file_name(src_base_dir)\n",
    "for file in files:\n",
    "    print(f'Uploading file {file}')\n",
    "    blob_suffix = '/'.join(file.split('/')[-2:])\n",
    "    ds_name = file.split('/')[-2]\n",
    "    blob_name = f'gs://{bucket}/{tgt_base_dir}/{blob_suffix}.snappy.parquet'\n",
    "    columns = get_column_names(schemas_file, ds_name)\n",
    "    df = pd.read_csv(file, names=columns)\n",
    "    df.to_parquet(blob_name, index=False)"
   ]
  },
  {
   "cell_type": "code",
   "execution_count": 29,
   "id": "357584e9",
   "metadata": {},
   "outputs": [
    {
     "name": "stdout",
     "output_type": "stream",
     "text": [
      "gs://ejemplo18/retail_db_parquet/:\r\n",
      "\r\n",
      "gs://ejemplo18/retail_db_parquet/categories/:\r\n",
      "gs://ejemplo18/retail_db_parquet/categories/part-00000.snappy.parquet\r\n",
      "\r\n",
      "gs://ejemplo18/retail_db_parquet/customers/:\r\n",
      "gs://ejemplo18/retail_db_parquet/customers/part-00000.snappy.parquet\r\n",
      "\r\n",
      "gs://ejemplo18/retail_db_parquet/departments/:\r\n",
      "gs://ejemplo18/retail_db_parquet/departments/part-00000.snappy.parquet\r\n",
      "\r\n",
      "gs://ejemplo18/retail_db_parquet/order_items/:\r\n",
      "gs://ejemplo18/retail_db_parquet/order_items/part-00000.snappy.parquet\r\n",
      "\r\n",
      "gs://ejemplo18/retail_db_parquet/orders/:\r\n",
      "gs://ejemplo18/retail_db_parquet/orders/part-00000.snappy.parquet\r\n",
      "\r\n",
      "gs://ejemplo18/retail_db_parquet/products/:\r\n",
      "gs://ejemplo18/retail_db_parquet/products/part-00000.snappy.parquet\r\n"
     ]
    }
   ],
   "source": [
    "!gsutil ls -r gs://ejemplo18/retail_db_parquet"
   ]
  },
  {
   "cell_type": "code",
   "execution_count": 30,
   "id": "8ee4a162",
   "metadata": {},
   "outputs": [
    {
     "data": {
      "text/html": [
       "<div>\n",
       "<style scoped>\n",
       "    .dataframe tbody tr th:only-of-type {\n",
       "        vertical-align: middle;\n",
       "    }\n",
       "\n",
       "    .dataframe tbody tr th {\n",
       "        vertical-align: top;\n",
       "    }\n",
       "\n",
       "    .dataframe thead th {\n",
       "        text-align: right;\n",
       "    }\n",
       "</style>\n",
       "<table border=\"1\" class=\"dataframe\">\n",
       "  <thead>\n",
       "    <tr style=\"text-align: right;\">\n",
       "      <th></th>\n",
       "      <th>0</th>\n",
       "      <th>1</th>\n",
       "      <th>2</th>\n",
       "      <th>3</th>\n",
       "    </tr>\n",
       "  </thead>\n",
       "  <tbody>\n",
       "    <tr>\n",
       "      <th>0</th>\n",
       "      <td>1</td>\n",
       "      <td>2013-07-25 00:00:00.0</td>\n",
       "      <td>11599</td>\n",
       "      <td>CLOSED</td>\n",
       "    </tr>\n",
       "    <tr>\n",
       "      <th>1</th>\n",
       "      <td>2</td>\n",
       "      <td>2013-07-25 00:00:00.0</td>\n",
       "      <td>256</td>\n",
       "      <td>PENDING_PAYMENT</td>\n",
       "    </tr>\n",
       "    <tr>\n",
       "      <th>2</th>\n",
       "      <td>3</td>\n",
       "      <td>2013-07-25 00:00:00.0</td>\n",
       "      <td>12111</td>\n",
       "      <td>COMPLETE</td>\n",
       "    </tr>\n",
       "    <tr>\n",
       "      <th>3</th>\n",
       "      <td>4</td>\n",
       "      <td>2013-07-25 00:00:00.0</td>\n",
       "      <td>8827</td>\n",
       "      <td>CLOSED</td>\n",
       "    </tr>\n",
       "    <tr>\n",
       "      <th>4</th>\n",
       "      <td>5</td>\n",
       "      <td>2013-07-25 00:00:00.0</td>\n",
       "      <td>11318</td>\n",
       "      <td>COMPLETE</td>\n",
       "    </tr>\n",
       "    <tr>\n",
       "      <th>...</th>\n",
       "      <td>...</td>\n",
       "      <td>...</td>\n",
       "      <td>...</td>\n",
       "      <td>...</td>\n",
       "    </tr>\n",
       "    <tr>\n",
       "      <th>68878</th>\n",
       "      <td>68879</td>\n",
       "      <td>2014-07-09 00:00:00.0</td>\n",
       "      <td>778</td>\n",
       "      <td>COMPLETE</td>\n",
       "    </tr>\n",
       "    <tr>\n",
       "      <th>68879</th>\n",
       "      <td>68880</td>\n",
       "      <td>2014-07-13 00:00:00.0</td>\n",
       "      <td>1117</td>\n",
       "      <td>COMPLETE</td>\n",
       "    </tr>\n",
       "    <tr>\n",
       "      <th>68880</th>\n",
       "      <td>68881</td>\n",
       "      <td>2014-07-19 00:00:00.0</td>\n",
       "      <td>2518</td>\n",
       "      <td>PENDING_PAYMENT</td>\n",
       "    </tr>\n",
       "    <tr>\n",
       "      <th>68881</th>\n",
       "      <td>68882</td>\n",
       "      <td>2014-07-22 00:00:00.0</td>\n",
       "      <td>10000</td>\n",
       "      <td>ON_HOLD</td>\n",
       "    </tr>\n",
       "    <tr>\n",
       "      <th>68882</th>\n",
       "      <td>68883</td>\n",
       "      <td>2014-07-23 00:00:00.0</td>\n",
       "      <td>5533</td>\n",
       "      <td>COMPLETE</td>\n",
       "    </tr>\n",
       "  </tbody>\n",
       "</table>\n",
       "<p>68883 rows × 4 columns</p>\n",
       "</div>"
      ],
      "text/plain": [
       "           0                      1      2                3\n",
       "0          1  2013-07-25 00:00:00.0  11599           CLOSED\n",
       "1          2  2013-07-25 00:00:00.0    256  PENDING_PAYMENT\n",
       "2          3  2013-07-25 00:00:00.0  12111         COMPLETE\n",
       "3          4  2013-07-25 00:00:00.0   8827           CLOSED\n",
       "4          5  2013-07-25 00:00:00.0  11318         COMPLETE\n",
       "...      ...                    ...    ...              ...\n",
       "68878  68879  2014-07-09 00:00:00.0    778         COMPLETE\n",
       "68879  68880  2014-07-13 00:00:00.0   1117         COMPLETE\n",
       "68880  68881  2014-07-19 00:00:00.0   2518  PENDING_PAYMENT\n",
       "68881  68882  2014-07-22 00:00:00.0  10000          ON_HOLD\n",
       "68882  68883  2014-07-23 00:00:00.0   5533         COMPLETE\n",
       "\n",
       "[68883 rows x 4 columns]"
      ]
     },
     "execution_count": 30,
     "metadata": {},
     "output_type": "execute_result"
    }
   ],
   "source": [
    "pd.read_csv('../../../data/retail_db/orders/part-00000', header=None)"
   ]
  },
  {
   "cell_type": "code",
   "execution_count": 31,
   "id": "3ab9dab2",
   "metadata": {},
   "outputs": [
    {
     "data": {
      "text/html": [
       "<div>\n",
       "<style scoped>\n",
       "    .dataframe tbody tr th:only-of-type {\n",
       "        vertical-align: middle;\n",
       "    }\n",
       "\n",
       "    .dataframe tbody tr th {\n",
       "        vertical-align: top;\n",
       "    }\n",
       "\n",
       "    .dataframe thead th {\n",
       "        text-align: right;\n",
       "    }\n",
       "</style>\n",
       "<table border=\"1\" class=\"dataframe\">\n",
       "  <thead>\n",
       "    <tr style=\"text-align: right;\">\n",
       "      <th></th>\n",
       "      <th>order_id</th>\n",
       "      <th>order_date</th>\n",
       "      <th>order_customer_id</th>\n",
       "      <th>order_status</th>\n",
       "    </tr>\n",
       "  </thead>\n",
       "  <tbody>\n",
       "    <tr>\n",
       "      <th>0</th>\n",
       "      <td>1</td>\n",
       "      <td>2013-07-25 00:00:00.0</td>\n",
       "      <td>11599</td>\n",
       "      <td>CLOSED</td>\n",
       "    </tr>\n",
       "    <tr>\n",
       "      <th>1</th>\n",
       "      <td>2</td>\n",
       "      <td>2013-07-25 00:00:00.0</td>\n",
       "      <td>256</td>\n",
       "      <td>PENDING_PAYMENT</td>\n",
       "    </tr>\n",
       "    <tr>\n",
       "      <th>2</th>\n",
       "      <td>3</td>\n",
       "      <td>2013-07-25 00:00:00.0</td>\n",
       "      <td>12111</td>\n",
       "      <td>COMPLETE</td>\n",
       "    </tr>\n",
       "    <tr>\n",
       "      <th>3</th>\n",
       "      <td>4</td>\n",
       "      <td>2013-07-25 00:00:00.0</td>\n",
       "      <td>8827</td>\n",
       "      <td>CLOSED</td>\n",
       "    </tr>\n",
       "    <tr>\n",
       "      <th>4</th>\n",
       "      <td>5</td>\n",
       "      <td>2013-07-25 00:00:00.0</td>\n",
       "      <td>11318</td>\n",
       "      <td>COMPLETE</td>\n",
       "    </tr>\n",
       "    <tr>\n",
       "      <th>...</th>\n",
       "      <td>...</td>\n",
       "      <td>...</td>\n",
       "      <td>...</td>\n",
       "      <td>...</td>\n",
       "    </tr>\n",
       "    <tr>\n",
       "      <th>68878</th>\n",
       "      <td>68879</td>\n",
       "      <td>2014-07-09 00:00:00.0</td>\n",
       "      <td>778</td>\n",
       "      <td>COMPLETE</td>\n",
       "    </tr>\n",
       "    <tr>\n",
       "      <th>68879</th>\n",
       "      <td>68880</td>\n",
       "      <td>2014-07-13 00:00:00.0</td>\n",
       "      <td>1117</td>\n",
       "      <td>COMPLETE</td>\n",
       "    </tr>\n",
       "    <tr>\n",
       "      <th>68880</th>\n",
       "      <td>68881</td>\n",
       "      <td>2014-07-19 00:00:00.0</td>\n",
       "      <td>2518</td>\n",
       "      <td>PENDING_PAYMENT</td>\n",
       "    </tr>\n",
       "    <tr>\n",
       "      <th>68881</th>\n",
       "      <td>68882</td>\n",
       "      <td>2014-07-22 00:00:00.0</td>\n",
       "      <td>10000</td>\n",
       "      <td>ON_HOLD</td>\n",
       "    </tr>\n",
       "    <tr>\n",
       "      <th>68882</th>\n",
       "      <td>68883</td>\n",
       "      <td>2014-07-23 00:00:00.0</td>\n",
       "      <td>5533</td>\n",
       "      <td>COMPLETE</td>\n",
       "    </tr>\n",
       "  </tbody>\n",
       "</table>\n",
       "<p>68883 rows × 4 columns</p>\n",
       "</div>"
      ],
      "text/plain": [
       "       order_id             order_date  order_customer_id     order_status\n",
       "0             1  2013-07-25 00:00:00.0              11599           CLOSED\n",
       "1             2  2013-07-25 00:00:00.0                256  PENDING_PAYMENT\n",
       "2             3  2013-07-25 00:00:00.0              12111         COMPLETE\n",
       "3             4  2013-07-25 00:00:00.0               8827           CLOSED\n",
       "4             5  2013-07-25 00:00:00.0              11318         COMPLETE\n",
       "...         ...                    ...                ...              ...\n",
       "68878     68879  2014-07-09 00:00:00.0                778         COMPLETE\n",
       "68879     68880  2014-07-13 00:00:00.0               1117         COMPLETE\n",
       "68880     68881  2014-07-19 00:00:00.0               2518  PENDING_PAYMENT\n",
       "68881     68882  2014-07-22 00:00:00.0              10000          ON_HOLD\n",
       "68882     68883  2014-07-23 00:00:00.0               5533         COMPLETE\n",
       "\n",
       "[68883 rows x 4 columns]"
      ]
     },
     "execution_count": 31,
     "metadata": {},
     "output_type": "execute_result"
    }
   ],
   "source": [
    "pd.read_parquet('gs://ejemplo18/retail_db_parquet/orders/part-00000.snappy.parquet')"
   ]
  },
  {
   "cell_type": "code",
   "execution_count": 32,
   "id": "ca99fba3",
   "metadata": {},
   "outputs": [
    {
     "name": "stdout",
     "output_type": "stream",
     "text": [
      "Shape of departments in local files system is (6, 2)\n",
      "Shape of categories in local files system is (58, 3)\n",
      "Shape of products in local files system is (1345, 6)\n",
      "Shape of customers in local files system is (12435, 9)\n",
      "Shape of orders in local files system is (68883, 4)\n",
      "Shape of order_items in local files system is (172198, 6)\n"
     ]
    }
   ],
   "source": [
    "for ds in [\n",
    "    'departments', 'categories', 'products',\n",
    "    'customers', 'orders', 'order_items'\n",
    "]:\n",
    "    df = pd.read_csv(f'../../../data/retail_db/{ds}/part-00000', header=None)\n",
    "    print(f'''Shape of {ds} in local files system is {df.shape}''')"
   ]
  },
  {
   "cell_type": "code",
   "execution_count": 33,
   "id": "31250a49",
   "metadata": {},
   "outputs": [
    {
     "name": "stdout",
     "output_type": "stream",
     "text": [
      "Shape of departments in gcs is (6, 2)\n",
      "Shape of categories in gcs is (58, 3)\n",
      "Shape of products in gcs is (1345, 6)\n",
      "Shape of customers in gcs is (12435, 9)\n",
      "Shape of orders in gcs is (68883, 4)\n",
      "Shape of order_items in gcs is (172198, 6)\n"
     ]
    }
   ],
   "source": [
    "for ds in [\n",
    "    'departments', 'categories', 'products',\n",
    "    'customers', 'orders', 'order_items'\n",
    "]:\n",
    "    df = pd.read_parquet(f'gs://{bucket}/{tgt_base_dir}/{ds}/part-00000.snappy.parquet')\n",
    "    print(f'''Shape of {ds} in gcs is {df.shape}''')"
   ]
  },
  {
   "cell_type": "code",
   "execution_count": null,
   "id": "62165ecf",
   "metadata": {},
   "outputs": [],
   "source": []
  }
 ],
 "metadata": {
  "kernelspec": {
   "display_name": "Python 3 (ipykernel)",
   "language": "python",
   "name": "python3"
  },
  "language_info": {
   "codemirror_mode": {
    "name": "ipython",
    "version": 3
   },
   "file_extension": ".py",
   "mimetype": "text/x-python",
   "name": "python",
   "nbconvert_exporter": "python",
   "pygments_lexer": "ipython3",
   "version": "3.10.9"
  }
 },
 "nbformat": 4,
 "nbformat_minor": 5
}
