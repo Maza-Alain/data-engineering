{
 "cells": [
  {
   "cell_type": "code",
   "execution_count": null,
   "id": "e431823e",
   "metadata": {},
   "outputs": [],
   "source": [
    "!gsutil mb gs://upload-files-python"
   ]
  },
  {
   "cell_type": "code",
   "execution_count": null,
   "id": "a32946cb",
   "metadata": {},
   "outputs": [],
   "source": [
    "!gsutil list"
   ]
  },
  {
   "cell_type": "code",
   "execution_count": null,
   "id": "9dfcdef9",
   "metadata": {},
   "outputs": [],
   "source": [
    "!pwd"
   ]
  },
  {
   "cell_type": "code",
   "execution_count": null,
   "id": "7c54ff4d",
   "metadata": {},
   "outputs": [],
   "source": [
    "!gsutil cp -r ../../data/retail_db gs://upload-files-python"
   ]
  },
  {
   "cell_type": "code",
   "execution_count": null,
   "id": "a332c202",
   "metadata": {},
   "outputs": [],
   "source": [
    "!gsutil ls -r gs://upload-files-python"
   ]
  },
  {
   "cell_type": "code",
   "execution_count": null,
   "id": "ef62a5f5",
   "metadata": {},
   "outputs": [],
   "source": [
    "from google.cloud import storage"
   ]
  },
  {
   "cell_type": "code",
   "execution_count": null,
   "id": "a939c7b2",
   "metadata": {},
   "outputs": [],
   "source": [
    "!gcloud auth application-default login"
   ]
  },
  {
   "cell_type": "code",
   "execution_count": null,
   "id": "6dcd0ad9",
   "metadata": {},
   "outputs": [],
   "source": [
    "gsClient = storage.Client()"
   ]
  },
  {
   "cell_type": "code",
   "execution_count": null,
   "id": "343f2173",
   "metadata": {},
   "outputs": [],
   "source": [
    "gsClient"
   ]
  },
  {
   "cell_type": "code",
   "execution_count": null,
   "id": "dcc24f83",
   "metadata": {},
   "outputs": [],
   "source": [
    "help(gsClient.list_buckets)"
   ]
  },
  {
   "cell_type": "code",
   "execution_count": null,
   "id": "077241df",
   "metadata": {},
   "outputs": [],
   "source": [
    "gsClient.list_buckets()"
   ]
  },
  {
   "cell_type": "code",
   "execution_count": null,
   "id": "4fbc852f",
   "metadata": {},
   "outputs": [],
   "source": [
    "list(gsClient.list_buckets())"
   ]
  },
  {
   "cell_type": "code",
   "execution_count": null,
   "id": "5d1e1f26",
   "metadata": {},
   "outputs": [],
   "source": [
    "bucket = list(gsClient.list_buckets())[0]"
   ]
  },
  {
   "cell_type": "code",
   "execution_count": null,
   "id": "0f894fa0",
   "metadata": {},
   "outputs": [],
   "source": [
    "bucket"
   ]
  },
  {
   "cell_type": "code",
   "execution_count": null,
   "id": "b743df7f",
   "metadata": {},
   "outputs": [],
   "source": [
    "type(bucket)"
   ]
  },
  {
   "cell_type": "code",
   "execution_count": null,
   "id": "ebda3a5b",
   "metadata": {},
   "outputs": [],
   "source": [
    "bucket.name"
   ]
  },
  {
   "cell_type": "code",
   "execution_count": null,
   "id": "b126817a",
   "metadata": {},
   "outputs": [],
   "source": [
    "bucket"
   ]
  },
  {
   "cell_type": "code",
   "execution_count": null,
   "id": "0bed2676",
   "metadata": {},
   "outputs": [],
   "source": [
    "gsClient.get_bucket?"
   ]
  },
  {
   "cell_type": "code",
   "execution_count": null,
   "id": "945a3f44",
   "metadata": {},
   "outputs": [],
   "source": [
    "gsClient.get_bucket('upload-files-python')"
   ]
  },
  {
   "cell_type": "code",
   "execution_count": null,
   "id": "393f98e5",
   "metadata": {},
   "outputs": [],
   "source": [
    "gsClient.list_blobs('upload-files-python')"
   ]
  },
  {
   "cell_type": "code",
   "execution_count": null,
   "id": "7cad6fe4",
   "metadata": {},
   "outputs": [],
   "source": [
    "list(gsClient.list_blobs('upload-files-python'))"
   ]
  },
  {
   "cell_type": "code",
   "execution_count": null,
   "id": "e76cef91",
   "metadata": {},
   "outputs": [],
   "source": [
    "blob = list(gsClient.list_blobs('upload-files-python'))[0]"
   ]
  },
  {
   "cell_type": "code",
   "execution_count": null,
   "id": "4f0aa4af",
   "metadata": {},
   "outputs": [],
   "source": [
    "blob.name"
   ]
  },
  {
   "cell_type": "code",
   "execution_count": null,
   "id": "0225f3e9",
   "metadata": {},
   "outputs": [],
   "source": [
    "type(blob)"
   ]
  },
  {
   "cell_type": "code",
   "execution_count": null,
   "id": "3bed8cb9",
   "metadata": {},
   "outputs": [],
   "source": [
    "#aca se crea un blob, se le sube un archivo a ese blob para que aparezca y depues se creara\n",
    "#un csv donde descargaremos el\n",
    "#contenido del blob para asi tenerlo en un csv"
   ]
  },
  {
   "cell_type": "code",
   "execution_count": null,
   "id": "c2570d73",
   "metadata": {},
   "outputs": [],
   "source": [
    "bucket = gsClient.get_bucket('upload-files-python')"
   ]
  },
  {
   "cell_type": "code",
   "execution_count": null,
   "id": "cf98b88a",
   "metadata": {},
   "outputs": [],
   "source": [
    "blob2 = bucket.blob('pythondemo/retail_db/orders/part-00000')"
   ]
  },
  {
   "cell_type": "code",
   "execution_count": null,
   "id": "48f5e1ca",
   "metadata": {},
   "outputs": [],
   "source": [
    "blob2"
   ]
  },
  {
   "cell_type": "code",
   "execution_count": null,
   "id": "5fdabe23",
   "metadata": {},
   "outputs": [],
   "source": [
    "blob3 = bucket.blob('pythondemo/retail_db/orders/example')"
   ]
  },
  {
   "cell_type": "code",
   "execution_count": null,
   "id": "ac69c9a2",
   "metadata": {},
   "outputs": [],
   "source": [
    "!gsutil ls gs://upload-files-python/pythondemo/retail_db/orders"
   ]
  },
  {
   "cell_type": "code",
   "execution_count": null,
   "id": "4581259a",
   "metadata": {},
   "outputs": [],
   "source": [
    "blob2.upload_from_filename('../../data/retail_db/orders/part-00000')"
   ]
  },
  {
   "cell_type": "code",
   "execution_count": null,
   "id": "80ee010d",
   "metadata": {},
   "outputs": [],
   "source": [
    "blob3.upload_from_filename('ex.txt')"
   ]
  },
  {
   "cell_type": "code",
   "execution_count": null,
   "id": "bf5fdde9",
   "metadata": {},
   "outputs": [],
   "source": [
    "!gsutil ls gs://upload-files-python/pythondemo/retail_db/orders"
   ]
  },
  {
   "cell_type": "code",
   "execution_count": null,
   "id": "a3903e5e",
   "metadata": {},
   "outputs": [],
   "source": [
    "gsClient.download_blob_to_file?"
   ]
  },
  {
   "cell_type": "code",
   "execution_count": null,
   "id": "350c5fbd",
   "metadata": {},
   "outputs": [],
   "source": [
    "ejem = open ('ex2.tx', 'wb')\n",
    "gsClient.download_blob_to_file(\n",
    "    'gs://upload-files-python/pythondemo/retail_db/orders/example',\n",
    "    ejem\n",
    ")\n",
    "ejem.close()"
   ]
  },
  {
   "cell_type": "code",
   "execution_count": null,
   "id": "cff883f4",
   "metadata": {},
   "outputs": [],
   "source": [
    "orders_csv = open('orders.csv', 'wb')\n",
    "gsClient.download_blob_to_file(\n",
    "    'gs://upload-files-python/pythondemo/retail_db/orders/part-00000',\n",
    "    orders_csv\n",
    ")\n",
    "orders_csv.close()"
   ]
  },
  {
   "cell_type": "code",
   "execution_count": null,
   "id": "94207143",
   "metadata": {},
   "outputs": [],
   "source": [
    "import pandas as pd"
   ]
  },
  {
   "cell_type": "code",
   "execution_count": null,
   "id": "da718766",
   "metadata": {},
   "outputs": [],
   "source": [
    "df = pd.read_csv('orders.csv')\n",
    "print(df)"
   ]
  },
  {
   "cell_type": "code",
   "execution_count": null,
   "id": "f9517862",
   "metadata": {},
   "outputs": [],
   "source": []
  }
 ],
 "metadata": {
  "kernelspec": {
   "display_name": "Python 3 (ipykernel)",
   "language": "python",
   "name": "python3"
  },
  "language_info": {
   "codemirror_mode": {
    "name": "ipython",
    "version": 3
   },
   "file_extension": ".py",
   "mimetype": "text/x-python",
   "name": "python",
   "nbconvert_exporter": "python",
   "pygments_lexer": "ipython3",
   "version": "3.10.9"
  }
 },
 "nbformat": 4,
 "nbformat_minor": 5
}
