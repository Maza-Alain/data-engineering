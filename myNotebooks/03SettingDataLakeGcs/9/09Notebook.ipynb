{
 "cells": [
  {
   "cell_type": "code",
   "execution_count": 1,
   "id": "adc84832",
   "metadata": {},
   "outputs": [],
   "source": [
    "import glob"
   ]
  },
  {
   "cell_type": "code",
   "execution_count": 2,
   "id": "029e57ed",
   "metadata": {},
   "outputs": [],
   "source": [
    "src_base_dir = '../../../data/retail_db'"
   ]
  },
  {
   "cell_type": "code",
   "execution_count": 3,
   "id": "192251bf",
   "metadata": {},
   "outputs": [],
   "source": [
    "items = glob.glob(f'{src_base_dir}/**', recursive=True)"
   ]
  },
  {
   "cell_type": "code",
   "execution_count": 4,
   "id": "67763f78",
   "metadata": {},
   "outputs": [
    {
     "data": {
      "text/plain": [
       "['../../../data/retail_db/',\n",
       " '../../../data/retail_db/schemas.json',\n",
       " '../../../data/retail_db/departments',\n",
       " '../../../data/retail_db/departments/part-00000',\n",
       " '../../../data/retail_db/order_items',\n",
       " '../../../data/retail_db/order_items/part-00000',\n",
       " '../../../data/retail_db/load_db_tables_pg.sql',\n",
       " '../../../data/retail_db/customers',\n",
       " '../../../data/retail_db/customers/part-00000',\n",
       " '../../../data/retail_db/create_db_tables_pg.sql',\n",
       " '../../../data/retail_db/orders',\n",
       " '../../../data/retail_db/orders/part-00000',\n",
       " '../../../data/retail_db/categories',\n",
       " '../../../data/retail_db/categories/part-00000',\n",
       " '../../../data/retail_db/products',\n",
       " '../../../data/retail_db/products/part-00000']"
      ]
     },
     "execution_count": 4,
     "metadata": {},
     "output_type": "execute_result"
    }
   ],
   "source": [
    "items"
   ]
  },
  {
   "cell_type": "code",
   "execution_count": 5,
   "id": "8e92bbaa",
   "metadata": {},
   "outputs": [],
   "source": [
    "item = items[2]"
   ]
  },
  {
   "cell_type": "code",
   "execution_count": 6,
   "id": "4ea3aadf",
   "metadata": {},
   "outputs": [
    {
     "data": {
      "text/plain": [
       "'../../../data/retail_db/departments'"
      ]
     },
     "execution_count": 6,
     "metadata": {},
     "output_type": "execute_result"
    }
   ],
   "source": [
    "item"
   ]
  },
  {
   "cell_type": "code",
   "execution_count": 7,
   "id": "d97a4fcd",
   "metadata": {},
   "outputs": [
    {
     "data": {
      "text/plain": [
       "False"
      ]
     },
     "execution_count": 7,
     "metadata": {},
     "output_type": "execute_result"
    }
   ],
   "source": [
    "import os\n",
    "os.path.isfile(item)"
   ]
  },
  {
   "cell_type": "code",
   "execution_count": 8,
   "id": "8428abe3",
   "metadata": {},
   "outputs": [],
   "source": [
    "files = list(filter(lambda item:os.path.isfile(item), items ))"
   ]
  },
  {
   "cell_type": "code",
   "execution_count": 9,
   "id": "9d3657f9",
   "metadata": {},
   "outputs": [
    {
     "data": {
      "text/plain": [
       "['../../../data/retail_db/schemas.json',\n",
       " '../../../data/retail_db/departments/part-00000',\n",
       " '../../../data/retail_db/order_items/part-00000',\n",
       " '../../../data/retail_db/load_db_tables_pg.sql',\n",
       " '../../../data/retail_db/customers/part-00000',\n",
       " '../../../data/retail_db/create_db_tables_pg.sql',\n",
       " '../../../data/retail_db/orders/part-00000',\n",
       " '../../../data/retail_db/categories/part-00000',\n",
       " '../../../data/retail_db/products/part-00000']"
      ]
     },
     "execution_count": 9,
     "metadata": {},
     "output_type": "execute_result"
    }
   ],
   "source": [
    "files"
   ]
  },
  {
   "cell_type": "code",
   "execution_count": 10,
   "id": "c98a0119",
   "metadata": {},
   "outputs": [],
   "source": [
    "file = files[3]"
   ]
  },
  {
   "cell_type": "code",
   "execution_count": 11,
   "id": "caa4faa2",
   "metadata": {},
   "outputs": [
    {
     "data": {
      "text/plain": [
       "'../../../data/retail_db/load_db_tables_pg.sql'"
      ]
     },
     "execution_count": 11,
     "metadata": {},
     "output_type": "execute_result"
    }
   ],
   "source": [
    "file"
   ]
  },
  {
   "cell_type": "code",
   "execution_count": 12,
   "id": "5a8ff07a",
   "metadata": {},
   "outputs": [
    {
     "data": {
      "text/plain": [
       "['data', 'retail_db', 'load_db_tables_pg.sql']"
      ]
     },
     "execution_count": 12,
     "metadata": {},
     "output_type": "execute_result"
    }
   ],
   "source": [
    "file.split('/')[3:]"
   ]
  },
  {
   "cell_type": "code",
   "execution_count": 13,
   "id": "0b17d67c",
   "metadata": {},
   "outputs": [
    {
     "data": {
      "text/plain": [
       "'data/retail_db/load_db_tables_pg.sql'"
      ]
     },
     "execution_count": 13,
     "metadata": {},
     "output_type": "execute_result"
    }
   ],
   "source": [
    "'/'.join(file.split('/')[3:])"
   ]
  },
  {
   "cell_type": "code",
   "execution_count": 14,
   "id": "9fb5d1dd",
   "metadata": {},
   "outputs": [],
   "source": [
    "tgt_base_dir = 'pythondemo'"
   ]
  },
  {
   "cell_type": "code",
   "execution_count": 15,
   "id": "29a7566a",
   "metadata": {},
   "outputs": [],
   "source": [
    "from google.cloud import storage"
   ]
  },
  {
   "cell_type": "code",
   "execution_count": 16,
   "id": "89368489",
   "metadata": {},
   "outputs": [],
   "source": [
    "gsclient = storage.Client()"
   ]
  },
  {
   "cell_type": "code",
   "execution_count": 17,
   "id": "26675559",
   "metadata": {},
   "outputs": [
    {
     "data": {
      "text/plain": [
       "<Bucket: ejemplo28>"
      ]
     },
     "execution_count": 17,
     "metadata": {},
     "output_type": "execute_result"
    }
   ],
   "source": [
    "gsclient.bucket('ejemplo28')\n",
    "# Esto crea el objet e python para poder interactuar conel bucket y poder subir, bajar archivos, lista etc"
   ]
  },
  {
   "cell_type": "code",
   "execution_count": 18,
   "id": "a10e6002",
   "metadata": {},
   "outputs": [
    {
     "name": "stdout",
     "output_type": "stream",
     "text": [
      "Creating gs://ejemplo18/...\r\n"
     ]
    }
   ],
   "source": [
    "!gsutil mb gs://ejemplo18"
   ]
  },
  {
   "cell_type": "code",
   "execution_count": 19,
   "id": "d31e0c7a",
   "metadata": {},
   "outputs": [
    {
     "name": "stdout",
     "output_type": "stream",
     "text": [
      "gs://ejemplo18/\r\n"
     ]
    }
   ],
   "source": [
    "!gsutil ls"
   ]
  },
  {
   "cell_type": "code",
   "execution_count": 20,
   "id": "d297258e",
   "metadata": {},
   "outputs": [
    {
     "name": "stdout",
     "output_type": "stream",
     "text": [
      "uploading file ../../../data/retail_db/schemas.json\n",
      "uploading file ../../../data/retail_db/departments/part-00000\n",
      "uploading file ../../../data/retail_db/order_items/part-00000\n",
      "uploading file ../../../data/retail_db/load_db_tables_pg.sql\n",
      "uploading file ../../../data/retail_db/customers/part-00000\n",
      "uploading file ../../../data/retail_db/create_db_tables_pg.sql\n",
      "uploading file ../../../data/retail_db/orders/part-00000\n",
      "uploading file ../../../data/retail_db/categories/part-00000\n",
      "uploading file ../../../data/retail_db/products/part-00000\n"
     ]
    }
   ],
   "source": [
    "files = filter(lambda item:os.path.isfile(item), items )\n",
    "bucket = gsclient.get_bucket('ejemplo18')\n",
    "for file in files:\n",
    "    print(f'uploading file {file}')\n",
    "    blob_suffix = '/'.join(file.split('/')[3:])\n",
    "    blob_name = f'{tgt_base_dir}/{blob_suffix}'\n",
    "    blob = bucket.blob(blob_name)\n",
    "    blob.upload_from_filename(file)"
   ]
  },
  {
   "cell_type": "code",
   "execution_count": 21,
   "id": "7ef0fcac",
   "metadata": {},
   "outputs": [
    {
     "name": "stdout",
     "output_type": "stream",
     "text": [
      "gs://ejemplo18/pythondemo/:\r\n",
      "\r\n",
      "gs://ejemplo18/pythondemo/data/:\r\n",
      "\r\n",
      "gs://ejemplo18/pythondemo/data/retail_db/:\r\n",
      "gs://ejemplo18/pythondemo/data/retail_db/create_db_tables_pg.sql\r\n",
      "gs://ejemplo18/pythondemo/data/retail_db/load_db_tables_pg.sql\r\n",
      "gs://ejemplo18/pythondemo/data/retail_db/schemas.json\r\n",
      "\r\n",
      "gs://ejemplo18/pythondemo/data/retail_db/categories/:\r\n",
      "gs://ejemplo18/pythondemo/data/retail_db/categories/part-00000\r\n",
      "\r\n",
      "gs://ejemplo18/pythondemo/data/retail_db/customers/:\r\n",
      "gs://ejemplo18/pythondemo/data/retail_db/customers/part-00000\r\n",
      "\r\n",
      "gs://ejemplo18/pythondemo/data/retail_db/departments/:\r\n",
      "gs://ejemplo18/pythondemo/data/retail_db/departments/part-00000\r\n",
      "\r\n",
      "gs://ejemplo18/pythondemo/data/retail_db/order_items/:\r\n",
      "gs://ejemplo18/pythondemo/data/retail_db/order_items/part-00000\r\n",
      "\r\n",
      "gs://ejemplo18/pythondemo/data/retail_db/orders/:\r\n",
      "gs://ejemplo18/pythondemo/data/retail_db/orders/part-00000\r\n",
      "\r\n",
      "gs://ejemplo18/pythondemo/data/retail_db/products/:\r\n",
      "gs://ejemplo18/pythondemo/data/retail_db/products/part-00000\r\n"
     ]
    }
   ],
   "source": [
    "!gsutil ls -r gs://ejemplo18/pythondemo"
   ]
  },
  {
   "cell_type": "code",
   "execution_count": 37,
   "id": "734f8bbe",
   "metadata": {},
   "outputs": [
    {
     "data": {
      "text/plain": [
       "<google.api_core.page_iterator.HTTPIterator at 0x7fddf7dfd6f0>"
      ]
     },
     "execution_count": 37,
     "metadata": {},
     "output_type": "execute_result"
    }
   ],
   "source": [
    "gsclient.list_blobs(\n",
    "    'ejemplo18',\n",
    "    prefix='pythondemo'\n",
    ")"
   ]
  },
  {
   "cell_type": "code",
   "execution_count": 38,
   "id": "a3ae38c3",
   "metadata": {},
   "outputs": [],
   "source": [
    "blobs = list(gsclient.list_blobs(\n",
    "    'ejemplo18',\n",
    "    prefix='pythondemo'\n",
    "))"
   ]
  },
  {
   "cell_type": "code",
   "execution_count": 39,
   "id": "350ce2c9",
   "metadata": {},
   "outputs": [
    {
     "data": {
      "text/plain": [
       "[<Blob: ejemplo18, pythondemo/data/retail_db/categories/part-00000, 1681878508483394>,\n",
       " <Blob: ejemplo18, pythondemo/data/retail_db/create_db_tables_pg.sql, 1681878495805525>,\n",
       " <Blob: ejemplo18, pythondemo/data/retail_db/customers/part-00000, 1681878495600852>,\n",
       " <Blob: ejemplo18, pythondemo/data/retail_db/departments/part-00000, 1681878425203472>,\n",
       " <Blob: ejemplo18, pythondemo/data/retail_db/load_db_tables_pg.sql, 1681878491598699>,\n",
       " <Blob: ejemplo18, pythondemo/data/retail_db/order_items/part-00000, 1681878448005134>,\n",
       " <Blob: ejemplo18, pythondemo/data/retail_db/orders/part-00000, 1681878508287565>,\n",
       " <Blob: ejemplo18, pythondemo/data/retail_db/products/part-00000, 1681878508996852>,\n",
       " <Blob: ejemplo18, pythondemo/data/retail_db/schemas.json, 1681878424985800>]"
      ]
     },
     "execution_count": 39,
     "metadata": {},
     "output_type": "execute_result"
    }
   ],
   "source": [
    "blobs"
   ]
  },
  {
   "cell_type": "code",
   "execution_count": 40,
   "id": "3db3f2d4",
   "metadata": {},
   "outputs": [
    {
     "name": "stdout",
     "output_type": "stream",
     "text": [
      "gs://ejemplo18/\r\n"
     ]
    }
   ],
   "source": [
    "!gsutil ls\n"
   ]
  },
  {
   "cell_type": "code",
   "execution_count": 44,
   "id": "8bac564d",
   "metadata": {},
   "outputs": [
    {
     "name": "stdout",
     "output_type": "stream",
     "text": [
      "Removing gs://ejemplo18/...\n",
      "NotEmptyException: 409 BucketNotEmpty (ejemplo18)\n"
     ]
    }
   ],
   "source": [
    "!gsutil rb gs://ejemplo18"
   ]
  },
  {
   "cell_type": "code",
   "execution_count": 43,
   "id": "f3160e16",
   "metadata": {},
   "outputs": [
    {
     "name": "stdout",
     "output_type": "stream",
     "text": [
      "\u001b[1mNAME\u001b[0;0m\r\n",
      "  rb - Remove buckets\r\n",
      "\r\n",
      "\r\n",
      "\u001b[1mSYNOPSIS\u001b[0;0m\r\n",
      "\r\n",
      "  gsutil rb [-f] gs://<bucket_name>...\r\n",
      "\r\n",
      "\r\n",
      "\r\n",
      "\u001b[1mDESCRIPTION\u001b[0;0m\r\n",
      "  Delete one or more buckets. Buckets must be empty before you can delete them.\r\n",
      "\r\n",
      "  Be certain you want to delete a bucket before you do so, as once it is\r\n",
      "  deleted the name becomes available and another user may create a bucket with\r\n",
      "  that name. (But see also \"DOMAIN NAMED BUCKETS\" under \"gsutil help naming\"\r\n",
      "  for help carving out parts of the bucket name space.)\r\n",
      "\r\n",
      "\r\n",
      "\u001b[1mOPTIONS\u001b[0;0m\r\n",
      "  -f          Continues silently (without printing error messages) despite\r\n",
      "              errors when removing buckets. If some buckets couldn't be removed,\r\n",
      "              gsutil's exit status will be non-zero even if this flag is set.\r\n",
      "              If no buckets could be removed, the command raises a\r\n",
      "              \"no matches\" error."
     ]
    }
   ],
   "source": [
    "!gsutil help rb"
   ]
  },
  {
   "cell_type": "code",
   "execution_count": null,
   "id": "232bab2d",
   "metadata": {},
   "outputs": [],
   "source": []
  }
 ],
 "metadata": {
  "kernelspec": {
   "display_name": "Python 3 (ipykernel)",
   "language": "python",
   "name": "python3"
  },
  "language_info": {
   "codemirror_mode": {
    "name": "ipython",
    "version": 3
   },
   "file_extension": ".py",
   "mimetype": "text/x-python",
   "name": "python",
   "nbconvert_exporter": "python",
   "pygments_lexer": "ipython3",
   "version": "3.10.9"
  }
 },
 "nbformat": 4,
 "nbformat_minor": 5
}
