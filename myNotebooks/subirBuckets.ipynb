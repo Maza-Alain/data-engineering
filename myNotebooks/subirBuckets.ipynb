{
 "cells": [
  {
   "cell_type": "code",
   "execution_count": 1,
   "id": "8a7818f8",
   "metadata": {},
   "outputs": [
    {
     "name": "stdout",
     "output_type": "stream",
     "text": [
      "Your browser has been opened to visit:\n",
      "\n",
      "    https://accounts.google.com/o/oauth2/auth?response_type=code&client_id=764086051850-6qr4p6gpi6hn506pt8ejuq83di341hur.apps.googleusercontent.com&redirect_uri=http%3A%2F%2Flocalhost%3A8085%2F&scope=openid+https%3A%2F%2Fwww.googleapis.com%2Fauth%2Fuserinfo.email+https%3A%2F%2Fwww.googleapis.com%2Fauth%2Fcloud-platform+https%3A%2F%2Fwww.googleapis.com%2Fauth%2Fsqlservice.login+https%3A%2F%2Fwww.googleapis.com%2Fauth%2Faccounts.reauth&state=iyrVO6qWkfkAK5hnJF3Xkwm6OGKuuS&access_type=offline&code_challenge=dZ1GMBP-19nT3cFeYksxTvQfeXyvAbfNWpMMyypJz88&code_challenge_method=S256\n",
      "\n",
      "\n",
      "Credentials saved to file: [/home/maza/.config/gcloud/application_default_credentials.json]\n",
      "\n",
      "These credentials will be used by any library that requests Application Default Credentials (ADC).\n",
      "\n",
      "Quota project \"subtle-fulcrum-385813\" was added to ADC which can be used by Google client libraries for billing and quota. Note that some services may still bill the project owning the resource.\n"
     ]
    }
   ],
   "source": [
    "!gcloud auth application-default login"
   ]
  },
  {
   "cell_type": "code",
   "execution_count": null,
   "id": "72e4840d",
   "metadata": {},
   "outputs": [],
   "source": [
    "# Crear bucket por si no existe\n",
    "#!gsutil mb gs://genesis_bucket_7"
   ]
  },
  {
   "cell_type": "markdown",
   "id": "6664ac12",
   "metadata": {},
   "source": [
    "un notebook donde cree un bucket y le suba archivos a gcs para asi tenerlos ahi y poder usarlo en pipelines"
   ]
  },
  {
   "cell_type": "code",
   "execution_count": 2,
   "id": "379c06d8",
   "metadata": {},
   "outputs": [
    {
     "name": "stdout",
     "output_type": "stream",
     "text": [
      "gs://dataproc-staging-us-central1-481715333377-hlh2hgmu/\r\n",
      "gs://dataproc-temp-us-central1-481715333377-rqctpvzw/\r\n",
      "gs://ejemplo18/\r\n",
      "gs://gcf-v2-sources-481715333377-us-central1/\r\n",
      "gs://gcf-v2-uploads-481715333377-us-central1/\r\n",
      "gs://genesis_bucket_7/\r\n"
     ]
    }
   ],
   "source": [
    "!gsutil list\n"
   ]
  },
  {
   "cell_type": "code",
   "execution_count": 3,
   "id": "9c3bc2f9",
   "metadata": {},
   "outputs": [
    {
     "data": {
      "text/plain": [
       "['../myData/genesisSQL/1.1.sql']"
      ]
     },
     "execution_count": 3,
     "metadata": {},
     "output_type": "execute_result"
    }
   ],
   "source": [
    "#obtener lista con ubicaciones de archivos\n",
    "import glob\n",
    "import os\n",
    "from google.cloud import storage\n",
    "from google.cloud.storage import Blob\n",
    "gsclient = storage.Client(project='subtle-fulcrum-385813')\n",
    "data_path = '../myData/genesisSQL'\n",
    "scripts_files = glob.glob(f'{data_path}/*.sql')\n",
    "scripts_files"
   ]
  },
  {
   "cell_type": "code",
   "execution_count": null,
   "id": "efb1720d",
   "metadata": {},
   "outputs": [],
   "source": []
  },
  {
   "cell_type": "code",
   "execution_count": 4,
   "id": "67db456f",
   "metadata": {},
   "outputs": [
    {
     "name": "stdout",
     "output_type": "stream",
     "text": [
      "['../myData/genesisSQL/1.1.sql']\n",
      "El archivo: ../myData/genesisSQL/1.1.sql\n",
      "Se está subiendo a: genesisTabla/1.1.sql\n",
      "<Blob: genesis_bucket_7, genesisTabla/1.1.sql, None>\n",
      "Subido correctamente\n"
     ]
    }
   ],
   "source": [
    "#!gcloud config configurations describe personal\n",
    "#probando\n",
    "\n",
    "bucket_name = 'genesis_bucket_7'\n",
    "data_path = '../myData/genesisSQL'\n",
    "tgt_base_dir = 'genesisTabla'\n",
    "bucket = gsclient.get_bucket('genesis_bucket_7')\n",
    "files = list(filter(lambda item:os.path.isfile(item), scripts_files ))\n",
    "print(files)\n",
    "for script in files:\n",
    "    print(f'El archivo: {script}')\n",
    "    #blob_suffix = data_path.split('/')[2:3][0]\n",
    "    #print(blob_suffix)\n",
    "    file_name = script.split('/')[3:4][0]\n",
    "    blob_name = f'{tgt_base_dir}/{file_name}'\n",
    "    print(f'Se está subiendo a: {blob_name}')\n",
    "    blob = bucket.blob(blob_name)\n",
    "    print(blob)\n",
    "    blob.upload_from_filename(script)\n",
    "    print(f'Subido correctamente')\n"
   ]
  },
  {
   "cell_type": "code",
   "execution_count": null,
   "id": "667af9c9",
   "metadata": {},
   "outputs": [],
   "source": []
  },
  {
   "cell_type": "code",
   "execution_count": null,
   "id": "682fb837",
   "metadata": {},
   "outputs": [],
   "source": []
  },
  {
   "cell_type": "code",
   "execution_count": null,
   "id": "8ce154eb",
   "metadata": {},
   "outputs": [],
   "source": []
  },
  {
   "cell_type": "code",
   "execution_count": null,
   "id": "7694f30c",
   "metadata": {},
   "outputs": [],
   "source": []
  },
  {
   "cell_type": "code",
   "execution_count": null,
   "id": "60f475ce",
   "metadata": {},
   "outputs": [],
   "source": []
  }
 ],
 "metadata": {
  "kernelspec": {
   "display_name": "Python 3 (ipykernel)",
   "language": "python",
   "name": "python3"
  },
  "language_info": {
   "codemirror_mode": {
    "name": "ipython",
    "version": 3
   },
   "file_extension": ".py",
   "mimetype": "text/x-python",
   "name": "python",
   "nbconvert_exporter": "python",
   "pygments_lexer": "ipython3",
   "version": "3.10.9"
  }
 },
 "nbformat": 4,
 "nbformat_minor": 5
}
