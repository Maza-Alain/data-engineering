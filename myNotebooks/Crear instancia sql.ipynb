{
 "cells": [
  {
   "cell_type": "code",
   "execution_count": null,
   "id": "c630d5c4",
   "metadata": {},
   "outputs": [],
   "source": [
    "!gcloud sql instances create sql-training --database-version=POSTGRES_14 --cpu=2 --memory=6GB --region=us-central1 --root-password=qwerty      \n"
   ]
  },
  {
   "cell_type": "code",
   "execution_count": null,
   "id": "5c1a60b1",
   "metadata": {},
   "outputs": [],
   "source": [
    "!gcloud sql instances list\n"
   ]
  },
  {
   "cell_type": "code",
   "execution_count": null,
   "id": "3345dcf6",
   "metadata": {},
   "outputs": [],
   "source": [
    "!gcloud sql connect sql-training --user=root\n"
   ]
  },
  {
   "cell_type": "code",
   "execution_count": null,
   "id": "a7235ddc",
   "metadata": {},
   "outputs": [],
   "source": [
    "!gcloud sql databases create training --instance=sql-training"
   ]
  },
  {
   "cell_type": "code",
   "execution_count": null,
   "id": "3ffe0cf9",
   "metadata": {},
   "outputs": [],
   "source": [
    "import psycopg2\n",
    "conn = psycopg2.connect(\n",
    "    host='35.223.141.206',\n",
    "    port=5432,\n",
    "    database='aprendiendo',\n",
    "    user='aprendiendo_user',\n",
    "    password='qwerty'\n",
    "    \n",
    ")"
   ]
  }
 ],
 "metadata": {
  "kernelspec": {
   "display_name": "Python 3 (ipykernel)",
   "language": "python",
   "name": "python3"
  },
  "language_info": {
   "codemirror_mode": {
    "name": "ipython",
    "version": 3
   },
   "file_extension": ".py",
   "mimetype": "text/x-python",
   "name": "python",
   "nbconvert_exporter": "python",
   "pygments_lexer": "ipython3",
   "version": "3.10.9"
  }
 },
 "nbformat": 4,
 "nbformat_minor": 5
}
