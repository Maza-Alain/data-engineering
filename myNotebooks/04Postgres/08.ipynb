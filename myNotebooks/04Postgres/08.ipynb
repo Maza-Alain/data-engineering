{
 "cells": [
  {
   "cell_type": "code",
   "execution_count": 1,
   "id": "a27bbb2c",
   "metadata": {},
   "outputs": [],
   "source": [
    "import psycopg2"
   ]
  },
  {
   "cell_type": "code",
   "execution_count": 2,
   "id": "3c344c36",
   "metadata": {},
   "outputs": [],
   "source": [
    "conn = psycopg2.connect(\n",
    "    host='35.223.141.206',\n",
    "    port=5432,\n",
    "    database='aprendiendo',\n",
    "    user='aprendiendo_user',\n",
    "    password='qwerty'\n",
    "    \n",
    ")"
   ]
  },
  {
   "cell_type": "code",
   "execution_count": 3,
   "id": "869f0ee3",
   "metadata": {},
   "outputs": [],
   "source": [
    "cur = conn.cursor()"
   ]
  },
  {
   "cell_type": "code",
   "execution_count": 4,
   "id": "6089e990",
   "metadata": {},
   "outputs": [],
   "source": [
    "cur.execute('SELECT * FROM orders LIMIT 10')"
   ]
  },
  {
   "cell_type": "code",
   "execution_count": 5,
   "id": "cb124f0c",
   "metadata": {},
   "outputs": [
    {
     "data": {
      "text/plain": [
       "[(1, datetime.datetime(2013, 7, 25, 0, 0), 11599, 'CLOSED'),\n",
       " (2, datetime.datetime(2013, 7, 25, 0, 0), 256, 'PENDING_PAYMENT'),\n",
       " (3, datetime.datetime(2013, 7, 25, 0, 0), 12111, 'COMPLETE'),\n",
       " (4, datetime.datetime(2013, 7, 25, 0, 0), 8827, 'CLOSED'),\n",
       " (5, datetime.datetime(2013, 7, 25, 0, 0), 11318, 'COMPLETE'),\n",
       " (6, datetime.datetime(2013, 7, 25, 0, 0), 7130, 'COMPLETE'),\n",
       " (7, datetime.datetime(2013, 7, 25, 0, 0), 4530, 'COMPLETE'),\n",
       " (8, datetime.datetime(2013, 7, 25, 0, 0), 2911, 'PROCESSING'),\n",
       " (9, datetime.datetime(2013, 7, 25, 0, 0), 5657, 'PENDING_PAYMENT'),\n",
       " (10, datetime.datetime(2013, 7, 25, 0, 0), 5648, 'PENDING_PAYMENT')]"
      ]
     },
     "execution_count": 5,
     "metadata": {},
     "output_type": "execute_result"
    }
   ],
   "source": [
    "cur.fetchall()"
   ]
  },
  {
   "cell_type": "code",
   "execution_count": 6,
   "id": "8fbd50c2",
   "metadata": {},
   "outputs": [],
   "source": [
    "cur.execute('''\n",
    "    SELECT order_status,\n",
    "        count(*) AS order_count\n",
    "    FROM orders\n",
    "    GROUP BY 1\n",
    "    ORDER BY 2 DESC\n",
    "''')"
   ]
  },
  {
   "cell_type": "code",
   "execution_count": 7,
   "id": "c5949470",
   "metadata": {},
   "outputs": [
    {
     "data": {
      "text/plain": [
       "[('COMPLETE', 22899),\n",
       " ('PENDING_PAYMENT', 15030),\n",
       " ('PROCESSING', 8275),\n",
       " ('PENDING', 7610),\n",
       " ('CLOSED', 7556),\n",
       " ('ON_HOLD', 3798),\n",
       " ('SUSPECTED_FRAUD', 1558),\n",
       " ('CANCELED', 1428),\n",
       " ('PAYMENT_REVIEW', 729)]"
      ]
     },
     "execution_count": 7,
     "metadata": {},
     "output_type": "execute_result"
    }
   ],
   "source": [
    "cur.fetchall()"
   ]
  },
  {
   "cell_type": "code",
   "execution_count": null,
   "id": "ad393632",
   "metadata": {},
   "outputs": [],
   "source": []
  }
 ],
 "metadata": {
  "kernelspec": {
   "display_name": "Python 3 (ipykernel)",
   "language": "python",
   "name": "python3"
  },
  "language_info": {
   "codemirror_mode": {
    "name": "ipython",
    "version": 3
   },
   "file_extension": ".py",
   "mimetype": "text/x-python",
   "name": "python",
   "nbconvert_exporter": "python",
   "pygments_lexer": "ipython3",
   "version": "3.10.9"
  }
 },
 "nbformat": 4,
 "nbformat_minor": 5
}
